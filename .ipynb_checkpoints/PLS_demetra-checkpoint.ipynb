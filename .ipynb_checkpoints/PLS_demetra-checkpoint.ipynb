{
 "cells": [
  {
   "cell_type": "code",
   "execution_count": 1,
   "metadata": {
    "ExecuteTime": {
     "end_time": "2024-05-06T13:55:28.995943306Z",
     "start_time": "2024-05-06T13:55:21.939831926Z"
    },
    "id": "fS_B5rHBplPy"
   },
   "outputs": [
    {
     "name": "stderr",
     "output_type": "stream",
     "text": [
      "/home/giovanni/.local/lib/python3.10/site-packages/matplotlib/projections/__init__.py:63: UserWarning: Unable to import Axes3D. This may be due to multiple versions of Matplotlib being installed (e.g. as a system package and as a pip package). As a result, the 3D projection is not available.\n",
      "  warnings.warn(\"Unable to import Axes3D. This may be due to multiple versions of \"\n"
     ]
    }
   ],
   "source": [
    "import pandas as pd\n",
    "import numpy as np\n",
    "from sklearn.metrics import mean_squared_error, PredictionErrorDisplay\n",
    "import matplotlib.pyplot as plt\n",
    "from sklearn.model_selection import train_test_split, GridSearchCV\n",
    "from tabulate import tabulate\n",
    "from sklearn.cross_decomposition import PLSRegression\n",
    "import mlflow\n",
    "\n",
    "path = 'SAMPLE_DATA_SET.xlsx'\n",
    "\n",
    "# Read and load dataset\n",
    "df= pd.read_excel(path, sheet_name=[0, 1])"
   ]
  },
  {
   "cell_type": "markdown",
   "metadata": {
    "id": "uJF7TRLwqIio"
   },
   "source": [
    "INPUT DATA"
   ]
  },
  {
   "cell_type": "code",
   "execution_count": 2,
   "metadata": {
    "ExecuteTime": {
     "end_time": "2024-05-06T13:55:29.017422157Z",
     "start_time": "2024-05-06T13:55:28.994968837Z"
    },
    "colab": {
     "base_uri": "https://localhost:8080/"
    },
    "id": "Gr_HSkdhqITQ",
    "outputId": "8e5b6b35-42ef-4c7a-ea98-73fbfc9125d5"
   },
   "outputs": [
    {
     "name": "stdout",
     "output_type": "stream",
     "text": [
      "(839, 444)\n"
     ]
    }
   ],
   "source": [
    "X =df.get(0)\n",
    "X = (X.iloc[:,1:]).values\n",
    "X = X.T\n",
    "print(X.shape)"
   ]
  },
  {
   "cell_type": "markdown",
   "metadata": {
    "id": "8GiHJiDMqK0Q"
   },
   "source": [
    "OUTPUT DATA"
   ]
  },
  {
   "cell_type": "code",
   "execution_count": 3,
   "metadata": {
    "ExecuteTime": {
     "end_time": "2024-05-06T13:55:29.018056038Z",
     "start_time": "2024-05-06T13:55:29.001759573Z"
    },
    "colab": {
     "base_uri": "https://localhost:8080/"
    },
    "id": "NH1AufFzqN6B",
    "outputId": "40567b77-6f23-4c14-e372-3c20114b012a"
   },
   "outputs": [
    {
     "name": "stdout",
     "output_type": "stream",
     "text": [
      "(839, 2)\n"
     ]
    }
   ],
   "source": [
    "Y =df.get(1)\n",
    "Y = (Y.iloc[:,:]).values\n",
    "print(Y.shape)"
   ]
  },
  {
   "cell_type": "code",
   "execution_count": null,
   "metadata": {
    "ExecuteTime": {
     "end_time": "2024-05-06T14:53:37.168185690Z",
     "start_time": "2024-05-06T14:52:53.592728170Z"
    },
    "colab": {
     "base_uri": "https://localhost:8080/",
     "height": 1000
    },
    "id": "ICiff1sQqQAq",
    "outputId": "afb09476-7f01-40af-bad9-64e8b29f2b76"
   },
   "outputs": [
    {
     "name": "stderr",
     "output_type": "stream",
     "text": [
      "2024/05/09 18:05:39 INFO mlflow.tracking.fluent: Experiment with name 'PLS Demetra Parameter 1' does not exist. Creating a new experiment.\n"
     ]
    },
    {
     "name": "stdout",
     "output_type": "stream",
     "text": [
      "Param 1\n",
      "2 components\n",
      "3 components\n",
      "4 components\n",
      "5 components\n",
      "6 components\n",
      "7 components\n",
      "8 components\n",
      "9 components\n",
      "10 components\n",
      "11 components\n",
      "12 components\n",
      "13 components\n",
      "14 components\n",
      "15 components\n",
      "16 components\n",
      "17 components\n",
      "18 components\n",
      "19 components\n",
      "20 components\n",
      "21 components\n",
      "22 components\n",
      "23 components\n",
      "24 components\n",
      "25 components\n",
      "26 components\n",
      "27 components\n",
      "28 components\n",
      "29 components\n",
      "30 components\n"
     ]
    },
    {
     "name": "stderr",
     "output_type": "stream",
     "text": [
      "2024/05/09 18:18:04 INFO mlflow.tracking.fluent: Experiment with name 'PLS Demetra Parameter 2' does not exist. Creating a new experiment.\n"
     ]
    },
    {
     "name": "stdout",
     "output_type": "stream",
     "text": [
      "Param 2\n",
      "2 components\n",
      "3 components\n",
      "4 components\n",
      "5 components\n",
      "6 components\n",
      "7 components\n",
      "8 components\n",
      "9 components\n",
      "10 components\n",
      "11 components\n",
      "12 components\n",
      "13 components\n"
     ]
    }
   ],
   "source": [
    "\n",
    "mlflow.set_experiment(\"PLS Demetra Parameter 1\")\n",
    "mlflow.set_tracking_uri(uri=\"http://127.0.0.1:5000\")\n",
    "\n",
    "'''PARAM 1'''\n",
    "print(\"Param 1\")\n",
    "for n_components in range(2,31):\n",
    "    # number of trials\n",
    "    trials = 100\n",
    "    np.random.seed(42)\n",
    "    seeds = np.random.randint(trials, size=trials)\n",
    "    \n",
    "    ripartisions = [i / 100 for i in range(5, 55, 5)]\n",
    "    print(str(n_components) + \" components\" )\n",
    "    for ripartition in ripartisions:\n",
    "        \n",
    "        MSE_param1 = []   \n",
    "        best_MSE_1 = 100000000\n",
    "        best_data_1 = {\"Y_test\": None, \"Y_pred\": None}\n",
    "    \n",
    "        run_name = str(n_components) + \" components \" + str(ripartition) + \" ripartition\"\n",
    "        with mlflow.start_run(run_name=run_name):\n",
    "            i = 0\n",
    "            mlflow.log_param('ripartition', ripartition)\n",
    "            mlflow.log_param('no. components', n_components)\n",
    "            for i in range(trials):\n",
    "                # Tell mlflow to log the following parameters for the experiments dashboard\n",
    "                # Ripartition in training and test and\n",
    "                X_train, X_test, Y_train, Y_test = train_test_split(X, Y[:, 0], test_size=ripartition, random_state=seeds[i])\n",
    "                pls_model = PLSRegression(n_components=n_components)\n",
    "        \n",
    "                pls_model.fit(X_train, Y_train)\n",
    "        \n",
    "                # Make predictions using the testing set\n",
    "                Y_pred_pls = pls_model.predict(X_test)\n",
    "        \n",
    "                # save MSE of the first parameters\n",
    "                MSE_param1.append(mean_squared_error(Y_test, Y_pred_pls))\n",
    "        \n",
    "                # check if this is the best model in terms of MSE\n",
    "                if MSE_param1[-1] < best_MSE_1:\n",
    "                    best_MSE_1 = MSE_param1[-1]\n",
    "                    best_data_1[\"Y_test\"] = Y_test\n",
    "                    best_data_1[\"Y_pred\"] = Y_pred_pls\n",
    "                    \n",
    "            mlflow.log_metric(\"Best_MSE1\", best_MSE_1)\n",
    "            mlflow.log_metric(\"Mean_MSE1\", np.mean(MSE_param1))\n",
    "            mlflow.log_metric(\"Var_MSE1\", np.var(MSE_param1))\n",
    "\n",
    "\n",
    "mlflow.set_experiment(\"PLS Demetra Parameter 2\")\n",
    "'''PARAM 2'''\n",
    "print(\"Param 2\")\n",
    "for n_components in range(2,31):\n",
    "    # number of trials\n",
    "    trials = 100\n",
    "    np.random.seed(42)\n",
    "    seeds = np.random.randint(trials, size=trials)\n",
    "    print(str(n_components) + \" components\" )\n",
    "    ripartisions = [i / 100 for i in range(5, 55, 5)]\n",
    "    \n",
    "    for ripartition in ripartisions:\n",
    "\n",
    "        MSE_param2 = []\n",
    "        best_MSE_2 = 100000000\n",
    "        best_data_2 = {\"Y_test\": None, \"Y_pred\": None}\n",
    "        run_name = str(n_components) + \" components \" + str(ripartition) + \" ripartition\"\n",
    "        with mlflow.start_run(run_name=run_name):\n",
    "            i = 0\n",
    "            mlflow.log_param('ripartition', ripartition)\n",
    "            mlflow.log_param('no. components', n_components)\n",
    "            for i in range(trials):\n",
    "        \n",
    "                X_train, X_test, Y_train, Y_test = train_test_split(X, Y[:, 1], test_size=ripartition, random_state=seeds[i])\n",
    "                pls_model = PLSRegression(n_components=n_components)\n",
    "        \n",
    "                pls_model.fit(X_train, Y_train)\n",
    "        \n",
    "                # Make predictions using the testing set\n",
    "                Y_pred_pls= pls_model.predict(X_test)\n",
    "        \n",
    "                # save MSE of the second parameters\n",
    "                MSE_param2.append(mean_squared_error(Y_test, Y_pred_pls))\n",
    "        \n",
    "                # check if this is the best model in terms of MSE\n",
    "                if MSE_param2[-1] < best_MSE_2:\n",
    "                    best_MSE_2 = MSE_param2[-1]\n",
    "                    best_data_2[\"Y_test\"] = Y_test\n",
    "                    best_data_2[\"Y_pred\"] = Y_pred_pls\n",
    "        \n",
    "            \n",
    "            mlflow.log_metric(\"Best_MSE2\", best_MSE_2)\n",
    "            mlflow.log_metric(\"Mean_MSE2\", np.mean(MSE_param2))\n",
    "            mlflow.log_metric(\"Var_MSE2\", np.var(MSE_param2))\n",
    "            \n"
   ]
  },
  {
   "cell_type": "code",
   "execution_count": null,
   "metadata": {
    "ExecuteTime": {
     "start_time": "2024-05-06T13:56:30.159520330Z"
    },
    "jupyter": {
     "outputs_hidden": false
    }
   },
   "outputs": [],
   "source": []
  }
 ],
 "metadata": {
  "colab": {
   "provenance": []
  },
  "kernelspec": {
   "display_name": "Python 3 (ipykernel)",
   "language": "python",
   "name": "python3"
  },
  "language_info": {
   "codemirror_mode": {
    "name": "ipython",
    "version": 3
   },
   "file_extension": ".py",
   "mimetype": "text/x-python",
   "name": "python",
   "nbconvert_exporter": "python",
   "pygments_lexer": "ipython3",
   "version": "3.10.12"
  }
 },
 "nbformat": 4,
 "nbformat_minor": 4
}
