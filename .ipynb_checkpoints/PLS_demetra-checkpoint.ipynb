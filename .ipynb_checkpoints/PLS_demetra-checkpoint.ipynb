{
 "cells": [
  {
   "cell_type": "code",
   "execution_count": 1,
   "metadata": {
    "ExecuteTime": {
     "end_time": "2024-05-06T13:55:28.995943306Z",
     "start_time": "2024-05-06T13:55:21.939831926Z"
    },
    "id": "fS_B5rHBplPy"
   },
   "outputs": [],
   "source": [
    "import pandas as pd\n",
    "import numpy as np\n",
    "from sklearn.metrics import mean_squared_error, PredictionErrorDisplay\n",
    "import matplotlib.pyplot as plt\n",
    "from sklearn.model_selection import train_test_split, GridSearchCV\n",
    "from tabulate import tabulate\n",
    "from sklearn.cross_decomposition import PLSRegression\n",
    "import mlflow\n",
    "\n",
    "path = 'SAMPLE_DATA_SET.xlsx'\n",
    "\n",
    "# Read and load dataset\n",
    "df= pd.read_excel(path, sheet_name=[0, 1])"
   ]
  },
  {
   "cell_type": "markdown",
   "metadata": {
    "id": "uJF7TRLwqIio"
   },
   "source": [
    "INPUT DATA"
   ]
  },
  {
   "cell_type": "code",
   "execution_count": 2,
   "metadata": {
    "ExecuteTime": {
     "end_time": "2024-05-06T13:55:29.017422157Z",
     "start_time": "2024-05-06T13:55:28.994968837Z"
    },
    "colab": {
     "base_uri": "https://localhost:8080/"
    },
    "id": "Gr_HSkdhqITQ",
    "outputId": "8e5b6b35-42ef-4c7a-ea98-73fbfc9125d5"
   },
   "outputs": [
    {
     "name": "stdout",
     "output_type": "stream",
     "text": [
      "(839, 444)\n"
     ]
    }
   ],
   "source": [
    "X =df.get(0)\n",
    "X = (X.iloc[:,1:]).values\n",
    "X = X.T\n",
    "print(X.shape)"
   ]
  },
  {
   "cell_type": "markdown",
   "metadata": {
    "id": "8GiHJiDMqK0Q"
   },
   "source": [
    "OUTPUT DATA"
   ]
  },
  {
   "cell_type": "code",
   "execution_count": 3,
   "metadata": {
    "ExecuteTime": {
     "end_time": "2024-05-06T13:55:29.018056038Z",
     "start_time": "2024-05-06T13:55:29.001759573Z"
    },
    "colab": {
     "base_uri": "https://localhost:8080/"
    },
    "id": "NH1AufFzqN6B",
    "outputId": "40567b77-6f23-4c14-e372-3c20114b012a"
   },
   "outputs": [
    {
     "name": "stdout",
     "output_type": "stream",
     "text": [
      "(839, 2)\n"
     ]
    }
   ],
   "source": [
    "Y =df.get(1)\n",
    "Y = (Y.iloc[:,:]).values\n",
    "print(Y.shape)"
   ]
  },
  {
   "cell_type": "code",
   "execution_count": 13,
   "metadata": {},
   "outputs": [
    {
     "name": "stdout",
     "output_type": "stream",
     "text": [
      "[[0.06417113 0.06483447 0.06550327 ... 0.39466706 0.39299677 0.39129164]\n",
      " [0.12033977 0.12280449 0.12538263 ... 0.47134405 0.46753118 0.46345874]\n",
      " [0.10807583 0.11070238 0.11337989 ... 0.45610453 0.4542271  0.45227506]\n",
      " ...\n",
      " [0.20127608 0.20258463 0.20379779 ... 0.40942987 0.41020758 0.41114899]\n",
      " [0.20548144 0.20644856 0.20735227 ... 0.43736083 0.43532781 0.43315283]\n",
      " [0.2065847  0.20720449 0.20779776 ... 0.43238588 0.42933803 0.42606486]]\n"
     ]
    }
   ],
   "source": [
    "print(X)"
   ]
  },
  {
   "cell_type": "code",
   "execution_count": 14,
   "metadata": {
    "ExecuteTime": {
     "end_time": "2024-05-06T14:53:37.168185690Z",
     "start_time": "2024-05-06T14:52:53.592728170Z"
    },
    "colab": {
     "base_uri": "https://localhost:8080/",
     "height": 1000
    },
    "id": "ICiff1sQqQAq",
    "outputId": "afb09476-7f01-40af-bad9-64e8b29f2b76"
   },
   "outputs": [
    {
     "ename": "IndentationError",
     "evalue": "unexpected indent (1298904329.py, line 93)",
     "output_type": "error",
     "traceback": [
      "\u001b[0;36m  Cell \u001b[0;32mIn[14], line 93\u001b[0;36m\u001b[0m\n\u001b[0;31m    '''PLOT THE BEST MODELS'''\u001b[0m\n\u001b[0m    ^\u001b[0m\n\u001b[0;31mIndentationError\u001b[0m\u001b[0;31m:\u001b[0m unexpected indent\n"
     ]
    }
   ],
   "source": [
    "\n",
    "mlflow.set_experiment(\"PLS Demetra\")\n",
    "mlflow.set_tracking_uri(uri=\"http://127.0.0.1:5000\")\n",
    "\n",
    "\n",
    "for n_components in range(2,31):\n",
    "    # number of trials\n",
    "    trials = 100\n",
    "    np.random.seed(42)\n",
    "    seeds = np.random.randint(trials, size=trials)\n",
    "    \n",
    "    ripartisions = [i / 100 for i in range(5, 55, 5)]\n",
    "    results = []\n",
    "    \n",
    "    # create 5x2 subfigs\n",
    "    #fig = plt.figure(constrained_layout=True, figsize=(20, 25))\n",
    "    #fig.suptitle('PLS regression test'+\"\\n\"+ f\"Number of components: {n_components}\"+\"\\n\")\n",
    "    #subfigs = fig.subfigures(nrows=5, ncols=2).flatten()\n",
    "    k = 0\n",
    "    \n",
    "    for ripartition in ripartisions:\n",
    "        \n",
    "        '''PARAM 1'''\n",
    "    \n",
    "        MSE_param1 = []\n",
    "    \n",
    "        best_MSE_1 = 100000000\n",
    "        best_data_1 = {\"Y_test\": None, \"Y_pred\": None,\"seed\":None}\n",
    "    \n",
    "        '''PARAM 2'''\n",
    "        MSE_param2 = []\n",
    "    \n",
    "        best_MSE_2 = 100000000\n",
    "        best_data_2 = {\"Y_test\": None, \"Y_pred\": None,\"seed\":None}\n",
    "        \n",
    "        name_experiment = str(n_components) + \" components \" + str(ripartition) + \" ripartition\"\n",
    "        with mlflow.start_run(run_name=name_experiment):\n",
    "            i = 0\n",
    "            mlflow.log_param('ripartition', ripartition)\n",
    "            mlflow.log_param('no. components', n_components)\n",
    "            for i in range(trials):\n",
    "                # Tell mlflow to log the following parameters for the experiments dashboard\n",
    "                # Ripartition in training and test and\n",
    "                X_train, X_test, Y_train, Y_test = train_test_split(X, Y[:, 0], test_size=ripartition, random_state=seeds[i])\n",
    "                pls_model = PLSRegression(n_components=n_components)\n",
    "        \n",
    "                pls_model.fit(X_train, Y_train)\n",
    "        \n",
    "                # Make predictions using the testing set\n",
    "                Y_pred_pls = pls_model.predict(X_test)\n",
    "        \n",
    "                # save MSE of the first parameters\n",
    "                MSE_param1.append(mean_squared_error(Y_test, Y_pred_pls))\n",
    "        \n",
    "                # check if this is the best model in terms of MSE\n",
    "                if MSE_param1[-1] < best_MSE_1:\n",
    "                    best_MSE_1 = MSE_param1[-1]\n",
    "                    best_data_1[\"Y_test\"] = Y_test\n",
    "                    best_data_1[\"Y_pred\"] = Y_pred_pls\n",
    "                    best_data_1[\"seed\"] = seeds[i]\n",
    "        \n",
    "                X_train, X_test, Y_train, Y_test = train_test_split(X, Y[:, 1], test_size=ripartition, random_state=seeds[i])\n",
    "                pls_model = PLSRegression(n_components=n_components)\n",
    "        \n",
    "                pls_model.fit(X_train, Y_train)\n",
    "        \n",
    "                # Make predictions using the testing set\n",
    "                Y_pred_pls= pls_model.predict(X_test)\n",
    "        \n",
    "                # save MSE of the second parameters\n",
    "                MSE_param2.append(mean_squared_error(Y_test, Y_pred_pls))\n",
    "        \n",
    "                # check if this is the best model in terms of MSE\n",
    "                if MSE_param2[-1] < best_MSE_2:\n",
    "                    best_MSE_2 = MSE_param2[-1]\n",
    "                    best_data_2[\"Y_test\"] = Y_test\n",
    "                    best_data_2[\"Y_pred\"] = Y_pred_pls\n",
    "                    best_data_2[\"seed\"] = seeds[i]\n",
    "        \n",
    "            \n",
    "            \n",
    "            mlflow.log_metric(\"Best_MSE1\", best_MSE_1)\n",
    "            mlflow.log_metric(\"Best_MSE2\", best_MSE_2)\n",
    "            mlflow.log_metric(\"Mean_MSE1\", np.mean(MSE_param1))\n",
    "            mlflow.log_metric(\"Mean_MSE2\", np.mean(MSE_param2))\n",
    "            mlflow.log_metric(\"Var_MSE1\", np.var(MSE_param1))\n",
    "            mlflow.log_metric(\"Var_MSE2\", np.var(MSE_param2))\n",
    "            \n",
    "        results.append([str(ripartition * 100), str(best_MSE_1), str(best_MSE_2),\n",
    "                        (np.mean(MSE_param1)), str(np.mean(MSE_param2)), str(np.var(MSE_param1)), str(np.var(MSE_param2)),\n",
    "                         best_data_1[\"seed\"],best_data_2[\"seed\"]])\n",
    "    \n",
    "            \n",
    "        '''PLOT THE BEST MODELS'''\n",
    "        '''\n",
    "        subfigs[k].suptitle(\"PLS Regression\" + \"\\n\" + \"Best MSE results\" + \"\\n\" + f\"Test size(%): {ripartition * 100}\")\n",
    "        # create 1x2 subplots per subfig\n",
    "        axs = subfigs[k].subplots(nrows=1, ncols=2)\n",
    "        axs[0].scatter(best_data_1[\"Y_test\"], best_data_1[\"Y_pred\"], c='blue', label='Actual vs Predicted')\n",
    "        axs[0].plot([min(best_data_1[\"Y_test\"]), max(best_data_1[\"Y_test\"])],\n",
    "                    [min(best_data_1[\"Y_test\"]), max(best_data_1[\"Y_test\"])], '--', c='red', label='Perfect Prediction')\n",
    "        axs[0].legend()\n",
    "        axs[0].set_xlabel(\"Actual values\")\n",
    "        axs[0].set_ylabel(\"Predicted value\")\n",
    "        axs[0].set_title(\"Parameter 1\"+\"\\n\"+ \"MSE: \"+ str(best_MSE_1))\n",
    "        axs[1].scatter(best_data_2[\"Y_test\"], best_data_2[\"Y_pred\"], c='blue', label='Actual vs Predicted')\n",
    "        axs[1].plot([min(best_data_2[\"Y_test\"]), max(best_data_2[\"Y_test\"])],\n",
    "                    [min(best_data_2[\"Y_test\"]), max(best_data_2[\"Y_test\"])], '--', c='red', label='Perfect Prediction')\n",
    "        axs[1].legend()\n",
    "        axs[1].set_xlabel(\"Actual values\")\n",
    "        axs[1].set_ylabel(\"Predicted value\")\n",
    "        axs[1].set_title(\"Parameter 2\" + \"\\n\"+ \"MSE: \"+ str(best_MSE_2))\n",
    "        k += 1\n",
    "        '''\n",
    "    '''\n",
    "    '''SHOW RESULTS'''\n",
    "    #headers = [\"Test size(%)\", \"Best(MSE1)\", \"Best(MSE2)\", \"Mean(MSE1)\", \"Mean(MSE2)\", \"Var(MSE1)\", \"Var(MSE2)\",\"Seed1\",\"Seed2\"]\n",
    "    \n",
    "    #print(tabulate(results, headers, tablefmt=\"double_outline\"))\n",
    "\n"
   ]
  },
  {
   "cell_type": "code",
   "execution_count": null,
   "metadata": {
    "ExecuteTime": {
     "start_time": "2024-05-06T13:56:30.159520330Z"
    },
    "collapsed": false,
    "jupyter": {
     "outputs_hidden": false
    }
   },
   "outputs": [],
   "source": []
  }
 ],
 "metadata": {
  "colab": {
   "provenance": []
  },
  "kernelspec": {
   "display_name": "Python 3 (ipykernel)",
   "language": "python",
   "name": "python3"
  },
  "language_info": {
   "codemirror_mode": {
    "name": "ipython",
    "version": 3
   },
   "file_extension": ".py",
   "mimetype": "text/x-python",
   "name": "python",
   "nbconvert_exporter": "python",
   "pygments_lexer": "ipython3",
   "version": "3.10.12"
  }
 },
 "nbformat": 4,
 "nbformat_minor": 4
}
