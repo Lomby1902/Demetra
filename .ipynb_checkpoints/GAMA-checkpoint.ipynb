{
 "cells": [
  {
   "cell_type": "code",
   "execution_count": 3,
   "metadata": {
    "executionInfo": {
     "elapsed": 10452,
     "status": "ok",
     "timestamp": 1717149455727,
     "user": {
      "displayName": "Giovanni Lombardo",
      "userId": "17752443154386048654"
     },
     "user_tz": -120
    },
    "id": "nvu2sasMEmuX"
   },
   "outputs": [],
   "source": [
    "import pandas as pd\n",
    "import mlflow\n",
    "path = 'SAMPLE_DATA_SET.xlsx'\n",
    "\n",
    "# Read and load dataset\n",
    "df= pd.read_excel(path, sheet_name=[0, 1])"
   ]
  },
  {
   "cell_type": "code",
   "execution_count": 4,
   "metadata": {
    "colab": {
     "base_uri": "https://localhost:8080/"
    },
    "executionInfo": {
     "elapsed": 10,
     "status": "ok",
     "timestamp": 1717149455728,
     "user": {
      "displayName": "Giovanni Lombardo",
      "userId": "17752443154386048654"
     },
     "user_tz": -120
    },
    "id": "8LZeWGbBE86B",
    "outputId": "86140486-6538-46f7-96a9-bab99cd996f4"
   },
   "outputs": [
    {
     "name": "stdout",
     "output_type": "stream",
     "text": [
      "(839, 444)\n"
     ]
    }
   ],
   "source": [
    "X =df.get(0)\n",
    "X = (X.iloc[:,1:]).values\n",
    "X = X.T\n",
    "print(X.shape)"
   ]
  },
  {
   "cell_type": "code",
   "execution_count": 5,
   "metadata": {
    "colab": {
     "base_uri": "https://localhost:8080/"
    },
    "executionInfo": {
     "elapsed": 6,
     "status": "ok",
     "timestamp": 1717149455728,
     "user": {
      "displayName": "Giovanni Lombardo",
      "userId": "17752443154386048654"
     },
     "user_tz": -120
    },
    "id": "frimaTj_FHxF",
    "outputId": "5943c603-fd54-407d-8149-159e08dfbebc"
   },
   "outputs": [
    {
     "name": "stdout",
     "output_type": "stream",
     "text": [
      "(839, 2)\n"
     ]
    }
   ],
   "source": [
    "Y =df.get(1)\n",
    "Y = (Y.iloc[:,:]).values\n",
    "print(Y.shape)"
   ]
  },
  {
   "cell_type": "code",
   "execution_count": 6,
   "metadata": {
    "colab": {
     "base_uri": "https://localhost:8080/"
    },
    "executionInfo": {
     "elapsed": 164660,
     "status": "ok",
     "timestamp": 1717149657982,
     "user": {
      "displayName": "Giovanni Lombardo",
      "userId": "17752443154386048654"
     },
     "user_tz": -120
    },
    "id": "7LIFxjntEvZX",
    "outputId": "7f0cd5ce-89b8-4bc8-8051-60758cc1d007"
   },
   "outputs": [
    {
     "name": "stderr",
     "output_type": "stream",
     "text": [
      "INFO:gama.gama:Using GAMA version 23.0.0.\n",
      "INFO:gama.gama:INIT:GamaRegressor(search_space={<class 'sklearn.linear_model._coordinate_descent.ElasticNetCV'>: {'l1_ratio': array([0.  , 0.05, 0.1 , 0.15, 0.2 , 0.25, 0.3 , 0.35, 0.4 , 0.45, 0.5 ,\n",
      "       0.55, 0.6 , 0.65, 0.7 , 0.75, 0.8 , 0.85, 0.9 , 0.95, 1.  ]), 'tol': [1e-05, 0.0001, 0.001, 0.01, 0.1]}, <class 'sklearn.ensemble._forest.ExtraTreesRegressor'>: {'n_estimators': [100], 'max_features': array([0.05, 0.1 , 0.15, 0.2 , 0.25, 0.3 , 0.35, 0.4 , 0.45, 0.5 , 0.55,\n",
      "       0.6 , 0.65, 0.7 , 0.75, 0.8 , 0.85, 0.9 , 0.95, 1.  ]), 'min_samples_split': range(2, 21), 'min_samples_leaf': range(1, 21), 'bootstrap': [True, False]}, <class 'sklearn.ensemble._gb.GradientBoostingRegressor'>: {'n_estimators': [100], 'loss': ['squared_error', 'absolute_error', 'huber', 'quantile'], 'learning_rate': [0.001, 0.01, 0.1, 0.5, 1.0], 'max_depth': range(1, 11), 'min_samples_split': range(2, 21), 'min_samples_leaf': range(1, 21), 'subsample': array([0.05, 0.1 , 0.15, 0.2 , 0.25, 0.3 , 0.35, 0.4 , 0.45, 0.5 , 0.55,\n",
      "       0.6 , 0.65, 0.7 , 0.75, 0.8 , 0.85, 0.9 , 0.95, 1.  ]), 'max_features': array([0.05, 0.1 , 0.15, 0.2 , 0.25, 0.3 , 0.35, 0.4 , 0.45, 0.5 , 0.55,\n",
      "       0.6 , 0.65, 0.7 , 0.75, 0.8 , 0.85, 0.9 , 0.95, 1.  ]), 'alpha': [0.75, 0.8, 0.85, 0.9, 0.95, 0.99]}, <class 'sklearn.ensemble._weight_boosting.AdaBoostRegressor'>: {'n_estimators': [100], 'learning_rate': [0.001, 0.01, 0.1, 0.5, 1.0], 'loss': ['linear', 'square', 'exponential']}, <class 'sklearn.tree._classes.DecisionTreeRegressor'>: {'max_depth': range(1, 11), 'min_samples_split': range(2, 21), 'min_samples_leaf': range(1, 21)}, <class 'sklearn.neighbors._regression.KNeighborsRegressor'>: {'n_neighbors': range(1, 101), 'weights': ['uniform', 'distance'], 'p': [1, 2]}, <class 'sklearn.linear_model._least_angle.LassoLarsCV'>: {'normalize': [True, False]}, <class 'sklearn.svm._classes.LinearSVR'>: {'loss': ['epsilon_insensitive', 'squared_epsilon_insensitive'], 'dual': [True, False], 'tol': [1e-05, 0.0001, 0.001, 0.01, 0.1], 'C': [0.0001, 0.001, 0.01, 0.1, 0.5, 1.0, 5.0, 10.0, 15.0, 20.0, 25.0], 'epsilon': [0.0001, 0.001, 0.01, 0.1, 1.0]}, <class 'sklearn.ensemble._forest.RandomForestRegressor'>: {'n_estimators': [100], 'max_features': array([0.05, 0.1 , 0.15, 0.2 , 0.25, 0.3 , 0.35, 0.4 , 0.45, 0.5 , 0.55,\n",
      "       0.6 , 0.65, 0.7 , 0.75, 0.8 , 0.85, 0.9 , 0.95, 1.  ]), 'min_samples_split': range(2, 21), 'min_samples_leaf': range(1, 21), 'bootstrap': [True, False]}, <class 'sklearn.preprocessing._data.Binarizer'>: {'threshold': array([0.  , 0.05, 0.1 , 0.15, 0.2 , 0.25, 0.3 , 0.35, 0.4 , 0.45, 0.5 ,\n",
      "       0.55, 0.6 , 0.65, 0.7 , 0.75, 0.8 , 0.85, 0.9 , 0.95, 1.  ])}, <class 'sklearn.decomposition._fastica.FastICA'>: {'tol': array([0.  , 0.05, 0.1 , 0.15, 0.2 , 0.25, 0.3 , 0.35, 0.4 , 0.45, 0.5 ,\n",
      "       0.55, 0.6 , 0.65, 0.7 , 0.75, 0.8 , 0.85, 0.9 , 0.95, 1.  ]), 'whiten': ['unit-variance']}, <class 'sklearn.cluster._agglomerative.FeatureAgglomeration'>: {'linkage': ['ward', 'complete', 'average'], 'affinity': ['euclidean', 'l1', 'l2', 'manhattan', 'cosine', 'precomputed'], 'param_check': [<function <lambda> at 0x784583569c60>]}, <class 'sklearn.preprocessing._data.MaxAbsScaler'>: {}, <class 'sklearn.preprocessing._data.MinMaxScaler'>: {}, <class 'sklearn.preprocessing._data.Normalizer'>: {'norm': ['l1', 'l2', 'max']}, <class 'sklearn.kernel_approximation.Nystroem'>: {'kernel': ['rbf', 'cosine', 'chi2', 'laplacian', 'polynomial', 'poly', 'linear', 'additive_chi2', 'sigmoid'], 'gamma': array([0.  , 0.05, 0.1 , 0.15, 0.2 , 0.25, 0.3 , 0.35, 0.4 , 0.45, 0.5 ,\n",
      "       0.55, 0.6 , 0.65, 0.7 , 0.75, 0.8 , 0.85, 0.9 , 0.95, 1.  ]), 'n_components': range(1, 11)}, <class 'sklearn.decomposition._pca.PCA'>: {'svd_solver': ['randomized'], 'iterated_power': range(1, 11)}, <class 'sklearn.preprocessing._polynomial.PolynomialFeatures'>: {'degree': [2], 'include_bias': [False], 'interaction_only': [False]}, <class 'sklearn.kernel_approximation.RBFSampler'>: {'gamma': array([0.  , 0.05, 0.1 , 0.15, 0.2 , 0.25, 0.3 , 0.35, 0.4 , 0.45, 0.5 ,\n",
      "       0.55, 0.6 , 0.65, 0.7 , 0.75, 0.8 , 0.85, 0.9 , 0.95, 1.  ])}, <class 'sklearn.preprocessing._data.RobustScaler'>: {}, <class 'sklearn.preprocessing._data.StandardScaler'>: {}, <class 'sklearn.feature_selection._univariate_selection.SelectFwe'>: {'alpha': array([0.   , 0.001, 0.002, 0.003, 0.004, 0.005, 0.006, 0.007, 0.008,\n",
      "       0.009, 0.01 , 0.011, 0.012, 0.013, 0.014, 0.015, 0.016, 0.017,\n",
      "       0.018, 0.019, 0.02 , 0.021, 0.022, 0.023, 0.024, 0.025, 0.026,\n",
      "       0.027, 0.028, 0.029, 0.03 , 0.031, 0.032, 0.033, 0.034, 0.035,\n",
      "       0.036, 0.037, 0.038, 0.039, 0.04 , 0.041, 0.042, 0.043, 0.044,\n",
      "       0.045, 0.046, 0.047, 0.048, 0.049]), 'score_func': {<function f_regression at 0x784583542b90>: None}}, <class 'sklearn.feature_selection._univariate_selection.SelectPercentile'>: {'percentile': range(1, 100), 'score_func': {<function f_regression at 0x784583542b90>: None}}, <class 'sklearn.feature_selection._variance_threshold.VarianceThreshold'>: {'threshold': array([0.05, 0.1 , 0.15, 0.2 , 0.25, 0.3 , 0.35, 0.4 , 0.45, 0.5 , 0.55,\n",
      "       0.6 , 0.65, 0.7 , 0.75, 0.8 , 0.85, 0.9 , 0.95, 1.  ])}},scoring=neg_mean_squared_error,regularize_length=True,max_pipeline_length=None,random_state=None,max_total_time=180,max_eval_time=None,n_jobs=1,max_memory_mb=None,verbosity=30,search=AsyncEA(),post_processing=BestFitPostProcessing(),output_directory=gama_ef682b7d-2757-45dc-9dc5-161c167068ad,store=nothing,preset=simple)\n",
      "INFO:gama.utilities.generic.timekeeper:START: preprocessing default\n"
     ]
    },
    {
     "name": "stdout",
     "output_type": "stream",
     "text": [
      "Starting `fit` which will take roughly 3 minutes.\n"
     ]
    },
    {
     "name": "stderr",
     "output_type": "stream",
     "text": [
      "INFO:gama.utilities.generic.timekeeper:STOP: preprocessing default after 0.2365s.\n",
      "INFO:gama.utilities.generic.timekeeper:START: search AsyncEA\n",
      "DEBUG:gama.utilities.generic.async_evaluator:Process 210 starting 1 subprocesses.\n",
      "INFO:gama.search_methods.async_ea:Starting EA with new population.\n",
      "DEBUG:gama.utilities.generic.async_evaluator:Signaling 1 subprocesses to stop.\n",
      "INFO:gama.gama:Search phase evaluated 21 individuals.\n",
      "INFO:gama.utilities.generic.timekeeper:STOP: search AsyncEA after 161.0882s.\n",
      "INFO:gama.utilities.generic.timekeeper:START: postprocess BestFitPostProcessing\n",
      "INFO:gama.utilities.generic.timekeeper:STOP: postprocess BestFitPostProcessing after 0.3629s.\n"
     ]
    },
    {
     "name": "stdout",
     "output_type": "stream",
     "text": [
      "MSE: 2.108220070436491\n"
     ]
    }
   ],
   "source": [
    "from sklearn.datasets import load_diabetes\n",
    "from sklearn.model_selection import train_test_split\n",
    "from sklearn.metrics import mean_squared_error\n",
    "from gama import GamaRegressor\n",
    "mlflow.set_experiment(\"GAMA\")\n",
    "mlflow.set_tracking_uri(uri=\"http://127.0.0.1:5000\")\n",
    "\n",
    "if __name__ == \"__main__\":\n",
    "    with mlflow.start_run(run_name=\"GAMA AutoML 0.25 rip\"):\n",
    "        X_train, X_test, Y_train, Y_test = train_test_split(X, Y[:,0], random_state=42)\n",
    "\n",
    "        automl = GamaRegressor(max_total_time=180, store=\"nothing\", n_jobs=1)\n",
    "        print(\"Starting `fit` which will take roughly 3 minutes.\")\n",
    "        automl.fit(X_train, Y_train)\n",
    "\n",
    "        predictions = automl.predict(X_test)\n",
    "\n",
    "        print(\"MSE:\", mean_squared_error(Y_test, predictions))\n",
    "        \n",
    "        mlflow.log_parameter(\"MSE\", mean_squared_error(Y_test, predictions))"
   ]
  },
  {
   "cell_type": "code",
   "execution_count": null,
   "metadata": {
    "id": "PNzYS5a2FeUx"
   },
   "outputs": [],
   "source": []
  }
 ],
 "metadata": {
  "colab": {
   "authorship_tag": "ABX9TyMgt9q+1HbOsSkFHL+kWihI",
   "provenance": []
  },
  "kernelspec": {
   "display_name": "Python 3 (ipykernel)",
   "language": "python",
   "name": "python3"
  },
  "language_info": {
   "codemirror_mode": {
    "name": "ipython",
    "version": 3
   },
   "file_extension": ".py",
   "mimetype": "text/x-python",
   "name": "python",
   "nbconvert_exporter": "python",
   "pygments_lexer": "ipython3",
   "version": "3.10.12"
  }
 },
 "nbformat": 4,
 "nbformat_minor": 1
}
