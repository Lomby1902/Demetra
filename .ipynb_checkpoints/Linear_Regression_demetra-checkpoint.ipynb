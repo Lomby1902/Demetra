{
 "cells": [
  {
   "cell_type": "code",
   "execution_count": 1,
   "metadata": {
    "id": "pz-D0qN2HIjq"
   },
   "outputs": [],
   "source": [
    "import pandas as pd\n",
    "from sklearn.linear_model import LinearRegression\n",
    "from sklearn.metrics import mean_squared_error, PredictionErrorDisplay\n",
    "import matplotlib.pyplot as plt\n",
    "from sklearn.model_selection import train_test_split\n",
    "import numpy as np\n",
    "from tabulate import tabulate\n",
    "import mlflow\n",
    "from sklearn.linear_model import SGDRegressor\n",
    "\n",
    "\n",
    "path = 'SAMPLE_DATA_SET.xlsx'\n",
    "\n",
    "# Read and load dataset\n",
    "df= pd.read_excel(path, sheet_name=[0, 1])\n"
   ]
  },
  {
   "cell_type": "markdown",
   "metadata": {
    "id": "83zGxcI1OBFE"
   },
   "source": [
    "INPUT DATA"
   ]
  },
  {
   "cell_type": "code",
   "execution_count": 2,
   "metadata": {
    "colab": {
     "base_uri": "https://localhost:8080/"
    },
    "executionInfo": {
     "elapsed": 7,
     "status": "ok",
     "timestamp": 1713694978758,
     "user": {
      "displayName": "Giovanni Lombardo",
      "userId": "17752443154386048654"
     },
     "user_tz": -120
    },
    "id": "tfJATmwPIlYD",
    "outputId": "40bca3d4-917c-4e0d-9f9f-47213bdcfd05"
   },
   "outputs": [
    {
     "name": "stdout",
     "output_type": "stream",
     "text": [
      "(839, 444)\n"
     ]
    }
   ],
   "source": [
    "X =df.get(0)\n",
    "X = (X.iloc[:,1:]).values\n",
    "X = X.T\n",
    "print(X.shape)"
   ]
  },
  {
   "cell_type": "markdown",
   "metadata": {
    "id": "8L5kannuOIPP"
   },
   "source": [
    "OUTPUT DATA"
   ]
  },
  {
   "cell_type": "code",
   "execution_count": 3,
   "metadata": {
    "colab": {
     "base_uri": "https://localhost:8080/"
    },
    "executionInfo": {
     "elapsed": 4,
     "status": "ok",
     "timestamp": 1713694978758,
     "user": {
      "displayName": "Giovanni Lombardo",
      "userId": "17752443154386048654"
     },
     "user_tz": -120
    },
    "id": "Fxt7vhf0MWnb",
    "outputId": "e5c5a030-ac59-4b5c-d734-64182163e1e3"
   },
   "outputs": [
    {
     "name": "stdout",
     "output_type": "stream",
     "text": [
      "(839, 2)\n"
     ]
    }
   ],
   "source": [
    "Y =df.get(1)\n",
    "Y = (Y.iloc[:,:]).values\n",
    "print(Y.shape)"
   ]
  },
  {
   "cell_type": "markdown",
   "metadata": {
    "id": "n1srckEyNy4c"
   },
   "source": [
    "**LINEAR REGRESSION with SVD**"
   ]
  },
  {
   "cell_type": "code",
   "execution_count": 4,
   "metadata": {
    "colab": {
     "base_uri": "https://localhost:8080/",
     "height": 1000
    },
    "executionInfo": {
     "elapsed": 253366,
     "status": "ok",
     "timestamp": 1713695232122,
     "user": {
      "displayName": "Giovanni Lombardo",
      "userId": "17752443154386048654"
     },
     "user_tz": -120
    },
    "id": "Kc1wlCTbPRz7",
    "outputId": "37b6059c-8606-4d8a-f3b4-63772f4312a3"
   },
   "outputs": [
    {
     "name": "stderr",
     "output_type": "stream",
     "text": [
      "2024/05/07 09:39:24 INFO mlflow.tracking.fluent: Experiment with name 'Linear Regression Demetra' does not exist. Creating a new experiment.\n"
     ]
    },
    {
     "ename": "NameError",
     "evalue": "name 'n_components' is not defined",
     "output_type": "error",
     "traceback": [
      "\u001b[0;31m---------------------------------------------------------------------------\u001b[0m",
      "\u001b[0;31mNameError\u001b[0m                                 Traceback (most recent call last)",
      "Cell \u001b[0;32mIn[4], line 14\u001b[0m\n\u001b[1;32m     12\u001b[0m \u001b[38;5;66;03m# create 5x2 subfigs\u001b[39;00m\n\u001b[1;32m     13\u001b[0m fig \u001b[38;5;241m=\u001b[39m plt\u001b[38;5;241m.\u001b[39mfigure(constrained_layout\u001b[38;5;241m=\u001b[39m\u001b[38;5;28;01mTrue\u001b[39;00m, figsize\u001b[38;5;241m=\u001b[39m(\u001b[38;5;241m20\u001b[39m, \u001b[38;5;241m25\u001b[39m))\n\u001b[0;32m---> 14\u001b[0m fig\u001b[38;5;241m.\u001b[39msuptitle(\u001b[38;5;124m'\u001b[39m\u001b[38;5;124mPLS regression test\u001b[39m\u001b[38;5;124m'\u001b[39m\u001b[38;5;241m+\u001b[39m\u001b[38;5;124m\"\u001b[39m\u001b[38;5;130;01m\\n\u001b[39;00m\u001b[38;5;124m\"\u001b[39m\u001b[38;5;241m+\u001b[39m \u001b[38;5;124mf\u001b[39m\u001b[38;5;124m\"\u001b[39m\u001b[38;5;124mNumber of components: \u001b[39m\u001b[38;5;132;01m{\u001b[39;00m\u001b[43mn_components\u001b[49m\u001b[38;5;132;01m}\u001b[39;00m\u001b[38;5;124m\"\u001b[39m\u001b[38;5;241m+\u001b[39m\u001b[38;5;124m\"\u001b[39m\u001b[38;5;130;01m\\n\u001b[39;00m\u001b[38;5;124m\"\u001b[39m)\n\u001b[1;32m     15\u001b[0m subfigs \u001b[38;5;241m=\u001b[39m fig\u001b[38;5;241m.\u001b[39msubfigures(nrows\u001b[38;5;241m=\u001b[39m\u001b[38;5;241m5\u001b[39m, ncols\u001b[38;5;241m=\u001b[39m\u001b[38;5;241m2\u001b[39m)\u001b[38;5;241m.\u001b[39mflatten()\n\u001b[1;32m     16\u001b[0m k \u001b[38;5;241m=\u001b[39m \u001b[38;5;241m0\u001b[39m\n",
      "\u001b[0;31mNameError\u001b[0m: name 'n_components' is not defined"
     ]
    },
    {
     "data": {
      "text/plain": [
       "<Figure size 2000x2500 with 0 Axes>"
      ]
     },
     "metadata": {},
     "output_type": "display_data"
    }
   ],
   "source": [
    "\n",
    "mlflow.set_experiment(\"Linear Regression Demetra\")\n",
    "mlflow.set_tracking_uri(uri=\"http://127.0.0.1:5000\")\n",
    "\n",
    "#number of trials\n",
    "trials = 100\n",
    "np.random.seed(42)\n",
    "seeds = np.random.randint(trials, size=trials)\n",
    "\n",
    "ripartitions = [i/100 for i in range(5,55,5)]\n",
    "results = []  #[\"Ripartition\", \"Best_MSE1\", \"Best_MSE2\",\"MSE1_mean\",\"MSE2_mean\",\"MSE1_var\",\"MSE2_var\"]\n",
    "\n",
    "# create 5x2 subfigs\n",
    "fig = plt.figure(constrained_layout=True, figsize=(20, 25))\n",
    "fig.suptitle('Linear regression test'+\"\\n\")\n",
    "subfigs = fig.subfigures(nrows=5, ncols=2).flatten()\n",
    "k = 0\n",
    "\n",
    "for ripartition in ripartitions:\n",
    "\n",
    "    '''PARAM 1'''\n",
    "\n",
    "    MSE_param1 = []\n",
    "\n",
    "    best_MSE_1 = 100000000\n",
    "    best_data_1 = {\"Y_test\":None, \"Y_pred\":None,\"seed\":None}\n",
    "\n",
    "    '''PARAM 2'''\n",
    "    MSE_param2 = []\n",
    "\n",
    "    best_MSE_2 = 100000000\n",
    "    best_data_2 = {\"Y_test\":None, \"Y_pred\":None,\"seed\":None}\n",
    "\n",
    "    run_name = str(ripartition) + \" ripartition\"\n",
    "    with mlflow.start_run(run_name=run_name):\n",
    "\n",
    "        i = 0\n",
    "        mlflow.log_param('ripartition', ripartition)\n",
    "        for i in range(trials):\n",
    "            #Ripartition in training and test and\n",
    "            X_train, X_test, Y_train, Y_test = train_test_split(X, Y[:,0], test_size=ripartition, random_state=seeds[i])\n",
    "            regr = LinearRegression()\n",
    "    \n",
    "            # Train the model using the training sets\n",
    "            regr.fit(X_train, Y_train)\n",
    "    \n",
    "            # Make predictions using the testing set\n",
    "            Y_pred_regr_svd = regr.predict(X_test)\n",
    "    \n",
    "            #save MSE of the first parameters\n",
    "            MSE_param1.append(mean_squared_error(Y_test, Y_pred_regr_svd))\n",
    "    \n",
    "            #check if this is the best model in terms of MSE\n",
    "            if MSE_param1[-1] < best_MSE_1:\n",
    "              best_MSE_1 = MSE_param1[-1]\n",
    "              best_data_1[\"Y_test\"] = Y_test\n",
    "              best_data_1[\"Y_pred\"] = Y_pred_regr_svd\n",
    "              best_data_1[\"seed\"] = seeds[i]\n",
    "    \n",
    "    \n",
    "            X_train, X_test, Y_train, Y_test = train_test_split(X, Y[:,1], test_size=ripartition, random_state=seeds[i])\n",
    "            regr = LinearRegression()\n",
    "    \n",
    "            # Train the model using the training sets\n",
    "            regr.fit(X_train, Y_train)\n",
    "    \n",
    "            # Make predictions using the testing set\n",
    "            Y_pred_regr_svd = regr.predict(X_test)\n",
    "    \n",
    "            #save MSE of the second parameters\n",
    "            MSE_param2.append(mean_squared_error(Y_test, Y_pred_regr_svd))\n",
    "    \n",
    "            #check if this is the best model in terms of MSE\n",
    "            if MSE_param2[-1] < best_MSE_2:\n",
    "              best_MSE_2 = MSE_param2[-1]\n",
    "              best_data_2[\"Y_test\"] = Y_test\n",
    "              best_data_2[\"Y_pred\"] = Y_pred_regr_svd\n",
    "              best_data_2[\"seed\"] = seeds[i]\n",
    "                \n",
    "        mlflow.log_metric(\"Best_MSE1\", best_MSE_1)\n",
    "        mlflow.log_metric(\"Best_MSE2\", best_MSE_2)\n",
    "        mlflow.log_metric(\"Mean_MSE1\", np.mean(MSE_param1))\n",
    "        mlflow.log_metric(\"Mean_MSE2\", np.mean(MSE_param2))\n",
    "        mlflow.log_metric(\"Var_MSE1\", np.var(MSE_param1))\n",
    "        mlflow.log_metric(\"Var_MSE2\", np.var(MSE_param2))\n",
    "        \n",
    "    results.append([str(ripartition * 100), str(best_MSE_1), str(best_MSE_2),\n",
    "                    (np.mean(MSE_param1)), str(np.mean(MSE_param2)), str(np.var(MSE_param1)), str(np.var(MSE_param2)),\n",
    "                    best_data_1[\"seed\"],best_data_2[\"seed\"]])\n",
    "\n",
    "    '''PLOT THE BEST MODELS'''\n",
    "    fig, axs = plt.subplots(ncols=2, figsize=(10, 5))\n",
    "    plt.subplots_adjust(wspace=0.3)\n",
    "    PredictionErrorDisplay.from_predictions(y_true=best_data_1[\"Y_test\"], y_pred=best_data_1[\"Y_pred\"], kind = \"actual_vs_predicted\", ax=axs[0])\n",
    "    axs[0].set_title(\"Parameter 1\"+\"\\n\"+ \"MSE: \" +  str(min(MSE_param1)))\n",
    "    disp2= PredictionErrorDisplay.from_predictions(y_true=best_data_2[\"Y_test\"], y_pred=best_data_2[\"Y_pred\"], kind = \"actual_vs_predicted\", ax=axs[1])\n",
    "    axs[1].set_title(\"Parameter 2\"+\"\\n\"+ \"MSE: \" +  str(min(MSE_param2)))\n",
    "    fig.suptitle(\"Linear Regression with SVD\"+\"\\n\"+ \"Best MSE results\" + \"\\n\"+ f\"Test size(%): {ripartition * 100}\")\n",
    "    plt.tight_layout()\n",
    "    plt.show()\n",
    "\n",
    "\n",
    "'''SHOW RESULTS'''\n",
    "\n",
    "headers = [\"Test size(%)\", \"Best(MSE1)\", \"Best(MSE2)\", \"Mean(MSE1)\", \"Mean(MSE2)\", \"Var(MSE1)\", \"Var(MSE2)\",\"Seed1\",\"Seed2\"]\n",
    "\n",
    "print(tabulate(results, headers,  tablefmt=\"double_outline\"))\n"
   ]
  },
  {
   "cell_type": "markdown",
   "metadata": {
    "id": "LQ99JquXeDM4"
   },
   "source": [
    "**LINEAR REGRESSION with SGD**"
   ]
  },
  {
   "cell_type": "code",
   "execution_count": null,
   "metadata": {},
   "outputs": [],
   "source": [
    "sgd_reg = SGDRegressor(max_iter=5000, tol=1e-5, penalty=None, eta0=0.01,\n",
    "        n_iter_no_change=10, random_state=42)"
   ]
  },
  {
   "cell_type": "code",
   "execution_count": null,
   "metadata": {
    "colab": {
     "base_uri": "https://localhost:8080/",
     "height": 1000
    },
    "executionInfo": {
     "elapsed": 243150,
     "status": "ok",
     "timestamp": 1713695728484,
     "user": {
      "displayName": "Giovanni Lombardo",
      "userId": "17752443154386048654"
     },
     "user_tz": -120
    },
    "id": "SSbgrQ9neUX3",
    "outputId": "3801defb-7487-4307-9807-a4b65033ca24"
   },
   "outputs": [],
   "source": [
    "\n",
    "mlflow.set_experiment(\"Linear Regression Demetra\")\n",
    "mlflow.set_tracking_uri(uri=\"http://127.0.0.1:5000\")\n",
    "\n",
    "#number of trials\n",
    "trials = 100\n",
    "np.random.seed(42)\n",
    "seeds = np.random.randint(trials, size=trials)\n",
    "\n",
    "ripartitions = [i/100 for i in range(5,55,5)]\n",
    "results = []  #[\"Ripartition\", \"Best_MSE1\", \"Best_MSE2\",\"MSE1_mean\",\"MSE2_mean\",\"MSE1_var\",\"MSE2_var\"]\n",
    "\n",
    "# create 5x2 subfigs\n",
    "fig = plt.figure(constrained_layout=True, figsize=(20, 25))\n",
    "fig.suptitle('Linear regression test'+\"\\n\")\n",
    "subfigs = fig.subfigures(nrows=5, ncols=2).flatten()\n",
    "k = 0\n",
    "\n",
    "for ripartition in ripartitions:\n",
    "\n",
    "    '''PARAM 1'''\n",
    "\n",
    "    MSE_param1 = []\n",
    "\n",
    "    best_MSE_1 = 100000000\n",
    "    best_data_1 = {\"Y_test\":None, \"Y_pred\":None,\"seed\":None}\n",
    "\n",
    "    '''PARAM 2'''\n",
    "    MSE_param2 = []\n",
    "\n",
    "    best_MSE_2 = 100000000\n",
    "    best_data_2 = {\"Y_test\":None, \"Y_pred\":None,\"seed\":None}\n",
    "\n",
    "    run_name = str(ripartition) + \" ripartition\"\n",
    "    with mlflow.start_run(run_name=run_name):\n",
    "\n",
    "        i = 0\n",
    "        mlflow.log_param('ripartition', ripartition)\n",
    "        for i in range(trials):\n",
    "            #Ripartition in training and test and\n",
    "            X_train, X_test, Y_train, Y_test = train_test_split(X, Y[:,0], test_size=ripartition, random_state=seeds[i])\n",
    "            sgd_reg = SGDRegressor(max_iter=5000, tol=1e-5, penalty=None, eta0=0.01,\n",
    "            n_iter_no_change=10, random_state=42)\n",
    "    \n",
    "            # Train the model using the training sets\n",
    "            regr.fit(X_train, Y_train)\n",
    "    \n",
    "            # Make predictions using the testing set\n",
    "            Y_pred_regr_svd = regr.predict(X_test)\n",
    "    \n",
    "            #save MSE of the first parameters\n",
    "            MSE_param1.append(mean_squared_error(Y_test, Y_pred_regr_svd))\n",
    "    \n",
    "            #check if this is the best model in terms of MSE\n",
    "            if MSE_param1[-1] < best_MSE_1:\n",
    "              best_MSE_1 = MSE_param1[-1]\n",
    "              best_data_1[\"Y_test\"] = Y_test\n",
    "              best_data_1[\"Y_pred\"] = Y_pred_regr_svd\n",
    "              best_data_1[\"seed\"] = seeds[i]\n",
    "    \n",
    "    \n",
    "    \n",
    "        i = 0\n",
    "        for i in range(trials):\n",
    "            X_train, X_test, Y_train, Y_test = train_test_split(X, Y[:,1], test_size=ripartition, random_state=seeds[i])\n",
    "            regr = LinearRegression()\n",
    "    \n",
    "            # Train the model using the training sets\n",
    "            regr.fit(X_train, Y_train)\n",
    "    \n",
    "            # Make predictions using the testing set\n",
    "            Y_pred_regr_svd = regr.predict(X_test)\n",
    "    \n",
    "            #save MSE of the second parameters\n",
    "            MSE_param2.append(mean_squared_error(Y_test, Y_pred_regr_svd))\n",
    "    \n",
    "            #check if this is the best model in terms of MSE\n",
    "            if MSE_param2[-1] < best_MSE_2:\n",
    "              best_MSE_2 = MSE_param2[-1]\n",
    "              best_data_2[\"Y_test\"] = Y_test\n",
    "              best_data_2[\"Y_pred\"] = Y_pred_regr_svd\n",
    "              best_data_2[\"seed\"] = seeds[i]\n",
    "                \n",
    "        mlflow.log_metric(\"Best_MSE1\", best_MSE_1)\n",
    "        mlflow.log_metric(\"Best_MSE2\", best_MSE_2)\n",
    "        mlflow.log_metric(\"Mean_MSE1\", np.mean(MSE_param1))\n",
    "        mlflow.log_metric(\"Mean_MSE2\", np.mean(MSE_param2))\n",
    "        mlflow.log_metric(\"Var_MSE1\", np.var(MSE_param1))\n",
    "        mlflow.log_metric(\"Var_MSE2\", np.var(MSE_param2))\n",
    "        \n",
    "    results.append([str(ripartition * 100), str(best_MSE_1), str(best_MSE_2),\n",
    "                    (np.mean(MSE_param1)), str(np.mean(MSE_param2)), str(np.var(MSE_param1)), str(np.var(MSE_param2)),\n",
    "                    best_data_1[\"seed\"],best_data_2[\"seed\"]])\n",
    "\n",
    "    '''PLOT THE BEST MODELS'''\n",
    "    fig, axs = plt.subplots(ncols=2, figsize=(10, 5))\n",
    "    plt.subplots_adjust(wspace=0.3)\n",
    "    PredictionErrorDisplay.from_predictions(y_true=best_data_1[\"Y_test\"], y_pred=best_data_1[\"Y_pred\"], kind = \"actual_vs_predicted\", ax=axs[0])\n",
    "    axs[0].set_title(\"Parameter 1\"+\"\\n\"+ \"MSE: \" +  str(min(MSE_param1)))\n",
    "    disp2= PredictionErrorDisplay.from_predictions(y_true=best_data_2[\"Y_test\"], y_pred=best_data_2[\"Y_pred\"], kind = \"actual_vs_predicted\", ax=axs[1])\n",
    "    axs[1].set_title(\"Parameter 2\"+\"\\n\"+ \"MSE: \" +  str(min(MSE_param2)))\n",
    "    fig.suptitle(\"Linear Regression with SVD\"+\"\\n\"+ \"Best MSE results\" + \"\\n\"+ f\"Test size(%): {ripartition * 100}\")\n",
    "    plt.tight_layout()\n",
    "    plt.show()\n",
    "\n",
    "\n",
    "'''SHOW RESULTS'''\n",
    "\n",
    "headers = [\"Test size(%)\", \"Best(MSE1)\", \"Best(MSE2)\", \"Mean(MSE1)\", \"Mean(MSE2)\", \"Var(MSE1)\", \"Var(MSE2)\",\"Seed1\",\"Seed2\"]\n",
    "\n",
    "print(tabulate(results, headers,  tablefmt=\"double_outline\"))\n"
   ]
  }
 ],
 "metadata": {
  "colab": {
   "authorship_tag": "ABX9TyPDYgMCUECA08uCbVdkJkJ5",
   "provenance": []
  },
  "kernelspec": {
   "display_name": "Python 3 (ipykernel)",
   "language": "python",
   "name": "python3"
  },
  "language_info": {
   "codemirror_mode": {
    "name": "ipython",
    "version": 3
   },
   "file_extension": ".py",
   "mimetype": "text/x-python",
   "name": "python",
   "nbconvert_exporter": "python",
   "pygments_lexer": "ipython3",
   "version": "3.10.12"
  }
 },
 "nbformat": 4,
 "nbformat_minor": 4
}
