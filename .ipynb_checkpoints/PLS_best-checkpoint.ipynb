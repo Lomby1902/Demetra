{
 "cells": [
  {
   "cell_type": "code",
   "execution_count": 1,
   "metadata": {
    "ExecuteTime": {
     "end_time": "2024-05-06T13:55:28.995943306Z",
     "start_time": "2024-05-06T13:55:21.939831926Z"
    },
    "id": "fS_B5rHBplPy"
   },
   "outputs": [],
   "source": [
    "import pandas as pd\n",
    "import numpy as np\n",
    "from sklearn.metrics import mean_squared_error, PredictionErrorDisplay\n",
    "import matplotlib.pyplot as plt\n",
    "from sklearn.model_selection import train_test_split, GridSearchCV\n",
    "from tabulate import tabulate\n",
    "from sklearn.cross_decomposition import PLSRegression\n",
    "import mlflow\n",
    "\n",
    "path = 'SAMPLE_DATA_SET.xlsx'\n",
    "\n",
    "# Read and load dataset\n",
    "df= pd.read_excel(path, sheet_name=[0, 1])"
   ]
  },
  {
   "cell_type": "markdown",
   "metadata": {
    "id": "uJF7TRLwqIio"
   },
   "source": [
    "INPUT DATA"
   ]
  },
  {
   "cell_type": "code",
   "execution_count": 2,
   "metadata": {
    "ExecuteTime": {
     "end_time": "2024-05-06T13:55:29.017422157Z",
     "start_time": "2024-05-06T13:55:28.994968837Z"
    },
    "colab": {
     "base_uri": "https://localhost:8080/"
    },
    "id": "Gr_HSkdhqITQ",
    "outputId": "8e5b6b35-42ef-4c7a-ea98-73fbfc9125d5"
   },
   "outputs": [
    {
     "name": "stdout",
     "output_type": "stream",
     "text": [
      "(839, 444)\n"
     ]
    }
   ],
   "source": [
    "X =df.get(0)\n",
    "X = (X.iloc[:,1:]).values\n",
    "X = X.T\n",
    "print(X.shape)"
   ]
  },
  {
   "cell_type": "markdown",
   "metadata": {
    "id": "8GiHJiDMqK0Q"
   },
   "source": [
    "OUTPUT DATA"
   ]
  },
  {
   "cell_type": "code",
   "execution_count": 3,
   "metadata": {
    "ExecuteTime": {
     "end_time": "2024-05-06T13:55:29.018056038Z",
     "start_time": "2024-05-06T13:55:29.001759573Z"
    },
    "colab": {
     "base_uri": "https://localhost:8080/"
    },
    "id": "NH1AufFzqN6B",
    "outputId": "40567b77-6f23-4c14-e372-3c20114b012a"
   },
   "outputs": [
    {
     "name": "stdout",
     "output_type": "stream",
     "text": [
      "(839, 2)\n"
     ]
    }
   ],
   "source": [
    "Y =df.get(1)\n",
    "Y = (Y.iloc[:,:]).values\n",
    "print(Y.shape)"
   ]
  },
  {
   "cell_type": "code",
   "execution_count": 11,
   "metadata": {
    "ExecuteTime": {
     "end_time": "2024-05-06T14:53:37.168185690Z",
     "start_time": "2024-05-06T14:52:53.592728170Z"
    },
    "colab": {
     "base_uri": "https://localhost:8080/",
     "height": 1000
    },
    "id": "ICiff1sQqQAq",
    "outputId": "afb09476-7f01-40af-bad9-64e8b29f2b76"
   },
   "outputs": [
    {
     "name": "stderr",
     "output_type": "stream",
     "text": [
      "2024/05/06 17:19:31 INFO mlflow.tracking.fluent: Experiment with name 'PLS Demetra' does not exist. Creating a new experiment.\n",
      "/tmp/ipykernel_14890/2450566932.py:15: RuntimeWarning: More than 20 figures have been opened. Figures created through the pyplot interface (`matplotlib.pyplot.figure`) are retained until explicitly closed and may consume too much memory. (To control this warning, see the rcParam `figure.max_open_warning`). Consider using `matplotlib.pyplot.close()`.\n",
      "  fig = plt.figure(constrained_layout=True, figsize=(20, 25))\n"
     ]
    },
    {
     "data": {
      "text/plain": [
       "<Figure size 2000x2500 with 0 Axes>"
      ]
     },
     "metadata": {},
     "output_type": "display_data"
    },
    {
     "data": {
      "text/plain": [
       "<Figure size 2000x2500 with 0 Axes>"
      ]
     },
     "metadata": {},
     "output_type": "display_data"
    },
    {
     "data": {
      "text/plain": [
       "<Figure size 2000x2500 with 0 Axes>"
      ]
     },
     "metadata": {},
     "output_type": "display_data"
    },
    {
     "data": {
      "text/plain": [
       "<Figure size 2000x2500 with 0 Axes>"
      ]
     },
     "metadata": {},
     "output_type": "display_data"
    },
    {
     "data": {
      "text/plain": [
       "<Figure size 2000x2500 with 0 Axes>"
      ]
     },
     "metadata": {},
     "output_type": "display_data"
    },
    {
     "data": {
      "text/plain": [
       "<Figure size 2000x2500 with 0 Axes>"
      ]
     },
     "metadata": {},
     "output_type": "display_data"
    },
    {
     "data": {
      "text/plain": [
       "<Figure size 2000x2500 with 0 Axes>"
      ]
     },
     "metadata": {},
     "output_type": "display_data"
    },
    {
     "data": {
      "text/plain": [
       "<Figure size 2000x2500 with 0 Axes>"
      ]
     },
     "metadata": {},
     "output_type": "display_data"
    },
    {
     "data": {
      "text/plain": [
       "<Figure size 2000x2500 with 0 Axes>"
      ]
     },
     "metadata": {},
     "output_type": "display_data"
    },
    {
     "data": {
      "text/plain": [
       "<Figure size 2000x2500 with 0 Axes>"
      ]
     },
     "metadata": {},
     "output_type": "display_data"
    },
    {
     "data": {
      "text/plain": [
       "<Figure size 2000x2500 with 0 Axes>"
      ]
     },
     "metadata": {},
     "output_type": "display_data"
    },
    {
     "data": {
      "text/plain": [
       "<Figure size 2000x2500 with 0 Axes>"
      ]
     },
     "metadata": {},
     "output_type": "display_data"
    },
    {
     "data": {
      "text/plain": [
       "<Figure size 2000x2500 with 0 Axes>"
      ]
     },
     "metadata": {},
     "output_type": "display_data"
    },
    {
     "data": {
      "text/plain": [
       "<Figure size 2000x2500 with 0 Axes>"
      ]
     },
     "metadata": {},
     "output_type": "display_data"
    },
    {
     "data": {
      "text/plain": [
       "<Figure size 2000x2500 with 0 Axes>"
      ]
     },
     "metadata": {},
     "output_type": "display_data"
    },
    {
     "data": {
      "text/plain": [
       "<Figure size 2000x2500 with 0 Axes>"
      ]
     },
     "metadata": {},
     "output_type": "display_data"
    },
    {
     "data": {
      "text/plain": [
       "<Figure size 2000x2500 with 0 Axes>"
      ]
     },
     "metadata": {},
     "output_type": "display_data"
    },
    {
     "data": {
      "text/plain": [
       "<Figure size 2000x2500 with 0 Axes>"
      ]
     },
     "metadata": {},
     "output_type": "display_data"
    },
    {
     "data": {
      "text/plain": [
       "<Figure size 2000x2500 with 0 Axes>"
      ]
     },
     "metadata": {},
     "output_type": "display_data"
    },
    {
     "data": {
      "text/plain": [
       "<Figure size 2000x2500 with 0 Axes>"
      ]
     },
     "metadata": {},
     "output_type": "display_data"
    },
    {
     "data": {
      "text/plain": [
       "<Figure size 2000x2500 with 0 Axes>"
      ]
     },
     "metadata": {},
     "output_type": "display_data"
    },
    {
     "data": {
      "text/plain": [
       "<Figure size 2000x2500 with 0 Axes>"
      ]
     },
     "metadata": {},
     "output_type": "display_data"
    },
    {
     "data": {
      "text/plain": [
       "<Figure size 2000x2500 with 0 Axes>"
      ]
     },
     "metadata": {},
     "output_type": "display_data"
    },
    {
     "data": {
      "text/plain": [
       "<Figure size 2000x2500 with 0 Axes>"
      ]
     },
     "metadata": {},
     "output_type": "display_data"
    },
    {
     "data": {
      "text/plain": [
       "<Figure size 2000x2500 with 0 Axes>"
      ]
     },
     "metadata": {},
     "output_type": "display_data"
    },
    {
     "data": {
      "text/plain": [
       "<Figure size 2000x2500 with 0 Axes>"
      ]
     },
     "metadata": {},
     "output_type": "display_data"
    },
    {
     "data": {
      "text/plain": [
       "<Figure size 2000x2500 with 0 Axes>"
      ]
     },
     "metadata": {},
     "output_type": "display_data"
    },
    {
     "data": {
      "text/plain": [
       "<Figure size 2000x2500 with 0 Axes>"
      ]
     },
     "metadata": {},
     "output_type": "display_data"
    },
    {
     "data": {
      "text/plain": [
       "<Figure size 2000x2500 with 0 Axes>"
      ]
     },
     "metadata": {},
     "output_type": "display_data"
    }
   ],
   "source": [
    "\n",
    "mlflow.set_experiment(\"PLS Demetra\")\n",
    "mlflow.set_tracking_uri(uri=\"http://127.0.0.1:5000\")\n",
    "\n",
    "\n",
    "n_components = 12\n",
    "    # number of trials\n",
    "    trials = 100\n",
    "    np.random.seed(42)\n",
    "    seeds = np.random.randint(trials, size=trials)\n",
    "    \n",
    "    ripartisions = [i / 100 for i in range(5, 55, 5)]\n",
    "    results = []  # [\"Ripartition\", \"Best_MSE1\", \"Best_MSE2\",\"MSE1_mean\",\"MSE2_mean\",\"MSE1_var\",\"MSE2_var\"]\n",
    "    \n",
    "    # create 5x2 subfigs\n",
    "    #fig = plt.figure(constrained_layout=True, figsize=(20, 25))\n",
    "    #fig.suptitle('PLS regression test'+\"\\n\"+ f\"Number of components: {n_components}\"+\"\\n\")\n",
    "    #subfigs = fig.subfigures(nrows=5, ncols=2).flatten()\n",
    "    k = 0\n",
    "    \n",
    "    for ripartition in ripartisions:\n",
    "        \n",
    "        '''PARAM 1'''\n",
    "    \n",
    "        MSE_param1 = []\n",
    "    \n",
    "        best_MSE_1 = 100000000\n",
    "        best_data_1 = {\"Y_test\": None, \"Y_pred\": None,\"seed\":None}\n",
    "    \n",
    "        '''PARAM 2'''\n",
    "        MSE_param2 = []\n",
    "    \n",
    "        best_MSE_2 = 100000000\n",
    "        best_data_2 = {\"Y_test\": None, \"Y_pred\": None,\"seed\":None}\n",
    "        \n",
    "        name_experiment = str(n_components) + \" components \" + str(ripartition) + \" ripartition\"\n",
    "        with mlflow.start_run(run_name=name_experiment):\n",
    "            i = 0\n",
    "            mlflow.log_param('ripartition', ripartition)\n",
    "            mlflow.log_param('no. components', n_components)\n",
    "            for i in range(trials):\n",
    "                # Tell mlflow to log the following parameters for the experiments dashboard\n",
    "                # Ripartition in training and test and\n",
    "                X_train, X_test, Y_train, Y_test = train_test_split(X, Y[:, 0], test_size=ripartition, random_state=seeds[i])\n",
    "                pls_model = PLSRegression(n_components=n_components)\n",
    "        \n",
    "                pls_model.fit(X_train, Y_train)\n",
    "        \n",
    "                # Make predictions using the testing set\n",
    "                Y_pred_pls = pls_model.predict(X_test)\n",
    "        \n",
    "                # save MSE of the first parameters\n",
    "                MSE_param1.append(mean_squared_error(Y_test, Y_pred_pls))\n",
    "        \n",
    "                # check if this is the best model in terms of MSE\n",
    "                if MSE_param1[-1] < best_MSE_1:\n",
    "                    best_MSE_1 = MSE_param1[-1]\n",
    "                    best_data_1[\"Y_test\"] = Y_test\n",
    "                    best_data_1[\"Y_pred\"] = Y_pred_pls\n",
    "                    best_data_1[\"seed\"] = seeds[i]\n",
    "        \n",
    "                X_train, X_test, Y_train, Y_test = train_test_split(X, Y[:, 1], test_size=ripartition, random_state=seeds[i])\n",
    "                pls_model = PLSRegression(n_components=n_components)\n",
    "        \n",
    "                pls_model.fit(X_train, Y_train)\n",
    "        \n",
    "                # Make predictions using the testing set\n",
    "                Y_pred_pls= pls_model.predict(X_test)\n",
    "        \n",
    "                # save MSE of the second parameters\n",
    "                MSE_param2.append(mean_squared_error(Y_test, Y_pred_pls))\n",
    "        \n",
    "                # check if this is the best model in terms of MSE\n",
    "                if MSE_param2[-1] < best_MSE_2:\n",
    "                    best_MSE_2 = MSE_param2[-1]\n",
    "                    best_data_2[\"Y_test\"] = Y_test\n",
    "                    best_data_2[\"Y_pred\"] = Y_pred_pls\n",
    "                    best_data_2[\"seed\"] = seeds[i]\n",
    "        \n",
    "            results.append([str(ripartition * 100), str(best_MSE_1), str(best_MSE_2),\n",
    "                            (np.mean(MSE_param1)), str(np.mean(MSE_param2)), str(np.var(MSE_param1)), str(np.var(MSE_param2)),\n",
    "                            best_data_1[\"seed\"],best_data_2[\"seed\"]])\n",
    "            \n",
    "            \n",
    "            mlflow.log_metric(\"Best_MSE1\", best_MSE_1)\n",
    "            mlflow.log_metric(\"Best_MSE2\", best_MSE_2)\n",
    "            mlflow.log_metric(\"Mean_MSE1\", np.mean(MSE_param1))\n",
    "            mlflow.log_metric(\"Mean_MSE2\", np.mean(MSE_param2))\n",
    "            mlflow.log_metric(\"Var_MSE1\", np.var(MSE_param1))\n",
    "            mlflow.log_metric(\"Var_MSE2\", np.var(MSE_param2))\n",
    "        \n",
    "    \n",
    "            \n",
    "            '''PLOT THE BEST MODELS'''\n",
    "            '''\n",
    "            subfigs[k].suptitle(\"PLS Regression\" + \"\\n\" + \"Best MSE results\" + \"\\n\" + f\"Test size(%): {ripartition * 100}\")\n",
    "            # create 1x2 subplots per subfig\n",
    "            axs = subfigs[k].subplots(nrows=1, ncols=2)\n",
    "            axs[0].scatter(best_data_1[\"Y_test\"], best_data_1[\"Y_pred\"], c='blue', label='Actual vs Predicted')\n",
    "            axs[0].plot([min(best_data_1[\"Y_test\"]), max(best_data_1[\"Y_test\"])],\n",
    "                        [min(best_data_1[\"Y_test\"]), max(best_data_1[\"Y_test\"])], '--', c='red', label='Perfect Prediction')\n",
    "            axs[0].legend()\n",
    "            axs[0].set_xlabel(\"Actual values\")\n",
    "            axs[0].set_ylabel(\"Predicted value\")\n",
    "            axs[0].set_title(\"Parameter 1\"+\"\\n\"+ \"MSE: \"+ str(best_MSE_1))\n",
    "            axs[1].scatter(best_data_2[\"Y_test\"], best_data_2[\"Y_pred\"], c='blue', label='Actual vs Predicted')\n",
    "            axs[1].plot([min(best_data_2[\"Y_test\"]), max(best_data_2[\"Y_test\"])],\n",
    "                        [min(best_data_2[\"Y_test\"]), max(best_data_2[\"Y_test\"])], '--', c='red', label='Perfect Prediction')\n",
    "            axs[1].legend()\n",
    "            axs[1].set_xlabel(\"Actual values\")\n",
    "            axs[1].set_ylabel(\"Predicted value\")\n",
    "            axs[1].set_title(\"Parameter 2\" + \"\\n\"+ \"MSE: \"+ str(best_MSE_2))\n",
    "            k += 1\n",
    "    '''\n",
    "    '''SHOW RESULTS'''\n",
    "    #headers = [\"Test size(%)\", \"Best(MSE1)\", \"Best(MSE2)\", \"Mean(MSE1)\", \"Mean(MSE2)\", \"Var(MSE1)\", \"Var(MSE2)\",\"Seed1\",\"Seed2\"]\n",
    "    \n",
    "    #print(tabulate(results, headers, tablefmt=\"double_outline\"))\n",
    "\n"
   ]
  },
  {
   "cell_type": "code",
   "execution_count": null,
   "metadata": {
    "ExecuteTime": {
     "start_time": "2024-05-06T13:56:30.159520330Z"
    },
    "collapsed": false,
    "jupyter": {
     "outputs_hidden": false
    }
   },
   "outputs": [],
   "source": []
  }
 ],
 "metadata": {
  "colab": {
   "provenance": []
  },
  "kernelspec": {
   "display_name": "Python 3 (ipykernel)",
   "language": "python",
   "name": "python3"
  },
  "language_info": {
   "codemirror_mode": {
    "name": "ipython",
    "version": 3
   },
   "file_extension": ".py",
   "mimetype": "text/x-python",
   "name": "python",
   "nbconvert_exporter": "python",
   "pygments_lexer": "ipython3",
   "version": "3.10.12"
  }
 },
 "nbformat": 4,
 "nbformat_minor": 4
}
