{
 "cells": [
  {
   "cell_type": "code",
   "execution_count": 1,
   "metadata": {
    "ExecuteTime": {
     "end_time": "2024-05-06T16:06:06.833162538Z",
     "start_time": "2024-05-06T16:05:59.037479136Z"
    },
    "id": "fS_B5rHBplPy"
   },
   "outputs": [
    {
     "name": "stderr",
     "output_type": "stream",
     "text": [
      "/home/giovanni/.local/lib/python3.10/site-packages/matplotlib/projections/__init__.py:63: UserWarning: Unable to import Axes3D. This may be due to multiple versions of Matplotlib being installed (e.g. as a system package and as a pip package). As a result, the 3D projection is not available.\n",
      "  warnings.warn(\"Unable to import Axes3D. This may be due to multiple versions of \"\n"
     ]
    }
   ],
   "source": [
    "import pandas as pd\n",
    "import numpy as np\n",
    "from sklearn.metrics import mean_squared_error, PredictionErrorDisplay\n",
    "import matplotlib.pyplot as plt\n",
    "from sklearn.model_selection import train_test_split, GridSearchCV\n",
    "from tabulate import tabulate\n",
    "from sklearn.cross_decomposition import PLSRegression\n",
    "import mlflow\n",
    "\n",
    "path = 'SAMPLE_DATA_SET.xlsx'\n",
    "\n",
    "# Read and load dataset\n",
    "df= pd.read_excel(path, sheet_name=[0, 1])"
   ]
  },
  {
   "cell_type": "markdown",
   "metadata": {
    "id": "uJF7TRLwqIio"
   },
   "source": [
    "INPUT DATA"
   ]
  },
  {
   "cell_type": "code",
   "execution_count": 2,
   "metadata": {
    "ExecuteTime": {
     "end_time": "2024-05-06T16:06:06.878755786Z",
     "start_time": "2024-05-06T16:06:06.877953750Z"
    },
    "colab": {
     "base_uri": "https://localhost:8080/"
    },
    "id": "Gr_HSkdhqITQ",
    "outputId": "8e5b6b35-42ef-4c7a-ea98-73fbfc9125d5"
   },
   "outputs": [
    {
     "name": "stdout",
     "output_type": "stream",
     "text": [
      "(839, 444)\n"
     ]
    }
   ],
   "source": [
    "X =df.get(0)\n",
    "X = (X.iloc[:,1:]).values\n",
    "X = X.T\n",
    "print(X.shape)"
   ]
  },
  {
   "cell_type": "markdown",
   "metadata": {
    "id": "8GiHJiDMqK0Q"
   },
   "source": [
    "OUTPUT DATA"
   ]
  },
  {
   "cell_type": "code",
   "execution_count": 3,
   "metadata": {
    "ExecuteTime": {
     "end_time": "2024-05-06T16:06:06.879227826Z",
     "start_time": "2024-05-06T16:06:06.878329717Z"
    },
    "colab": {
     "base_uri": "https://localhost:8080/"
    },
    "id": "NH1AufFzqN6B",
    "outputId": "40567b77-6f23-4c14-e372-3c20114b012a"
   },
   "outputs": [
    {
     "name": "stdout",
     "output_type": "stream",
     "text": [
      "(839, 2)\n"
     ]
    }
   ],
   "source": [
    "Y =df.get(1)\n",
    "Y = (Y.iloc[:,:]).values\n",
    "print(Y.shape)"
   ]
  },
  {
   "cell_type": "code",
   "execution_count": 6,
   "metadata": {
    "ExecuteTime": {
     "end_time": "2024-05-06T16:08:10.890269450Z",
     "start_time": "2024-05-06T16:07:05.591799458Z"
    },
    "colab": {
     "base_uri": "https://localhost:8080/",
     "height": 1000
    },
    "id": "ICiff1sQqQAq",
    "outputId": "afb09476-7f01-40af-bad9-64e8b29f2b76"
   },
   "outputs": [
    {
     "name": "stdout",
     "output_type": "stream",
     "text": [
      "0.05 ripartition\n",
      "Param 1\n"
     ]
    },
    {
     "ename": "TypeError",
     "evalue": "log_model() missing 1 required positional argument: 'artifact_path'",
     "output_type": "error",
     "traceback": [
      "\u001b[0;31m---------------------------------------------------------------------------\u001b[0m",
      "\u001b[0;31mTypeError\u001b[0m                                 Traceback (most recent call last)",
      "\u001b[0;32m/tmp/ipykernel_138537/347881155.py\u001b[0m in \u001b[0;36m<module>\u001b[0;34m\u001b[0m\n\u001b[1;32m     56\u001b[0m         \u001b[0mmlflow\u001b[0m\u001b[0;34m.\u001b[0m\u001b[0mlog_metric\u001b[0m\u001b[0;34m(\u001b[0m\u001b[0;34m\"Mean_MSE1\"\u001b[0m\u001b[0;34m,\u001b[0m \u001b[0mnp\u001b[0m\u001b[0;34m.\u001b[0m\u001b[0mmean\u001b[0m\u001b[0;34m(\u001b[0m\u001b[0mMSE_param1\u001b[0m\u001b[0;34m)\u001b[0m\u001b[0;34m)\u001b[0m\u001b[0;34m\u001b[0m\u001b[0;34m\u001b[0m\u001b[0m\n\u001b[1;32m     57\u001b[0m         \u001b[0mmlflow\u001b[0m\u001b[0;34m.\u001b[0m\u001b[0mlog_metric\u001b[0m\u001b[0;34m(\u001b[0m\u001b[0;34m\"Var_MSE1\"\u001b[0m\u001b[0;34m,\u001b[0m \u001b[0mnp\u001b[0m\u001b[0;34m.\u001b[0m\u001b[0mvar\u001b[0m\u001b[0;34m(\u001b[0m\u001b[0mMSE_param1\u001b[0m\u001b[0;34m)\u001b[0m\u001b[0;34m)\u001b[0m\u001b[0;34m\u001b[0m\u001b[0;34m\u001b[0m\u001b[0m\n\u001b[0;32m---> 58\u001b[0;31m         mlflow.sklearn.log_model(\n\u001b[0m\u001b[1;32m     59\u001b[0m             \u001b[0msk_model\u001b[0m\u001b[0;34m=\u001b[0m\u001b[0mpls_model\u001b[0m\u001b[0;34m,\u001b[0m\u001b[0;34m\u001b[0m\u001b[0;34m\u001b[0m\u001b[0m\n\u001b[1;32m     60\u001b[0m             \u001b[0minput_example\u001b[0m\u001b[0;34m=\u001b[0m\u001b[0mX_train\u001b[0m\u001b[0;34m,\u001b[0m\u001b[0;34m\u001b[0m\u001b[0;34m\u001b[0m\u001b[0m\n",
      "\u001b[0;31mTypeError\u001b[0m: log_model() missing 1 required positional argument: 'artifact_path'"
     ]
    },
    {
     "data": {
      "text/plain": [
       "<Figure size 1440x1800 with 0 Axes>"
      ]
     },
     "metadata": {},
     "output_type": "display_data"
    }
   ],
   "source": [
    "mlflow.set_experiment(\"PLS Best\")\n",
    "mlflow.set_tracking_uri(uri=\"http://127.0.0.1:5000\")\n",
    "\n",
    "n_components_1 = 12\n",
    "n_components_2 = 14\n",
    "# number of trials\n",
    "trials = 100\n",
    "np.random.seed(42)\n",
    "seeds = np.random.randint(trials, size=trials)\n",
    "\n",
    "ripartisions = [i / 100 for i in range(5, 55, 5)]\n",
    "results = [] \n",
    "\n",
    "# create 5x2 subfigs\n",
    "fig = plt.figure(constrained_layout=True, figsize=(20, 25))\n",
    "fig.suptitle('PLS regression test'+\"\\n\"+ f\"Number of components: {n_components_1} , {n_components_2}\"+\"\\n\")\n",
    "subfigs = fig.subfigures(nrows=5, ncols=2).flatten()\n",
    "k = 0\n",
    "\n",
    "for ripartition in ripartisions:\n",
    "    run_name = str(ripartition) + \" ripartition\"\n",
    "    with mlflow.start_run(run_name=run_name):\n",
    "        mlflow.log_param('ripartition', ripartition)    \n",
    "        print(str(ripartition) + \" ripartition\" )\n",
    "        '''PARAM 1'''\n",
    "\n",
    "        MSE_param1 = []\n",
    "        best_MSE_1 = 100000000\n",
    "        best_data_1 = {\"Y_test\": None, \"Y_pred\": None, \"seed\": None}\n",
    "        print(\"Param 1\")\n",
    "        i = 0\n",
    "        for i in range(trials):\n",
    "            # Tell mlflow to log the following parameters for the experiments dashboard\n",
    "            # Ripartition in training and test and\n",
    "            X_train, X_test, Y_train, Y_test = train_test_split(X, Y[:, 0], test_size=ripartition,\n",
    "                                                                   random_state=seeds[i])\n",
    "            pls_model = PLSRegression(n_components=n_components_1)\n",
    "\n",
    "            pls_model.fit(X_train, Y_train)\n",
    "\n",
    "            # Make predictions using the testing set\n",
    "            Y_pred_pls = pls_model.predict(X_test)\n",
    "\n",
    "            # save MSE of the first parameters\n",
    "            MSE_param1.append(mean_squared_error(Y_test, Y_pred_pls))\n",
    "\n",
    "            # check if this is the best model in terms of MSE\n",
    "            if MSE_param1[-1] < best_MSE_1:\n",
    "                best_MSE_1 = MSE_param1[-1]\n",
    "                best_data_1[\"Y_test\"] = Y_test\n",
    "                best_data_1[\"Y_pred\"] = Y_pred_pls\n",
    "                best_data_1[\"seed\"] = seeds[i]\n",
    "        \n",
    "        \n",
    "        mlflow.log_metric(\"Best_MSE1\", best_MSE_1)\n",
    "        mlflow.log_metric(\"Mean_MSE1\", np.mean(MSE_param1))\n",
    "        mlflow.log_metric(\"Var_MSE1\", np.var(MSE_param1))\n",
    "        mlflow.sklearn.log_model(\n",
    "            sk_model=pls_model,\n",
    "            artifact_path=\"sklearn-model\",\n",
    "            input_example=X_train,\n",
    "            registered_model_name=f\"PLS Param 1 - {ripartition} ripartition\",\n",
    "        )\n",
    "\n",
    "        \n",
    "        '''PARAM 2'''\n",
    "        MSE_param2 = []\n",
    "        best_MSE_2 = 100000000\n",
    "        best_data_2 = {\"Y_test\": None, \"Y_pred\": None, \"seed\": None}\n",
    "        print(\"Param 2\")\n",
    "        i = 0\n",
    "        for i in range(trials):\n",
    "            X_train, X_test, Y_train, Y_test = train_test_split(X, Y[:, 1], test_size=ripartition,\n",
    "                                                                    random_state=seeds[i])\n",
    "            pls_model = PLSRegression(n_components=n_components_2)\n",
    "\n",
    "            pls_model.fit(X_train, Y_train)\n",
    "\n",
    "            # Make predictions using the testing set\n",
    "            Y_pred_pls = pls_model.predict(X_test)\n",
    "\n",
    "            # save MSE of the second parameters\n",
    "            MSE_param2.append(mean_squared_error(Y_test, Y_pred_pls))\n",
    "\n",
    "            # check if this is the best model in terms of MSE\n",
    "            if MSE_param2[-1] < best_MSE_2:\n",
    "                best_MSE_2 = MSE_param2[-1]\n",
    "                best_data_2[\"Y_test\"] = Y_test\n",
    "                best_data_2[\"Y_pred\"] = Y_pred_pls\n",
    "                best_data_2[\"seed\"] = seeds[i]\n",
    "\n",
    "        results.append([str(ripartition * 100), str(best_MSE_1), str(best_MSE_2),\n",
    "                            (np.mean(MSE_param1)), str(np.mean(MSE_param2)), str(np.var(MSE_param1)),\n",
    "                            str(np.var(MSE_param2)),\n",
    "                            best_data_1[\"seed\"], best_data_2[\"seed\"]])\n",
    "        \n",
    "        \n",
    "        mlflow.log_metric(\"Best_MSE2\", best_MSE_2)\n",
    "        mlflow.log_metric(\"Mean_MSE2\", np.mean(MSE_param2))\n",
    "        mlflow.log_metric(\"Var_MSE2\", np.var(MSE_param2))\n",
    "        mlflow.sklearn.log_model(\n",
    "            sk_model=pls_model,\n",
    "            input_example=X_train,\n",
    "             artifact_path=\"sklearn-model\",\n",
    "            registered_model_name=f\"PLS Param 2 - {ripartition} ripartition\",\n",
    "        )\n",
    "\n",
    "\n",
    "        '''PLOT THE BEST MODELS'''\n",
    "        subfigs[k].suptitle(\"PLS Regression\" + \"\\n\" + \"Best MSE results\" + \"\\n\" + f\"Test size(%): {ripartition * 100}\")\n",
    "        # create 1x2 subplots per subfig\n",
    "        axs = subfigs[k].subplots(nrows=1, ncols=2)\n",
    "        axs[0].scatter(best_data_1[\"Y_test\"], best_data_1[\"Y_pred\"], c='blue', label='Actual vs Predicted')\n",
    "        axs[0].plot([min(best_data_1[\"Y_test\"]), max(best_data_1[\"Y_test\"])],\n",
    "                        [min(best_data_1[\"Y_test\"]), max(best_data_1[\"Y_test\"])], '--', c='red', label='Perfect Prediction')\n",
    "        axs[0].legend()\n",
    "        axs[0].set_xlabel(\"Actual values\")\n",
    "        axs[0].set_ylabel(\"Predicted value\")\n",
    "        axs[0].set_title(\"Parameter 1\"+\"\\n\"+ \"MSE: \"+ str(best_MSE_1))\n",
    "        axs[1].scatter(best_data_2[\"Y_test\"], best_data_2[\"Y_pred\"], c='blue', label='Actual vs Predicted')\n",
    "        axs[1].plot([min(best_data_2[\"Y_test\"]), max(best_data_2[\"Y_test\"])],\n",
    "                        [min(best_data_2[\"Y_test\"]), max(best_data_2[\"Y_test\"])], '--', c='red', label='Perfect Prediction')\n",
    "        axs[1].legend()\n",
    "        axs[1].set_xlabel(\"Actual values\")\n",
    "        axs[1].set_ylabel(\"Predicted value\")\n",
    "        axs[1].set_title(\"Parameter 2\" + \"\\n\"+ \"MSE: \"+ str(best_MSE_2))\n",
    "        k += 1\n",
    "\n",
    "'''SHOW RESULTS'''\n",
    "headers = [\"Test size(%)\", \"Best(MSE1)\", \"Best(MSE2)\", \"Mean(MSE1)\", \"Mean(MSE2)\", \"Var(MSE1)\", \"Var(MSE2)\",\"Seed1\",\"Seed2\"]\n",
    "\n",
    "print(tabulate(results, headers, tablefmt=\"double_outline\"))\n",
    "    \n"
   ]
  },
  {
   "cell_type": "code",
   "execution_count": null,
   "metadata": {
    "ExecuteTime": {
     "end_time": "2024-05-06T16:06:07.532865626Z",
     "start_time": "2024-05-06T16:06:07.473471203Z"
    },
    "jupyter": {
     "outputs_hidden": false
    }
   },
   "outputs": [],
   "source": []
  }
 ],
 "metadata": {
  "colab": {
   "provenance": []
  },
  "kernelspec": {
   "display_name": "Python 3 (ipykernel)",
   "language": "python",
   "name": "python3"
  },
  "language_info": {
   "codemirror_mode": {
    "name": "ipython",
    "version": 3
   },
   "file_extension": ".py",
   "mimetype": "text/x-python",
   "name": "python",
   "nbconvert_exporter": "python",
   "pygments_lexer": "ipython3",
   "version": "3.10.12"
  }
 },
 "nbformat": 4,
 "nbformat_minor": 4
}
