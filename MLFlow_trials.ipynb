{
 "cells": [
  {
   "cell_type": "code",
   "execution_count": 1,
   "id": "7232bf88-a6fc-4c4c-813c-594ae02aa9f6",
   "metadata": {
    "ExecuteTime": {
     "end_time": "2024-05-05T11:15:09.053272840Z",
     "start_time": "2024-05-05T11:15:01.777604791Z"
    }
   },
   "outputs": [],
   "source": [
    "import pandas as pd\n",
    "from sklearn.model_selection import train_test_split\n",
    "import json\n",
    "import os\n",
    "import joblib\n",
    "from itertools import product\n",
    "import warnings\n",
    "import numpy as np\n",
    "from sklearn.metrics import mean_squared_error, PredictionErrorDisplay\n",
    "import matplotlib.pyplot as plt\n",
    "from sklearn.model_selection import train_test_split, GridSearchCV\n",
    "from tabulate import tabulate\n",
    "from sklearn.linear_model import Lasso\n",
    "\n",
    "path = 'SAMPLE_DATA_SET.xlsx'\n",
    "\n",
    "# Read and load dataset\n",
    "df= pd.read_excel(path, sheet_name=[0, 1])\n"
   ]
  },
  {
   "cell_type": "markdown",
   "id": "eee6dcd7-ecc7-4cf3-86b6-0ff9f523e8d2",
   "metadata": {},
   "source": [
    "**INPUT DATA**"
   ]
  },
  {
   "cell_type": "code",
   "execution_count": 3,
   "id": "923d6473-8967-414a-ba8d-e40676cc18f9",
   "metadata": {
    "ExecuteTime": {
     "end_time": "2024-05-05T11:05:49.108080440Z",
     "start_time": "2024-05-05T11:05:49.107080731Z"
    }
   },
   "outputs": [
    {
     "name": "stdout",
     "output_type": "stream",
     "text": [
      "(839, 444)\n"
     ]
    }
   ],
   "source": [
    "X =df.get(0)\n",
    "X = (X.iloc[:,1:]).values\n",
    "X = X.T\n",
    "print(X.shape)"
   ]
  },
  {
   "cell_type": "markdown",
   "id": "538aee19-2ede-497d-b0d0-4fc63003872c",
   "metadata": {},
   "source": [
    "OUTPUT DATA"
   ]
  },
  {
   "cell_type": "code",
   "execution_count": 4,
   "id": "506512c9-5449-4b74-a91b-0c2dc768030c",
   "metadata": {
    "ExecuteTime": {
     "end_time": "2024-05-05T11:05:49.108805200Z",
     "start_time": "2024-05-05T11:05:49.107613574Z"
    }
   },
   "outputs": [
    {
     "name": "stdout",
     "output_type": "stream",
     "text": [
      "(839, 2)\n"
     ]
    }
   ],
   "source": [
    "Y =df.get(1)\n",
    "Y = (Y.iloc[:,:]).values\n",
    "print(Y.shape)"
   ]
  },
  {
   "cell_type": "markdown",
   "id": "689c143f-ebb5-4858-87a1-172f85d019dc",
   "metadata": {},
   "source": [
    "LASSO with coordinate descent"
   ]
  },
  {
   "cell_type": "code",
   "execution_count": 1,
   "id": "5e72701b-c2a2-4c69-8ce4-652c9d6db6a4",
   "metadata": {
    "ExecuteTime": {
     "end_time": "2024-05-06T14:48:33.815221312Z",
     "start_time": "2024-05-06T14:48:32.737250519Z"
    }
   },
   "outputs": [
    {
     "ename": "NameError",
     "evalue": "name 'warnings' is not defined",
     "output_type": "error",
     "traceback": [
      "\u001B[0;31m---------------------------------------------------------------------------\u001B[0m",
      "\u001B[0;31mNameError\u001B[0m                                 Traceback (most recent call last)",
      "Cell \u001B[0;32mIn[1], line 6\u001B[0m\n\u001B[1;32m      3\u001B[0m mlflow\u001B[38;5;241m.\u001B[39mset_experiment(\u001B[38;5;124m\"\u001B[39m\u001B[38;5;124mLASSO with CD\u001B[39m\u001B[38;5;124m\"\u001B[39m)\n\u001B[1;32m      4\u001B[0m mlflow\u001B[38;5;241m.\u001B[39mset_tracking_uri(uri\u001B[38;5;241m=\u001B[39m\u001B[38;5;124m\"\u001B[39m\u001B[38;5;124mhttp://127.0.0.1:5000\u001B[39m\u001B[38;5;124m\"\u001B[39m)\n\u001B[0;32m----> 6\u001B[0m \u001B[43mwarnings\u001B[49m\u001B[38;5;241m.\u001B[39mfilterwarnings(\u001B[38;5;124m'\u001B[39m\u001B[38;5;124mignore\u001B[39m\u001B[38;5;124m'\u001B[39m)\n\u001B[1;32m      7\u001B[0m name_experiment \u001B[38;5;241m=\u001B[39m \u001B[38;5;124m'\u001B[39m\u001B[38;5;124mLASSO with CD\u001B[39m\u001B[38;5;124m'\u001B[39m\n\u001B[1;32m      9\u001B[0m \u001B[38;5;66;03m#number of trials\u001B[39;00m\n",
      "\u001B[0;31mNameError\u001B[0m: name 'warnings' is not defined"
     ]
    }
   ],
   "source": [
    "    import mlflow\n",
    "    \n",
    "    mlflow.set_experiment(\"LASSO with CD\")\n",
    "    mlflow.set_tracking_uri(uri=\"http://127.0.0.1:5000\")\n",
    "    \n",
    "    warnings.filterwarnings('ignore')\n",
    "    name_experiment = 'LASSO with CD'\n",
    "    \n",
    "    #number of trials\n",
    "    trials = 100\n",
    "    np.random.seed(42)\n",
    "    seeds = np.random.randint(trials, size=trials)\n",
    "    \n",
    "    ripartisions = [i/100 for i in range(5,55,5)]\n",
    "    results = []  #[\"Ripartition\", \"Best_MSE1\", \"Best_MSE2\",\"MSE1_mean\",\"MSE2_mean\",\"MSE1_var\",\"MSE2_var\",\"alpha1\",\"alpha2\"]\n",
    "    \n",
    "    \n",
    "    for ripartition in ripartisions:\n",
    "    \n",
    "       '''PARAM 1'''\n",
    "    \n",
    "       MSE_param1 = []\n",
    "    \n",
    "       best_MSE_1 = 100000000\n",
    "       best_data_1 = {\"Y_test\":None, \"Y_pred\":None,\"alpha\":None}\n",
    "       MSE_param2 = []\n",
    "       best_MSE_2 = 100000000\n",
    "       best_data_2 = {\"Y_test\":None, \"Y_pred\":None,\"alpha\":None}\n",
    "       param_grid = [i/100000 for i in range(1,10001,1)]\n",
    "    \n",
    "    \n",
    "       i = 0\n",
    "       for alpha in param_grid:\n",
    "            with mlflow.start_run(run_name=name_experiment):\n",
    "               # Tell mlflow to log the following parameters for the experiments dashboard\n",
    "               mlflow.log_param('ripartition', ripartition)\n",
    "               mlflow.log_param('alpha', alpha)\n",
    "               for i in range(trials):\n",
    "                   #Ripartition in training and test and\n",
    "                   X_train, X_test, Y_train, Y_test = train_test_split(X, Y[:,0], test_size=ripartition, random_state=seeds[i])\n",
    "                   lasso_reg_cd = Lasso(alpha = alpha, max_iter=5000, tol=1e-2)\n",
    "            \n",
    "                   lasso_reg_cd.fit(X_train, Y_train)\n",
    "            \n",
    "                   # Make predictions using the testing set\n",
    "                   Y_pred_lasso_cd =  lasso_reg_cd.predict(X_test)\n",
    "            \n",
    "                   #save MSE of the first parameters\n",
    "                   MSE_param1.append(mean_squared_error(Y_test, Y_pred_lasso_cd))\n",
    "            \n",
    "                   #check if this is the best model in terms of MSE\n",
    "                   if MSE_param1[-1] < best_MSE_1:\n",
    "                     best_MSE_1 = MSE_param1[-1]\n",
    "                     best_data_1[\"Y_test\"] = Y_test\n",
    "                     best_data_1[\"Y_pred\"] = Y_pred_lasso_cd\n",
    "                     best_data_1[\"alpha\"] = alpha\n",
    "    \n",
    "    \n",
    "    \n",
    "                   X_train, X_test, Y_train, Y_test = train_test_split(X, Y[:,1], test_size=ripartition, random_state=seeds[i])\n",
    "                   lasso_reg_cd = Lasso(alpha = alpha, max_iter=5000, tol=1e-2)\n",
    "            \n",
    "                   lasso_reg_cd.fit(X_train, Y_train)\n",
    "            \n",
    "                   # Make predictions using the testing set\n",
    "                   Y_pred_lasso_cd =  lasso_reg_cd.predict(X_test)\n",
    "            \n",
    "                   #save MSE of the second parameters\n",
    "                   MSE_param2.append(mean_squared_error(Y_test, Y_pred_lasso_cd))\n",
    "            \n",
    "                   #check if this is the best model in terms of MSE\n",
    "                   if MSE_param2[-1] < best_MSE_2:\n",
    "                       best_MSE_2 = MSE_param2[-1]\n",
    "                       best_data_2[\"Y_test\"] = Y_test\n",
    "                       best_data_2[\"Y_pred\"] = Y_pred_lasso_cd\n",
    "                       best_data_2[\"alpha\"] =  alpha\n",
    "                \n",
    "                   mlflow.log_metric(\"Best_MSE1\", best_MSE_1)\n",
    "                   mlflow.log_metric(\"Best_MSE2\", best_MSE_2)\n",
    "                   mlflow.log_metric(\"Mean_MSE1\", np.mean(MSE_param1))\n",
    "                   mlflow.log_metric(\"Mean_MSE2\", np.mean(MSE_param2))\n",
    "                   mlflow.log_metric(\"Var_MSE1\", np.var(MSE_param1))\n",
    "                   mlflow.log_metric(\"Var_MSE2\", np.var(MSE_param2))\n",
    "    \n",
    "       results.append([str(ripartition *100 ), str(best_MSE_1), str(best_MSE_2),\n",
    "       (np.mean(MSE_param1)),str(np.mean(MSE_param2)), str(np.var(MSE_param1)), str(np.var(MSE_param2)), str(best_data_1[\"alpha\"]), str(best_data_2[\"alpha\"])])\n",
    "    \n",
    "        \n",
    "       \n",
    "       '''PLOT THE BEST MODELS'''\n",
    "       fig, axs = plt.subplots(ncols=2, figsize=(10, 5))\n",
    "       plt.subplots_adjust(wspace=0.3)\n",
    "       PredictionErrorDisplay.from_predictions(y_true=best_data_1[\"Y_test\"], y_pred=best_data_1[\"Y_pred\"], kind = \"actual_vs_predicted\", ax=axs[0])\n",
    "       axs[0].set_title(\"Parameter 1\"+\"\\n\"+ \"MSE: \" +  str(min(MSE_param1)) + \"\\n\" + \" alpha= \"+ str(best_data_1[\"alpha\"]))\n",
    "       disp2= PredictionErrorDisplay.from_predictions(y_true=best_data_2[\"Y_test\"], y_pred=best_data_2[\"Y_pred\"], kind = \"actual_vs_predicted\", ax=axs[1])\n",
    "       axs[1].set_title(\"Parameter 2\"+\"\\n\"+ \"MSE: \" +  str(min(MSE_param2))  + \"\\n\" + \" alpha= \"+ str(best_data_2[\"alpha\"]))\n",
    "       fig.suptitle(\"Lasso Regression with Coordinate Descent\"+\"\\n\"+ \"Best MSE results\" + \"\\n\"+ f\"Test size(%): {ripartition * 100}\")\n",
    "       plt.tight_layout()\n",
    "       plt.show()\n",
    "    \n",
    "    \n",
    "    '''SHOW RESULTS'''\n",
    "    headers = [\"Test size(%)\",\"Best(MSE1)\", \"Best(MSE2)\",\"Mean(MSE1)\", \"Mean(MSE2)\", \"Var(MSE1)\", \"Var(MSE2)\",\"alpha1\",\"alpha2\"]\n",
    "    \n",
    "    print(tabulate(results, headers,  tablefmt=\"double_outline\"))\n",
    "    mlflow.end_run()\n",
    "    \n"
   ]
  },
  {
   "cell_type": "code",
   "execution_count": null,
   "id": "dd712860-9316-42c7-ba34-92eff9e753dc",
   "metadata": {},
   "outputs": [],
   "source": []
  }
 ],
 "metadata": {
  "kernelspec": {
   "display_name": "Python 3 (ipykernel)",
   "language": "python",
   "name": "python3"
  },
  "language_info": {
   "codemirror_mode": {
    "name": "ipython",
    "version": 3
   },
   "file_extension": ".py",
   "mimetype": "text/x-python",
   "name": "python",
   "nbconvert_exporter": "python",
   "pygments_lexer": "ipython3",
   "version": "3.10.12"
  }
 },
 "nbformat": 4,
 "nbformat_minor": 5
}
