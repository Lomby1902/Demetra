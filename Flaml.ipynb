{
 "cells": [
  {
   "cell_type": "code",
   "execution_count": 2,
   "metadata": {
    "executionInfo": {
     "elapsed": 10611,
     "status": "ok",
     "timestamp": 1717148380626,
     "user": {
      "displayName": "Giovanni Lombardo",
      "userId": "17752443154386048654"
     },
     "user_tz": -120
    },
    "id": "W1RDDkaUA9Jv"
   },
   "outputs": [],
   "source": [
    "import pandas as pd\n",
    "import mlflow\n",
    "path = 'SAMPLE_DATA_SET.xlsx'\n",
    "\n",
    "# Read and load dataset\n",
    "df= pd.read_excel(path, sheet_name=[0, 1])"
   ]
  },
  {
   "cell_type": "code",
   "execution_count": 3,
   "metadata": {
    "colab": {
     "base_uri": "https://localhost:8080/"
    },
    "executionInfo": {
     "elapsed": 22,
     "status": "ok",
     "timestamp": 1717148380628,
     "user": {
      "displayName": "Giovanni Lombardo",
      "userId": "17752443154386048654"
     },
     "user_tz": -120
    },
    "id": "FtZ2n4SuA_Ho",
    "outputId": "5230b962-ed08-4aab-8c7c-789ccdd1e013"
   },
   "outputs": [
    {
     "name": "stdout",
     "output_type": "stream",
     "text": [
      "(839, 444)\n"
     ]
    }
   ],
   "source": [
    "X =df.get(0)\n",
    "X = (X.iloc[:,1:]).values\n",
    "X = X.T\n",
    "print(X.shape)"
   ]
  },
  {
   "cell_type": "code",
   "execution_count": 4,
   "metadata": {
    "colab": {
     "base_uri": "https://localhost:8080/"
    },
    "executionInfo": {
     "elapsed": 14,
     "status": "ok",
     "timestamp": 1717148380628,
     "user": {
      "displayName": "Giovanni Lombardo",
      "userId": "17752443154386048654"
     },
     "user_tz": -120
    },
    "id": "A44UAc1IBA5I",
    "outputId": "35b7da15-9343-4e41-c669-5c81c4e6a334"
   },
   "outputs": [
    {
     "name": "stdout",
     "output_type": "stream",
     "text": [
      "(839, 2)\n"
     ]
    }
   ],
   "source": [
    "Y =df.get(1)\n",
    "Y = (Y.iloc[:,:]).values\n",
    "print(Y.shape)"
   ]
  },
  {
   "cell_type": "code",
   "execution_count": 15,
   "metadata": {
    "colab": {
     "base_uri": "https://localhost:8080/"
    },
    "executionInfo": {
     "elapsed": 1270,
     "status": "ok",
     "timestamp": 1717148739140,
     "user": {
      "displayName": "Giovanni Lombardo",
      "userId": "17752443154386048654"
     },
     "user_tz": -120
    },
    "id": "PI4tivHIAr8n",
    "outputId": "202d55ac-b491-47b0-fe2a-48fcb45ee89a"
   },
   "outputs": [
    {
     "name": "stdout",
     "output_type": "stream",
     "text": [
      "[flaml.automl.logger: 06-02 11:23:06] {1680} INFO - task = regression\n",
      "[flaml.automl.logger: 06-02 11:23:06] {1691} INFO - Evaluation method: holdout\n",
      "[flaml.automl.logger: 06-02 11:23:06] {1789} INFO - Minimizing error metric: mse\n",
      "[flaml.automl.logger: 06-02 11:23:06] {1901} INFO - List of ML learners in AutoML Run: ['lgbm', 'rf', 'catboost', 'xgboost', 'extra_tree', 'xgb_limitdepth']\n",
      "[flaml.automl.logger: 06-02 11:23:06] {2219} INFO - iteration 0, current learner lgbm\n",
      "[flaml.automl.logger: 06-02 11:23:06] {2345} INFO - Estimated sufficient time budget=492s. Estimated necessary time budget=4s.\n",
      "[flaml.automl.logger: 06-02 11:23:06] {2392} INFO -  at 0.1s,\testimator lgbm's best error=6.3994,\tbest estimator lgbm's best error=6.3994\n",
      "[flaml.automl.logger: 06-02 11:23:06] {2219} INFO - iteration 1, current learner lgbm\n",
      "[flaml.automl.logger: 06-02 11:23:06] {2392} INFO -  at 0.2s,\testimator lgbm's best error=6.3994,\tbest estimator lgbm's best error=6.3994\n",
      "[flaml.automl.logger: 06-02 11:23:06] {2219} INFO - iteration 2, current learner lgbm\n",
      "[flaml.automl.logger: 06-02 11:23:06] {2392} INFO -  at 0.2s,\testimator lgbm's best error=4.1567,\tbest estimator lgbm's best error=4.1567\n",
      "[flaml.automl.logger: 06-02 11:23:06] {2219} INFO - iteration 3, current learner xgboost\n",
      "[flaml.automl.logger: 06-02 11:23:06] {2392} INFO -  at 0.2s,\testimator xgboost's best error=6.3570,\tbest estimator lgbm's best error=4.1567\n",
      "[flaml.automl.logger: 06-02 11:23:06] {2219} INFO - iteration 4, current learner lgbm\n",
      "[flaml.automl.logger: 06-02 11:23:06] {2392} INFO -  at 0.3s,\testimator lgbm's best error=3.0223,\tbest estimator lgbm's best error=3.0223\n",
      "[flaml.automl.logger: 06-02 11:23:06] {2219} INFO - iteration 5, current learner xgboost\n",
      "[flaml.automl.logger: 06-02 11:23:06] {2392} INFO -  at 0.5s,\testimator xgboost's best error=6.3570,\tbest estimator lgbm's best error=3.0223\n",
      "[flaml.automl.logger: 06-02 11:23:06] {2219} INFO - iteration 6, current learner lgbm\n",
      "[flaml.automl.logger: 06-02 11:23:06] {2392} INFO -  at 0.6s,\testimator lgbm's best error=3.0223,\tbest estimator lgbm's best error=3.0223\n",
      "[flaml.automl.logger: 06-02 11:23:06] {2219} INFO - iteration 7, current learner lgbm\n",
      "[flaml.automl.logger: 06-02 11:23:07] {2392} INFO -  at 0.8s,\testimator lgbm's best error=3.0223,\tbest estimator lgbm's best error=3.0223\n",
      "[flaml.automl.logger: 06-02 11:23:07] {2219} INFO - iteration 8, current learner extra_tree\n",
      "[flaml.automl.logger: 06-02 11:23:07] {2392} INFO -  at 0.9s,\testimator extra_tree's best error=3.9934,\tbest estimator lgbm's best error=3.0223\n",
      "[flaml.automl.logger: 06-02 11:23:07] {2219} INFO - iteration 9, current learner xgboost\n",
      "[flaml.automl.logger: 06-02 11:23:07] {2392} INFO -  at 0.9s,\testimator xgboost's best error=4.2431,\tbest estimator lgbm's best error=3.0223\n",
      "[flaml.automl.logger: 06-02 11:23:07] {2219} INFO - iteration 10, current learner extra_tree\n",
      "[flaml.automl.logger: 06-02 11:23:07] {2392} INFO -  at 1.0s,\testimator extra_tree's best error=3.1802,\tbest estimator lgbm's best error=3.0223\n",
      "[flaml.automl.logger: 06-02 11:23:07] {2219} INFO - iteration 11, current learner rf\n",
      "[flaml.automl.logger: 06-02 11:23:07] {2392} INFO -  at 1.0s,\testimator rf's best error=4.7256,\tbest estimator lgbm's best error=3.0223\n",
      "[flaml.automl.logger: 06-02 11:23:07] {2628} INFO - retrain lgbm for 0.1s\n",
      "[flaml.automl.logger: 06-02 11:23:07] {2631} INFO - retrained model: LGBMRegressor(colsample_bytree=0.9285002286474459,\n",
      "              learning_rate=0.7260594590615893, max_bin=511,\n",
      "              min_child_samples=9, n_estimators=1, n_jobs=-1, num_leaves=4,\n",
      "              reg_alpha=0.0036840681931986645, reg_lambda=0.7532480505730402,\n",
      "              verbose=-1)\n",
      "[flaml.automl.logger: 06-02 11:23:07] {1931} INFO - fit succeeded\n",
      "[flaml.automl.logger: 06-02 11:23:07] {1932} INFO - Time taken to find the best model: 0.3215498924255371\n",
      "LGBMRegressor(colsample_bytree=0.9285002286474459,\n",
      "              learning_rate=0.7260594590615893, max_bin=511,\n",
      "              min_child_samples=9, n_estimators=1, n_jobs=-1, num_leaves=4,\n",
      "              reg_alpha=0.0036840681931986645, reg_lambda=0.7532480505730402,\n",
      "              verbose=-1)\n",
      "2.1501100763516825\n"
     ]
    }
   ],
   "source": [
    "from flaml import AutoML\n",
    "from sklearn.model_selection import train_test_split\n",
    "mlflow.set_experiment(\"FLAML\")\n",
    "mlflow.set_tracking_uri(uri=\"http://127.0.0.1:5000\")\n",
    "from sklearn.metrics import mean_squared_error\n",
    "\n",
    "\n",
    "# Initialize an AutoML instance\n",
    "automl = AutoML()\n",
    "# Specify automl goal and constraint\n",
    "automl_settings = {\n",
    "    \"time_budget\": 1,  # in seconds\n",
    "    \"metric\": \"mse\",\n",
    "    \"task\": \"regression\",\n",
    "    \"log_file_name\": \"Demetra.log\",\n",
    "}\n",
    "with mlflow.start_run(run_name=\"FLAML AutoML 0.25 rip\"):\n",
    "    X_train, X_test, Y_train, Y_test = train_test_split(X, Y[:,0], random_state=42)\n",
    "    # Train with labeled input data\n",
    "    automl.fit(X_train=X_train, y_train=Y_train, **automl_settings)\n",
    "    # Predict\n",
    "    predictions = automl.predict(X_test)\n",
    "    # Print the best model\n",
    "    print(automl.model.estimator)\n",
    "    print(mean_squared_error(Y_test,predictions))\n",
    "    mlflow.log_metric(\"MSE\",mean_squared_error(Y_test,predictions) )\n"
   ]
  },
  {
   "cell_type": "code",
   "execution_count": null,
   "metadata": {
    "id": "nYjRO817DC9O"
   },
   "outputs": [],
   "source": []
  }
 ],
 "metadata": {
  "colab": {
   "authorship_tag": "ABX9TyMqDK3tk6LgCp1QVFJnMQ/4",
   "provenance": []
  },
  "kernelspec": {
   "display_name": "Python 3 (ipykernel)",
   "language": "python",
   "name": "python3"
  },
  "language_info": {
   "codemirror_mode": {
    "name": "ipython",
    "version": 3
   },
   "file_extension": ".py",
   "mimetype": "text/x-python",
   "name": "python",
   "nbconvert_exporter": "python",
   "pygments_lexer": "ipython3",
   "version": "3.10.12"
  }
 },
 "nbformat": 4,
 "nbformat_minor": 1
}
