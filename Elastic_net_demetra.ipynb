{
 "cells": [
  {
   "cell_type": "code",
   "execution_count": 2,
   "metadata": {
    "executionInfo": {
     "elapsed": 11780,
     "status": "ok",
     "timestamp": 1713707742653,
     "user": {
      "displayName": "Giovanni Lombardo",
      "userId": "17752443154386048654"
     },
     "user_tz": -120
    },
    "id": "y02bE93N6LVp"
   },
   "outputs": [],
   "source": [
    "import pandas as pd\n",
    "from sklearn.metrics import mean_squared_error, PredictionErrorDisplay\n",
    "import matplotlib.pyplot as plt\n",
    "from sklearn.model_selection import train_test_split\n",
    "import numpy as np\n",
    "from tabulate import tabulate\n",
    "import mlflow\n",
    "from sklearn.linear_model import ElasticNet\n",
    "import warnings\n",
    "from sklearn.exceptions import ConvergenceWarning\n",
    "from sklearn_genetic import GASearchCV\n",
    "from sklearn_genetic.space import Categorical, Integer, Continuous\n",
    "\n",
    "path = 'SAMPLE_DATA_SET.xlsx'\n",
    "\n",
    "# Read and load dataset\n",
    "df= pd.read_excel(path, sheet_name=[0, 1])"
   ]
  },
  {
   "cell_type": "markdown",
   "metadata": {
    "id": "7zYeJ1B86PHk"
   },
   "source": [
    "INPUT DATA"
   ]
  },
  {
   "cell_type": "code",
   "execution_count": 3,
   "metadata": {
    "colab": {
     "base_uri": "https://localhost:8080/"
    },
    "executionInfo": {
     "elapsed": 8,
     "status": "ok",
     "timestamp": 1713707742653,
     "user": {
      "displayName": "Giovanni Lombardo",
      "userId": "17752443154386048654"
     },
     "user_tz": -120
    },
    "id": "JRPbme556RB0",
    "outputId": "1657b750-0e7d-4710-8b97-6ec97160469c"
   },
   "outputs": [
    {
     "name": "stdout",
     "output_type": "stream",
     "text": [
      "(839, 444)\n"
     ]
    }
   ],
   "source": [
    "X =df.get(0)\n",
    "X = (X.iloc[:,1:]).values\n",
    "X = X.T\n",
    "print(X.shape)"
   ]
  },
  {
   "cell_type": "markdown",
   "metadata": {
    "id": "XGX6RhVP6SgM"
   },
   "source": [
    "OUTPUT DATA"
   ]
  },
  {
   "cell_type": "code",
   "execution_count": 4,
   "metadata": {
    "colab": {
     "base_uri": "https://localhost:8080/"
    },
    "executionInfo": {
     "elapsed": 6,
     "status": "ok",
     "timestamp": 1713707742653,
     "user": {
      "displayName": "Giovanni Lombardo",
      "userId": "17752443154386048654"
     },
     "user_tz": -120
    },
    "id": "sc-pX0I06UaV",
    "outputId": "c34d0f54-d57f-4cef-8d07-fc6696c5b992"
   },
   "outputs": [
    {
     "name": "stdout",
     "output_type": "stream",
     "text": [
      "(839, 2)\n"
     ]
    }
   ],
   "source": [
    "Y =df.get(1)\n",
    "Y = (Y.iloc[:,:]).values\n",
    "print(Y.shape)"
   ]
  },
  {
   "cell_type": "markdown",
   "metadata": {
    "id": "Bke-kliELZsl"
   },
   "source": [
    "**ELASTIC NET with coordinate descent**"
   ]
  },
  {
   "cell_type": "code",
   "execution_count": null,
   "metadata": {
    "colab": {
     "base_uri": "https://localhost:8080/",
     "height": 1000
    },
    "executionInfo": {
     "elapsed": 80266,
     "status": "ok",
     "timestamp": 1713708603726,
     "user": {
      "displayName": "Giovanni Lombardo",
      "userId": "17752443154386048654"
     },
     "user_tz": -120
    },
    "id": "RAmoHRblLPki",
    "outputId": "3b303821-2805-41e2-d2bc-38431ba9d5c7",
    "scrolled": false
   },
   "outputs": [
    {
     "name": "stdout",
     "output_type": "stream",
     "text": [
      "0.05 ripartition\n",
      "0.1 ripartition\n",
      "0.15 ripartition\n",
      "0.2 ripartition\n",
      "0.25 ripartition\n",
      "0.3 ripartition\n",
      "0.35 ripartition\n"
     ]
    }
   ],
   "source": [
    "\n",
    "mlflow.set_experiment(\"Elastic Net CD\")\n",
    "mlflow.set_tracking_uri(uri=\"http://127.0.0.1:5000\")\n",
    "import sys, os\n",
    "\n",
    "if not sys.warnoptions:\n",
    "    warnings.simplefilter(\"ignore\")\n",
    "    os.environ[\"PYTHONWARNINGS\"] = \"ignore\" \n",
    "\n",
    "#number of trials\n",
    "trials = 100\n",
    "np.random.seed(42)\n",
    "seeds = np.random.randint(trials, size=trials)\n",
    "\n",
    "ripartisions = [i/100 for i in range(5,55,5)]\n",
    "results = []  \n",
    "\n",
    "# create 5x2 subfigs\n",
    "fig = plt.figure(constrained_layout=True, figsize=(20, 25))\n",
    "fig.suptitle('Elastic Net regression test' + \"\\n\")\n",
    "subfigs = fig.subfigures(nrows=5, ncols=2).flatten()\n",
    "k = 0\n",
    "\n",
    "for ripartition in ripartisions:\n",
    "\n",
    "    '''PARAM 1'''\n",
    "\n",
    "    MSE_param1 = []\n",
    "\n",
    "    best_MSE_1 = 100000000\n",
    "    best_data_1 = {\"Y_test\": None, \"Y_pred\": None, \"seed\": None,\"alpha\":None,\"r\":None}\n",
    "\n",
    "    run_name = str(ripartition) + \" ripartition\"\n",
    "    print(run_name)\n",
    "    with mlflow.start_run(run_name=run_name):\n",
    "        mlflow.log_param('ripartition', ripartition)\n",
    "    \n",
    "        i = 0\n",
    "        for i in range(trials):\n",
    "            #Ripartition in training and test and\n",
    "            X_train, X_test, Y_train, Y_test = train_test_split(X, Y[:,0], test_size=ripartition, random_state=seeds[i])\n",
    "            param_grid = {'alpha': Continuous(1/100000,0.01),\"l1_ratio\":Continuous(0,1)}\n",
    "            elastic_reg_cd = ElasticNet(max_iter=5000, tol=1e-2)\n",
    "    \n",
    "            evolved_estimator = GASearchCV(estimator=elastic_reg_cd,\n",
    "                              cv=5,\n",
    "                              scoring='neg_mean_squared_error',\n",
    "                              param_grid=param_grid,\n",
    "                              n_jobs=-1,\n",
    "                              verbose=False,\n",
    "                              population_size=10,\n",
    "                              generations=10)\n",
    "    \n",
    "            evolved_estimator.fit(X_train, Y_train)\n",
    "    \n",
    "            # Make predictions using the testing set\n",
    "            Y_pred_elastic_cd =  evolved_estimator.predict(X_test)\n",
    "    \n",
    "            #save MSE of the first parameters\n",
    "            MSE_param1.append(mean_squared_error(Y_test, Y_pred_elastic_cd))\n",
    "    \n",
    "            #check if this is the best model in terms of MSE\n",
    "            if MSE_param1[-1] < best_MSE_1:\n",
    "              best_MSE_1 = MSE_param1[-1]\n",
    "              best_data_1[\"Y_test\"] = Y_test\n",
    "              best_data_1[\"Y_pred\"] = Y_pred_elastic_cd\n",
    "              best_data_1[\"alpha\"] = float(evolved_estimator.best_params_[\"alpha\"])\n",
    "              best_data_1[\"r\"] = float(evolved_estimator.best_params_[\"l1_ratio\"])\n",
    "              best_data_1[\"seed\"] = seeds[i]\n",
    "\n",
    "        mlflow.log_metric(\"Best_MSE1\", best_MSE_1)\n",
    "        mlflow.log_metric(\"Mean_MSE1\", np.mean(MSE_param1))\n",
    "        mlflow.log_metric(\"Var_MSE1\", np.var(MSE_param1))\n",
    "        mlflow.log_metric(\"alpha1\", best_data_1[\"alpha\"])\n",
    "        mlflow.log_metric(\"r1\", best_data_1[\"r\"])\n",
    "    \n",
    "    \n",
    "        '''PARAM 2'''\n",
    "        MSE_param2 = []\n",
    "    \n",
    "        best_MSE_2 = 100000000\n",
    "        best_data_2 = {\"Y_test\": None, \"Y_pred\": None, \"seed\": None,\"alpha\":None,\"r\":None}\n",
    "    \n",
    "        i = 0\n",
    "        for i in range(trials):\n",
    "            X_train, X_test, Y_train, Y_test = train_test_split(X, Y[:,1], test_size=ripartition, random_state=seeds[i])\n",
    "            param_grid = {'alpha': Continuous(1/100000,0.01),\"l1_ratio\":Continuous(0,1)}\n",
    "            elastic_reg_cd = ElasticNet(max_iter=5000, tol=1e-2)\n",
    "                \n",
    "            evolved_estimator = GASearchCV(estimator=elastic_reg_cd,\n",
    "                              cv=5,\n",
    "                              scoring='neg_mean_squared_error',\n",
    "                              param_grid=param_grid,\n",
    "                              n_jobs=-1,\n",
    "                              verbose=False,\n",
    "                              population_size=10,\n",
    "                              generations=10)\n",
    "    \n",
    "            # Train the model using the training sets\n",
    "            evolved_estimator.fit(X_train, Y_train)\n",
    "    \n",
    "            # Make predictions using the testing set\n",
    "            Y_pred_elastic_cd = evolved_estimator.predict(X_test)\n",
    "    \n",
    "            #save MSE of the second parameters\n",
    "            MSE_param2.append(mean_squared_error(Y_test, Y_pred_elastic_cd))\n",
    "    \n",
    "            #check if this is the best model in terms of MSE\n",
    "            if MSE_param2[-1] < best_MSE_2:\n",
    "              best_MSE_2 = MSE_param2[-1]\n",
    "              best_data_2[\"Y_test\"] = Y_test\n",
    "              best_data_2[\"Y_pred\"] = Y_pred_elastic_cd\n",
    "              best_data_2[\"alpha\"] = float(evolved_estimator.best_params_[\"alpha\"])\n",
    "              best_data_2[\"r\"] = float(evolved_estimator.best_params_[\"l1_ratio\"])\n",
    "              best_data_2[\"seed\"] = seeds[i]\n",
    "\n",
    "\n",
    "        mlflow.log_metric(\"Best_MSE2\", best_MSE_2)\n",
    "        mlflow.log_metric(\"Mean_MSE2\", np.mean(MSE_param2))\n",
    "        mlflow.log_metric(\"Var_MSE2\", np.var(MSE_param2))\n",
    "        mlflow.log_metric(\"alpha2\", best_data_2[\"alpha\"])\n",
    "        mlflow.log_metric(\"r2\", best_data_2[\"r\"])\n",
    "\n",
    "    results.append([str(ripartition * 100), str(best_MSE_1), str(best_MSE_2),\n",
    "                    (np.mean(MSE_param1)), str(np.mean(MSE_param2)), str(np.var(MSE_param1)), str(np.var(MSE_param2)),\n",
    "                    str(best_data_1[\"alpha\"]), str(best_data_2[\"alpha\"]), best_data_1[\"seed\"],best_data_2[\"seed\"], \n",
    "                    best_data_1[\"r\"], best_data_2[\"r\"]])\n",
    "\n",
    "    '''PLOT THE BEST MODELS'''\n",
    "    subfigs[k].suptitle(\n",
    "        \"Elastic Net with Coordinate Descent\" + \"\\n\" + \"Best MSE results\" + \"\\n\" + f\"Test size(%): {ripartition * 100}\")\n",
    "    # create 1x2 subplots per subfig\n",
    "    axs = subfigs[k].subplots(nrows=1, ncols=2)\n",
    "    axs[0].scatter(best_data_1[\"Y_test\"], best_data_1[\"Y_pred\"], c='blue', label='Actual vs Predicted')\n",
    "    axs[0].plot([min(best_data_1[\"Y_test\"]), max(best_data_1[\"Y_test\"])],\n",
    "                [min(best_data_1[\"Y_test\"]), max(best_data_1[\"Y_test\"])], '--', c='red', label='Perfect Prediction')\n",
    "    axs[0].legend()\n",
    "    axs[0].set_xlabel(\"Actual values\")\n",
    "    axs[0].set_ylabel(\"Predicted value\")\n",
    "    axs[0].set_title(\n",
    "        \"Parameter 1\" + \"\\n\" + \"MSE: \" + str(min(MSE_param1)) + \"\\n\" + \" alpha= \" + str(best_data_1[\"alpha\"]) + \", r= \" + str(best_data_1[\"r\"]))\n",
    "\n",
    "    axs[1].scatter(best_data_2[\"Y_test\"], best_data_2[\"Y_pred\"], c='blue', label='Actual vs Predicted')\n",
    "    axs[1].plot([min(best_data_2[\"Y_test\"]), max(best_data_2[\"Y_test\"])],\n",
    "                [min(best_data_2[\"Y_test\"]), max(best_data_2[\"Y_test\"])], '--', c='red', label='Perfect Prediction')\n",
    "    axs[1].legend()\n",
    "    axs[1].set_xlabel(\"Actual values\")\n",
    "    axs[1].set_ylabel(\"Predicted value\")\n",
    "    axs[1].set_title(\n",
    "        \"Parameter 2\" + \"\\n\" + \"MSE: \" + str(min(MSE_param2)) + \"\\n\" + \" alpha= \" + str(best_data_2[\"alpha\"])  + \", r= \" + str(best_data_2[\"r\"]))\n",
    "    k += 1\n",
    "\n",
    "\n",
    "'''SHOW RESULTS'''\n",
    "headers = [\"Test size(%)\", \"Best(MSE1)\", \"Best(MSE2)\", \"Mean(MSE1)\", \"Mean(MSE2)\", \"Var(MSE1)\", \"Var(MSE2)\",\n",
    "           \"alpha1\",\"alpha2\",\"Seed1\",\"Seed2\",\"r1\",\"r2\"]\n",
    "\n",
    "print(tabulate(results, headers,  tablefmt=\"double_outline\"))\n"
   ]
  },
  {
   "cell_type": "markdown",
   "metadata": {
    "id": "wtcRXi4-Lc2h"
   },
   "source": [
    "**ELASTIC NET with SGD**"
   ]
  },
  {
   "cell_type": "code",
   "execution_count": null,
   "metadata": {
    "colab": {
     "base_uri": "https://localhost:8080/",
     "height": 1000
    },
    "executionInfo": {
     "elapsed": 521005,
     "status": "ok",
     "timestamp": 1713709124723,
     "user": {
      "displayName": "Giovanni Lombardo",
      "userId": "17752443154386048654"
     },
     "user_tz": -120
    },
    "id": "bY7B9z9uLe0o",
    "outputId": "14ae401b-64d6-4c29-83f8-647247cbedc1"
   },
   "outputs": [],
   "source": [
    "mlflow.set_experiment(\"Elastic Net SGD\")\n",
    "mlflow.set_tracking_uri(uri=\"http://127.0.0.1:5000\")\n",
    "from sklearn.linear_model import SGDRegressor\n",
    "import sys, os\n",
    "\n",
    "if not sys.warnoptions:\n",
    "    warnings.simplefilter(\"ignore\")\n",
    "    os.environ[\"PYTHONWARNINGS\"] = \"ignore\" \n",
    "\n",
    "#number of trials\n",
    "trials = 100\n",
    "np.random.seed(42)\n",
    "seeds = np.random.randint(trials, size=trials)\n",
    "\n",
    "ripartisions = [i/100 for i in range(5,55,5)]\n",
    "results = [] \n",
    "\n",
    "# create 5x2 subfigs\n",
    "fig = plt.figure(constrained_layout=True, figsize=(20, 25))\n",
    "fig.suptitle('Elastic Net regression test' + \"\\n\")\n",
    "subfigs = fig.subfigures(nrows=5, ncols=2).flatten()\n",
    "k = 0\n",
    "\n",
    "for ripartition in ripartisions:\n",
    "\n",
    "    '''PARAM 1'''\n",
    "\n",
    "    MSE_param1 = []\n",
    "\n",
    "    best_MSE_1 = 100000000\n",
    "    best_data_1 = {\"Y_test\":None, \"Y_pred\":None}\n",
    "\n",
    "    run_name = str(ripartition) + \" ripartition\"\n",
    "    with mlflow.start_run(run_name=run_name):\n",
    "        mlflow.log_param('ripartition', ripartition)\n",
    "\n",
    "        i = 0\n",
    "        for i in range(trials):\n",
    "            #Ripartition in training and test and\n",
    "            X_train, X_test, Y_train, Y_test = train_test_split(X, Y[:,0], test_size=ripartition, random_state=seeds[i])\n",
    "            param_grid = {'alpha': Continuous(1/100000,0.01),\"l1_ratio\":Continuous(0,1)}\n",
    "            elastic_reg_sgd = SGDRegressor(max_iter=5000, tol=1e-5, penalty=\"elasticnet\", eta0=0.01,\n",
    "                                                n_iter_no_change=10, random_state=42)\n",
    "\n",
    "            evolved_estimator = GASearchCV(estimator=elastic_reg_sgd,\n",
    "                              cv=5,\n",
    "                              scoring='neg_mean_squared_error',\n",
    "                              param_grid=param_grid,\n",
    "                              n_jobs=-1,\n",
    "                              verbose=False,\n",
    "                              population_size=10,\n",
    "                              generations=10)\n",
    "    \n",
    "            # Train the model using the training sets\n",
    "            evolved_estimator.fit(X_train, Y_train)\n",
    "    \n",
    "            # Make predictions using the testing set\n",
    "            Y_pred_elastic_sgd =  evolved_estimator.predict(X_test)\n",
    "    \n",
    "            #save MSE of the first parameters\n",
    "            MSE_param1.append(mean_squared_error(Y_test,  Y_pred_elastic_sgd))\n",
    "    \n",
    "            #check if this is the best model in terms of MSE\n",
    "            if MSE_param1[-1] < best_MSE_1:\n",
    "              best_MSE_1 = MSE_param1[-1]\n",
    "              best_data_1[\"Y_test\"] = Y_test\n",
    "              best_data_1[\"Y_pred\"] = Y_pred_elastic_cd\n",
    "              best_data_1[\"alpha\"] = float(evolved_estimator.best_params_[\"alpha\"])\n",
    "              best_data_1[\"r\"] = float(evolved_estimator.best_params_[\"l1_ratio\"])\n",
    "              best_data_1[\"seed\"] = seeds[i]\n",
    "\n",
    "        mlflow.log_metric(\"Best_MSE1\", best_MSE_1)\n",
    "        mlflow.log_metric(\"Mean_MSE1\", np.mean(MSE_param1))\n",
    "        mlflow.log_metric(\"Var_MSE1\", np.var(MSE_param1))\n",
    "        mlflow.log_metric(\"alpha1\", best_data_1[\"alpha\"])\n",
    "        mlflow.log_metric(\"r1\", best_data_1[\"r\"])\n",
    "    \n",
    "    \n",
    "        '''PARAM 2'''\n",
    "        MSE_param2 = []\n",
    "    \n",
    "        best_MSE_2 = 100000000\n",
    "        best_data_2 = {\"Y_test\":None, \"Y_pred\":None}\n",
    "    \n",
    "        i = 0\n",
    "        for i in range(trials):\n",
    "            X_train, X_test, Y_train, Y_test = train_test_split(X, Y[:,1], test_size=ripartition, random_state=seeds[i])\n",
    "            param_grid = {'alpha': Continuous(1/100000,0.01),\"l1_ratio\":Continuous(0,1)}\n",
    "            elastic_reg_sgd = SGDRegressor(max_iter=5000, tol=1e-5, penalty=\"elasticnet\", eta0=0.01,\n",
    "                                                n_iter_no_change=10, random_state=42)\n",
    "\n",
    "            evolved_estimator = GASearchCV(estimator=elastic_reg_sgd,\n",
    "                              cv=5,\n",
    "                              scoring='neg_mean_squared_error',\n",
    "                              param_grid=param_grid,\n",
    "                              n_jobs=-1,\n",
    "                              verbose=False,\n",
    "                              population_size=10,\n",
    "                              generations=10)\n",
    "    \n",
    "            # Train the model using the training sets\n",
    "            evolved_estimator.fit(X_train, Y_train)\n",
    "    \n",
    "            # Make predictions using the testing set\n",
    "            Y_pred_elastic_sgd =  evolved_estimator.predict(X_test)\n",
    "    \n",
    "            #save MSE of the second parameters\n",
    "            MSE_param2.append(mean_squared_error(Y_test, Y_pred_elastic_sgd))\n",
    "    \n",
    "            #check if this is the best model in terms of MSE\n",
    "            if MSE_param2[-1] < best_MSE_2:\n",
    "              best_MSE_2 = MSE_param2[-1]\n",
    "              best_data_2[\"Y_test\"] = Y_test\n",
    "              best_data_2[\"Y_pred\"] = Y_pred_elastic_cd\n",
    "              best_data_2[\"alpha\"] = float(evolved_estimator.best_params_[\"alpha\"])\n",
    "              best_data_2[\"r\"] = float(evolved_estimator.best_params_[\"l1_ratio\"])\n",
    "              best_data_2[\"seed\"] = seeds[i]\n",
    "\n",
    "\n",
    "        mlflow.log_metric(\"Best_MSE2\", best_MSE_2)\n",
    "        mlflow.log_metric(\"Mean_MSE2\", np.mean(MSE_param2))\n",
    "        mlflow.log_metric(\"Var_MSE2\", np.var(MSE_param2))\n",
    "        mlflow.log_metric(\"alpha2\", best_data_2[\"alpha\"])\n",
    "        mlflow.log_metric(\"r2\", best_data_2[\"r\"])\n",
    "\n",
    "    results.append([str(ripartition * 100), str(best_MSE_1), str(best_MSE_2),\n",
    "                    (np.mean(MSE_param1)), str(np.mean(MSE_param2)), str(np.var(MSE_param1)), str(np.var(MSE_param2)),\n",
    "                    str(best_data_1[\"alpha\"]), str(best_data_2[\"alpha\"]), best_data_1[\"seed\"],best_data_2[\"seed\"], \n",
    "                    best_data_1[\"r\"], best_data_2[\"r\"]])\n",
    "\n",
    "    '''PLOT THE BEST MODELS'''\n",
    "    subfigs[k].suptitle(\n",
    "        \"Elastic Net with SGD\" + \"\\n\" + \"Best MSE results\" + \"\\n\" + f\"Test size(%): {ripartition * 100}\")\n",
    "    # create 1x2 subplots per subfig\n",
    "    axs = subfigs[k].subplots(nrows=1, ncols=2)\n",
    "    axs[0].scatter(best_data_1[\"Y_test\"], best_data_1[\"Y_pred\"], c='blue', label='Actual vs Predicted')\n",
    "    axs[0].plot([min(best_data_1[\"Y_test\"]), max(best_data_1[\"Y_test\"])],\n",
    "                [min(best_data_1[\"Y_test\"]), max(best_data_1[\"Y_test\"])], '--', c='red', label='Perfect Prediction')\n",
    "    axs[0].legend()\n",
    "    axs[0].set_xlabel(\"Actual values\")\n",
    "    axs[0].set_ylabel(\"Predicted value\")\n",
    "    axs[0].set_title(\n",
    "        \"Parameter 1\" + \"\\n\" + \"MSE: \" + str(min(MSE_param1)) + \"\\n\" + \" alpha= \" + str(best_data_1[\"alpha\"]) + \", r= \" + best_data_1[\"r\"])\n",
    "\n",
    "    axs[1].scatter(best_data_2[\"Y_test\"], best_data_2[\"Y_pred\"], c='blue', label='Actual vs Predicted')\n",
    "    axs[1].plot([min(best_data_2[\"Y_test\"]), max(best_data_2[\"Y_test\"])],\n",
    "                [min(best_data_2[\"Y_test\"]), max(best_data_2[\"Y_test\"])], '--', c='red', label='Perfect Prediction')\n",
    "    axs[1].legend()\n",
    "    axs[1].set_xlabel(\"Actual values\")\n",
    "    axs[1].set_ylabel(\"Predicted value\")\n",
    "    axs[1].set_title(\n",
    "        \"Parameter 2\" + \"\\n\" + \"MSE: \" + str(min(MSE_param2)) + \"\\n\" + \" alpha= \" + str(best_data_2[\"alpha\"])  + \", r= \" + best_data_2[\"r\"])\n",
    "    k += 1\n",
    "\n",
    "\n",
    "'''SHOW RESULTS'''\n",
    "headers = [\"Test size(%)\", \"Best(MSE1)\", \"Best(MSE2)\", \"Mean(MSE1)\", \"Mean(MSE2)\", \"Var(MSE1)\", \"Var(MSE2)\",\n",
    "           \"alpha1\",\"alpha2\",\"Seed1\",\"Seed2\",\"r1\",\"r2\"]\n",
    "\n",
    "print(tabulate(results, headers,  tablefmt=\"double_outline\"))\n"
   ]
  }
 ],
 "metadata": {
  "colab": {
   "authorship_tag": "ABX9TyOav4fwV2aGlUE9gqpNzIJy",
   "provenance": []
  },
  "kernelspec": {
   "display_name": "Python 3 (ipykernel)",
   "language": "python",
   "name": "python3"
  },
  "language_info": {
   "codemirror_mode": {
    "name": "ipython",
    "version": 3
   },
   "file_extension": ".py",
   "mimetype": "text/x-python",
   "name": "python",
   "nbconvert_exporter": "python",
   "pygments_lexer": "ipython3",
   "version": "3.10.12"
  }
 },
 "nbformat": 4,
 "nbformat_minor": 4
}
