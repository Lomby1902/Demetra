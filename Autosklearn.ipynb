{
 "cells": [
  {
   "cell_type": "code",
   "execution_count": 21,
   "id": "540aa0f2-8f28-4565-94bb-2f9a36201b42",
   "metadata": {},
   "outputs": [],
   "source": [
    "import pandas as pd\n",
    "import numpy as np\n",
    "import matplotlib.pyplot as plt\n",
    "from tabulate import tabulate\n",
    "import mlflow\n",
    "import autosklearn.regression\n",
    "import sklearn.model_selection\n",
    "import sklearn.datasets\n",
    "import sklearn.metrics\n",
    "from sklearn.model_selection import train_test_split\n",
    "path = 'SAMPLE_DATA_SET.xlsx'\n",
    "\n",
    "# Read and load dataset\n",
    "df= pd.read_excel(path, sheet_name=[0, 1])"
   ]
  },
  {
   "cell_type": "code",
   "execution_count": 15,
   "id": "191cabc0-e95d-4238-8376-6c0a7cf73086",
   "metadata": {},
   "outputs": [
    {
     "name": "stdout",
     "output_type": "stream",
     "text": [
      "(839, 444)\n"
     ]
    }
   ],
   "source": [
    "X =df.get(0)\n",
    "X = (X.iloc[:,1:]).values\n",
    "X = X.T\n",
    "print(X.shape)"
   ]
  },
  {
   "cell_type": "code",
   "execution_count": 16,
   "id": "b825e408-2ded-40e3-b9b0-0ac28965327c",
   "metadata": {},
   "outputs": [
    {
     "name": "stdout",
     "output_type": "stream",
     "text": [
      "(839, 2)\n"
     ]
    }
   ],
   "source": [
    "Y =df.get(1)\n",
    "Y = (Y.iloc[:,:]).values\n",
    "print(Y.shape)"
   ]
  },
  {
   "cell_type": "code",
   "execution_count": 50,
   "id": "184a84bf-54eb-4dea-8a9b-b7fbed9c4f4e",
   "metadata": {},
   "outputs": [
    {
     "name": "stderr",
     "output_type": "stream",
     "text": [
      "2024/05/29 21:49:42 INFO mlflow.tracking.fluent: Experiment with name 'AUTO Scikit-learn' does not exist. Creating a new experiment.\n"
     ]
    }
   ],
   "source": [
    "\n",
    "mlflow.set_experiment(\"AUTO Scikit-learn\")\n",
    "mlflow.set_tracking_uri(uri=\"http://127.0.0.1:5000\")\n",
    "\n",
    "with mlflow.start_run(run_name=\"Auto Sklearn 0.3 rip\"):\n",
    "\n",
    "    X_train, X_test, Y_train, Y_test = train_test_split(X, Y[:, 0], test_size=0.3, random_state=42)\n",
    "    automl = autosklearn.regression.AutoSklearnRegressor()\n",
    "    automl.fit(X_train, Y_train)\n",
    "    y_hat = automl.predict(X_test)\n",
    "    mlflow.log_param('MSE', mean_squared_error(Y_test, test_predictions))\n"
   ]
  },
  {
   "cell_type": "code",
   "execution_count": 23,
   "id": "6be98b48-829a-4b6f-8876-3f532e07cb87",
   "metadata": {},
   "outputs": [
    {
     "name": "stdout",
     "output_type": "stream",
     "text": [
      "          rank  ensemble_weight            type      cost   duration\n",
      "model_id                                                            \n",
      "290          1             0.64      libsvm_svr  0.252381   0.342295\n",
      "1039         2             0.08  ard_regression  0.279884   0.427476\n",
      "963          3             0.08  ard_regression  0.280875   0.639595\n",
      "1036         4             0.02  ard_regression  0.283949   0.393942\n",
      "185          5             0.10     extra_trees  0.293412  11.728742\n",
      "1054         6             0.08  ard_regression  0.296104   8.493919\n"
     ]
    }
   ],
   "source": [
    "print(automl.leaderboard())"
   ]
  },
  {
   "cell_type": "code",
   "execution_count": 29,
   "id": "5a028697",
   "metadata": {},
   "outputs": [
    {
     "name": "stdout",
     "output_type": "stream",
     "text": [
      "Pretty printing has been turned ON\n"
     ]
    },
    {
     "data": {
      "text/plain": [
       "{185: {'model_id': 185,\n",
       "  'rank': 1,\n",
       "  'cost': 0.29341207373026046,\n",
       "  'ensemble_weight': 0.1,\n",
       "  'data_preprocessor': <autosklearn.pipeline.components.data_preprocessing.DataPreprocessorChoice at 0x7ce77654d9c0>,\n",
       "  'feature_preprocessor': <autosklearn.pipeline.components.feature_preprocessing.FeaturePreprocessorChoice at 0x7ce77654e170>,\n",
       "  'regressor': <autosklearn.pipeline.components.regression.RegressorChoice at 0x7ce775f883a0>,\n",
       "  'sklearn_regressor': ExtraTreesRegressor(criterion='mae', max_features=0.8905571679380339,\n",
       "                      min_samples_split=12, n_estimators=512, n_jobs=1,\n",
       "                      random_state=1, warm_start=True)},\n",
       " 290: {'model_id': 290,\n",
       "  'rank': 2,\n",
       "  'cost': 0.2523806607757564,\n",
       "  'ensemble_weight': 0.64,\n",
       "  'data_preprocessor': <autosklearn.pipeline.components.data_preprocessing.DataPreprocessorChoice at 0x7ce77654d960>,\n",
       "  'feature_preprocessor': <autosklearn.pipeline.components.feature_preprocessing.FeaturePreprocessorChoice at 0x7ce775cc6740>,\n",
       "  'regressor': <autosklearn.pipeline.components.regression.RegressorChoice at 0x7ce775cc4ac0>,\n",
       "  'sklearn_regressor': SVR(C=935.1179967631327, cache_size=1895.4322916666667,\n",
       "      epsilon=0.21036101783259578, gamma=0.001852539532235834, shrinking=False,\n",
       "      tol=0.00025740894358079476, verbose=0)},\n",
       " 963: {'model_id': 963,\n",
       "  'rank': 3,\n",
       "  'cost': 0.28087493039985767,\n",
       "  'ensemble_weight': 0.08,\n",
       "  'data_preprocessor': <autosklearn.pipeline.components.data_preprocessing.DataPreprocessorChoice at 0x7ce775cc55d0>,\n",
       "  'feature_preprocessor': <autosklearn.pipeline.components.feature_preprocessing.FeaturePreprocessorChoice at 0x7ce775cc55a0>,\n",
       "  'regressor': <autosklearn.pipeline.components.regression.RegressorChoice at 0x7ce775cc6b30>,\n",
       "  'sklearn_regressor': ARDRegression(alpha_1=2.9204810014234747e-05, alpha_2=2.753518812929173e-06,\n",
       "                copy_X=False, lambda_1=5.143618452917959e-06,\n",
       "                lambda_2=3.0001789003550366e-06,\n",
       "                threshold_lambda=10466.66901476114, tol=0.000899844400749989)},\n",
       " 1036: {'model_id': 1036,\n",
       "  'rank': 4,\n",
       "  'cost': 0.2839491233422229,\n",
       "  'ensemble_weight': 0.02,\n",
       "  'data_preprocessor': <autosklearn.pipeline.components.data_preprocessing.DataPreprocessorChoice at 0x7ce775cc6e60>,\n",
       "  'feature_preprocessor': <autosklearn.pipeline.components.feature_preprocessing.FeaturePreprocessorChoice at 0x7ce77640e8c0>,\n",
       "  'regressor': <autosklearn.pipeline.components.regression.RegressorChoice at 0x7ce776774730>,\n",
       "  'sklearn_regressor': ARDRegression(alpha_1=0.0001465123154751177, alpha_2=1.0566387618862873e-06,\n",
       "                copy_X=False, lambda_1=1.0000000000000004e-06,\n",
       "                lambda_2=4.6929040423590834e-07,\n",
       "                threshold_lambda=10000.00000000001, tol=0.00149409892651896)},\n",
       " 1039: {'model_id': 1039,\n",
       "  'rank': 5,\n",
       "  'cost': 0.27988385496251533,\n",
       "  'ensemble_weight': 0.08,\n",
       "  'data_preprocessor': <autosklearn.pipeline.components.data_preprocessing.DataPreprocessorChoice at 0x7ce775cc5ba0>,\n",
       "  'feature_preprocessor': <autosklearn.pipeline.components.feature_preprocessing.FeaturePreprocessorChoice at 0x7ce776777160>,\n",
       "  'regressor': <autosklearn.pipeline.components.regression.RegressorChoice at 0x7ce775f8ae00>,\n",
       "  'sklearn_regressor': ARDRegression(alpha_1=2.607408241483091e-05, alpha_2=4.481983031158058e-07,\n",
       "                copy_X=False, lambda_1=2.33616347048622e-06,\n",
       "                lambda_2=7.066840591741369e-07,\n",
       "                threshold_lambda=10000.00000000001, tol=0.0015688087463578435)},\n",
       " 1054: {'model_id': 1054,\n",
       "  'rank': 6,\n",
       "  'cost': 0.29610355878811445,\n",
       "  'ensemble_weight': 0.08,\n",
       "  'data_preprocessor': <autosklearn.pipeline.components.data_preprocessing.DataPreprocessorChoice at 0x7ce775cc45e0>,\n",
       "  'feature_preprocessor': <autosklearn.pipeline.components.feature_preprocessing.FeaturePreprocessorChoice at 0x7ce775f88250>,\n",
       "  'regressor': <autosklearn.pipeline.components.regression.RegressorChoice at 0x7ce775f89090>,\n",
       "  'sklearn_regressor': ARDRegression(alpha_1=0.0006806013065953542, alpha_2=1.329983014035633e-05,\n",
       "                copy_X=False, lambda_1=4.072658666959726e-08,\n",
       "                lambda_2=3.2842004362969914e-05,\n",
       "                threshold_lambda=26904.901341121265, tol=7.902164837646985e-05)}}"
      ]
     },
     "execution_count": 29,
     "metadata": {},
     "output_type": "execute_result"
    }
   ],
   "source": [
    "%pprint\n",
    "import pprint\n",
    "automl.show_models()"
   ]
  },
  {
   "cell_type": "code",
   "execution_count": 47,
   "id": "222452d8",
   "metadata": {},
   "outputs": [
    {
     "data": {
      "image/png": "[encoded data removed]",
      "text/plain": [
       "<Figure size 432x288 with 1 Axes>"
      ]
     },
     "metadata": {
      "needs_background": "light"
     },
     "output_type": "display_data"
    }
   ],
   "source": [
    "plt.scatter(Y_test,test_predictions, c=\"#d95f02\")\n",
    "plt.plot([min(Y_test), max(Y_test)],\n",
    "                [min(Y_test), max(Y_test)], '--', c='red', label='Perfect Prediction')\n",
    "plt.xlabel(\"Predicted value\")\n",
    "plt.ylabel(\"True value\")\n",
    "plt.legend()\n",
    "plt.tight_layout()\n",
    "plt.show()"
   ]
  },
  {
   "cell_type": "code",
   "execution_count": null,
   "id": "313ae132",
   "metadata": {},
   "outputs": [],
   "source": []
  }
 ],
 "metadata": {
  "kernelspec": {
   "display_name": "Python 3 (ipykernel)",
   "language": "python",
   "name": "python3"
  },
  "language_info": {
   "codemirror_mode": {
    "name": "ipython",
    "version": 3
   },
   "file_extension": ".py",
   "mimetype": "text/x-python",
   "name": "python",
   "nbconvert_exporter": "python",
   "pygments_lexer": "ipython3",
   "version": "3.10.12"
  }
 },
 "nbformat": 4,
 "nbformat_minor": 5
}
