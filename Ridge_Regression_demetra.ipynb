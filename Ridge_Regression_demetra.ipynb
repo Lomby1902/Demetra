{
 "cells": [
  {
   "cell_type": "code",
   "execution_count": null,
   "metadata": {
    "id": "DeJx7tguCjnb"
   },
   "outputs": [],
   "source": [
    "import pandas as pd\n",
    "from sklearn.metrics import mean_squared_error, PredictionErrorDisplay\n",
    "import matplotlib.pyplot as plt\n",
    "from sklearn.model_selection import train_test_split, GridSearchCV\n",
    "import numpy as np\n",
    "from sklearn.linear_model import Ridge\n",
    "from tabulate import tabulate\n",
    "from sklearn_genetic import GASearchCV\n",
    "from sklearn_genetic.space import Categorical, Integer, Continuous\n",
    "\n",
    "path = 'SAMPLE_DATA_SET.xlsx'\n",
    "\n",
    "# Read and load dataset\n",
    "df= pd.read_excel(path, sheet_name=[0, 1])\n"
   ]
  },
  {
   "cell_type": "markdown",
   "metadata": {
    "id": "6LoGSDzBCkPR"
   },
   "source": [
    "INPUT DATA"
   ]
  },
  {
   "cell_type": "code",
   "execution_count": null,
   "metadata": {
    "colab": {
     "base_uri": "https://localhost:8080/"
    },
    "executionInfo": {
     "elapsed": 10,
     "status": "ok",
     "timestamp": 1714748289388,
     "user": {
      "displayName": "Giovanni Lombardo",
      "userId": "17752443154386048654"
     },
     "user_tz": -120
    },
    "id": "JJcSpwV0CmiK",
    "outputId": "f0820786-ee5f-4976-8605-6fe7d498a257"
   },
   "outputs": [],
   "source": [
    "X =df.get(0)\n",
    "X = (X.iloc[:,1:]).values\n",
    "X = X.T\n",
    "print(X.shape)"
   ]
  },
  {
   "cell_type": "markdown",
   "metadata": {
    "id": "6wMhRqrsCojw"
   },
   "source": [
    "OUTPUT DATA"
   ]
  },
  {
   "cell_type": "code",
   "execution_count": null,
   "metadata": {
    "colab": {
     "base_uri": "https://localhost:8080/"
    },
    "executionInfo": {
     "elapsed": 5,
     "status": "ok",
     "timestamp": 1714748289388,
     "user": {
      "displayName": "Giovanni Lombardo",
      "userId": "17752443154386048654"
     },
     "user_tz": -120
    },
    "id": "QDo7dWOmCrT9",
    "outputId": "0ca1733b-ea5c-459f-b4c6-ecfda32aa195"
   },
   "outputs": [],
   "source": [
    "Y =df.get(1)\n",
    "Y = (Y.iloc[:,:]).values\n",
    "print(Y.shape)"
   ]
  },
  {
   "cell_type": "markdown",
   "metadata": {
    "id": "PlPjOdAQKgqr"
   },
   "source": [
    "RIDGE REGRESSION with closed form solution"
   ]
  },
  {
   "cell_type": "code",
   "execution_count": null,
   "metadata": {
    "colab": {
     "base_uri": "https://localhost:8080/",
     "height": 868
    },
    "executionInfo": {
     "elapsed": 4185248,
     "status": "error",
     "timestamp": 1714752830985,
     "user": {
      "displayName": "Giovanni Lombardo",
      "userId": "17752443154386048654"
     },
     "user_tz": -120
    },
    "id": "Y7HQm0eyKWEH",
    "outputId": "5384448a-0c74-4df3-b631-402f97ec8602"
   },
   "outputs": [],
   "source": [
    "#number of trials\n",
    "trials = 100\n",
    "np.random.seed(42)\n",
    "seeds = np.random.randint(trials, size=trials)\n",
    "\n",
    "ripartisions = [i/100 for i in range(5,55,5)]\n",
    "results = []  #[\"Ripartition\", \"Best_MSE1\", \"Best_MSE2\",\"MSE1_mean\",\"MSE2_mean\",\"MSE1_var\",\"MSE2_var\",\"alpha1\",\"alpha2\"]\n",
    "\n",
    "\n",
    "for ripartition in ripartisions:\n",
    "\n",
    "    '''PARAM 1'''\n",
    "\n",
    "    MSE_param1 = []\n",
    "\n",
    "    best_MSE_1 = 100000000\n",
    "    best_data_1 = {\"Y_test\":None, \"Y_pred\":None,\"alpha\":None}\n",
    "\n",
    "    i = 0\n",
    "    for i in range(trials):\n",
    "        #Ripartition in training and test and\n",
    "        X_train, X_test, Y_train, Y_test = train_test_split(X, Y[:,0], test_size=ripartition, random_state=seeds[i])\n",
    "        param_grid = {'alpha': Continuous(1/100000,0.01)}\n",
    "        ridge_reg_cl = Ridge(solver=\"cholesky\")\n",
    "        \n",
    "        evolved_estimator = GASearchCV(estimator=ridge_reg_cl,\n",
    "                              cv=5,\n",
    "                              scoring='neg_mean_squared_error',\n",
    "                              param_grid=param_grid,\n",
    "                              n_jobs=-1,\n",
    "                              verbose=True,\n",
    "                              population_size=10,\n",
    "                              generations=10)\n",
    "\n",
    "        evolved_estimator.fit(X_train, Y_train)\n",
    "\n",
    "        # Make predictions using the testing set\n",
    "        Y_pred_ridge_cl =  evolved_estimator.predict(X_test)\n",
    "\n",
    "        #save MSE of the first parameters\n",
    "        MSE_param1.append(mean_squared_error(Y_test, Y_pred_ridge_cl))\n",
    "\n",
    "        #check if this is the best model in terms of MSE\n",
    "        if MSE_param1[-1] < best_MSE_1:\n",
    "          best_MSE_1 = MSE_param1[-1]\n",
    "          best_data_1[\"Y_test\"] = Y_test\n",
    "          best_data_1[\"Y_pred\"] = Y_pred_ridge_cl\n",
    "          best_data_1[\"alpha\"] =  float(evolved_estimator.best_params_[\"alpha\"])\n",
    "\n",
    "\n",
    "    '''PARAM 2'''\n",
    "    MSE_param2 = []\n",
    "\n",
    "    best_MSE_2 = 100000000\n",
    "    best_data_2 = {\"Y_test\":None, \"Y_pred\":None,\"alpha\":None}\n",
    "\n",
    "    i = 0\n",
    "    for i in range(trials):\n",
    "        X_train, X_test, Y_train, Y_test = train_test_split(X, Y[:,1], test_size=ripartition, random_state=seeds[i])\n",
    "        param_grid = param_grid = {'alpha': Continuous(1/100000,0.01)}\n",
    "        ridge_reg_cl = Ridge(solver=\"cholesky\")\n",
    "\n",
    "        evolved_estimator = GASearchCV(estimator=ridge_reg_cl,\n",
    "                              cv=5,\n",
    "                              scoring='neg_mean_squared_error',\n",
    "                              param_grid=param_grid,\n",
    "                              n_jobs=-1,\n",
    "                              verbose=True,\n",
    "                              population_size=10,\n",
    "                              generations=10)\n",
    "\n",
    "        evolved_estimator.fit(X_train, Y_train)\n",
    "\n",
    "        # Make predictions using the testing set\n",
    "        Y_pred_ridge_cl =  evolved_estimator.predict(X_test)\n",
    "        #save MSE of the second parameters\n",
    "        MSE_param2.append(mean_squared_error(Y_test, Y_pred_ridge_cl))\n",
    "\n",
    "        #check if this is the best model in terms of MSE\n",
    "        if MSE_param2[-1] < best_MSE_2:\n",
    "          best_MSE_2 = MSE_param2[-1]\n",
    "          best_data_2[\"Y_test\"] = Y_test\n",
    "          best_data_2[\"Y_pred\"] = Y_pred_ridge_cl\n",
    "          best_data_2[\"alpha\"] =  float(evolved_estimator.best_params_[\"alpha\"])\n",
    "\n",
    "\n",
    "    results.append([str(ripartition *100 ), str(best_MSE_1), str(best_MSE_2),\n",
    "                    (np.mean(MSE_param1)),str(np.mean(MSE_param2)), str(np.var(MSE_param1)),\n",
    "                    str(np.var(MSE_param2)), str(np.var(MSE_param2)), str(best_data_1[\"alpha\"]), str(best_data_2[\"alpha\"])])\n",
    "\n",
    "    '''PLOT THE BEST MODELS'''\n",
    "    fig, axs = plt.subplots(ncols=2, figsize=(10, 5))\n",
    "    plt.subplots_adjust(wspace=0.3)\n",
    "    PredictionErrorDisplay.from_predictions(y_true=best_data_1[\"Y_test\"], y_pred=best_data_1[\"Y_pred\"], kind = \"actual_vs_predicted\", ax=axs[0])\n",
    "    axs[0].set_title(\"Parameter 1\"+\"\\n\"+ \"MSE: \" +  str(min(MSE_param1)) + \"\\n\" + \" alpha= \"+ str(best_data_1[\"alpha\"]))\n",
    "    disp2= PredictionErrorDisplay.from_predictions(y_true=best_data_2[\"Y_test\"], y_pred=best_data_2[\"Y_pred\"], kind = \"actual_vs_predicted\", ax=axs[1])\n",
    "    axs[1].set_title(\"Parameter 2\"+\"\\n\"+ \"MSE: \" +  str(min(MSE_param2)) + \"\\n\" + \" alpha= \"+ str(best_data_2[\"alpha\"]))\n",
    "    fig.suptitle(\"Ridge Regression with closed form\"+\"\\n\"+ \"Best MSE results\" + \"\\n\"+ f\"Test size(%): {ripartition * 100}\")\n",
    "    plt.tight_layout()\n",
    "    plt.show()\n",
    "\n",
    "\n",
    "'''SHOW RESULTS'''\n",
    "headers = [\"Test size(%)\",\"Best(MSE1)\", \"Best(MSE2)\",\"Mean(MSE1)\", \"Mean(MSE2)\", \"Var(MSE1)\", \"Var(MSE2)\",\"alpha1\",\"alpha2\"]\n",
    "\n",
    "print(tabulate(results, headers,  tablefmt=\"double_outline\"))\n",
    "\n"
   ]
  },
  {
   "cell_type": "markdown",
   "metadata": {
    "id": "TDlfwPf7Kpmz"
   },
   "source": [
    "**RIDGE REGRESSION with SGD**"
   ]
  },
  {
   "cell_type": "code",
   "execution_count": null,
   "metadata": {
    "id": "x3quqTzaKwN6"
   },
   "outputs": [],
   "source": [
    "from sklearn.linear_model import SGDRegressor\n",
    "\n",
    "#number of trials\n",
    "trials = 100\n",
    "np.random.seed(42)\n",
    "seeds = np.random.randint(trials, size=trials)\n",
    "\n",
    "ripartisions = [i/100 for i in range(5,55,5)]\n",
    "results = []  #[\"Ripartition\", \"Best_MSE1\", \"Best_MSE2\",\"MSE1_mean\",\"MSE2_mean\",\"MSE1_var\",\"MSE2_var\",\"alpha1\",\"alpha2\"]\n",
    "\n",
    "\n",
    "for ripartition in ripartisions:\n",
    "\n",
    "    '''PARAM 1'''\n",
    "\n",
    "    MSE_param1 = []\n",
    "\n",
    "    best_MSE_1 = 100000000\n",
    "    best_data_1 = {\"Y_test\":None, \"Y_pred\":None,\"alpha\":None}\n",
    "\n",
    "    i = 0\n",
    "    for i in range(trials):\n",
    "        #Ripartition in training and test and\n",
    "        X_train, X_test, Y_train, Y_test = train_test_split(X, Y[:,0], test_size=ripartition, random_state=seeds[i])\n",
    "        param_grid = {'alpha': Continuous(1/100000,0.01)}\n",
    "        ridge_reg_sgd = SGDRegressor(max_iter=5000, tol=1e-5, penalty=\"l2\", eta0=0.01,\n",
    "                                            n_iter_no_change=10, random_state=42)\n",
    "\n",
    "        evolved_estimator = GASearchCV(estimator=ridge_reg_cl,\n",
    "                              cv=5,\n",
    "                              scoring='neg_mean_squared_error',\n",
    "                              param_grid=param_grid,\n",
    "                              n_jobs=-1,\n",
    "                              verbose=True,\n",
    "                              population_size=10,\n",
    "                              generations=10)\n",
    "\n",
    "        evolved_estimator.fit(X_train, Y_train)\n",
    "\n",
    "        # Make predictions using the testing set\n",
    "        Y_pred_ridge_sgd =  evolved_estimator.predict(X_test)\n",
    "\n",
    "        #save MSE of the first parameters\n",
    "        MSE_param1.append(mean_squared_error(Y_test, Y_pred_ridge_sgd))\n",
    "\n",
    "        #check if this is the best model in terms of MSE\n",
    "        if MSE_param1[-1] < best_MSE_1:\n",
    "          best_MSE_1 = MSE_param1[-1]\n",
    "          best_data_1[\"Y_test\"] = Y_test\n",
    "          best_data_1[\"Y_pred\"] = Y_pred_ridge_sgd\n",
    "          best_data_1[\"alpha\"] =  float(evolved_estimator.best_params_[\"alpha\"])\n",
    "\n",
    "\n",
    "    '''PARAM 2'''\n",
    "    MSE_param2 = []\n",
    "\n",
    "    best_MSE_2 = 100000000\n",
    "    best_data_2 = {\"Y_test\":None, \"Y_pred\":None,\"alpha\":None}\n",
    "\n",
    "    i = 0\n",
    "    for i in range(trials):\n",
    "        X_train, X_test, Y_train, Y_test = train_test_split(X, Y[:,1], test_size=ripartition, random_state=seeds[i])\n",
    "        param_grid = {'alpha': Continuous(1/100000,0.01)}\n",
    "        ridge_reg_sgd = SGDRegressor(max_iter=5000, tol=1e-5, penalty=\"l2\", eta0=0.01,\n",
    "                                            n_iter_no_change=10, random_state=42)\n",
    "\n",
    "        evolved_estimator = GASearchCV(estimator=ridge_reg_cl,\n",
    "                              cv=5,\n",
    "                              scoring='neg_mean_squared_error',\n",
    "                              param_grid=param_grid,\n",
    "                              n_jobs=-1,\n",
    "                              verbose=True,\n",
    "                              population_size=10,\n",
    "                              generations=10)\n",
    "\n",
    "        evolved_estimator.fit(X_train, Y_train)\n",
    "\n",
    "        # Make predictions using the testing set\n",
    "        Y_pred_ridge_sgd =  evolved_estimator.predict(X_test)\n",
    "\n",
    "        #save MSE of the second parameters\n",
    "        MSE_param2.append(mean_squared_error(Y_test, Y_pred_ridge_sgd))\n",
    "\n",
    "        #check if this is the best model in terms of MSE\n",
    "        if MSE_param2[-1] < best_MSE_2:\n",
    "          best_MSE_2 = MSE_param2[-1]\n",
    "          best_data_2[\"Y_test\"] = Y_test\n",
    "          best_data_2[\"Y_pred\"] = Y_pred_ridge_sgd\n",
    "          best_data_2[\"alpha\"] =  float(evolved_estimator.best_params_[\"alpha\"])\n",
    "\n",
    "    results.append([str(ripartition *100 ), str(best_MSE_1), str(best_MSE_2),\n",
    "     (np.mean(MSE_param1)),str(np.mean(MSE_param2)), str(np.var(MSE_param1)), str(np.var(MSE_param2)),str(best_data_1[\"alpha\"]),str(best_data_2[\"alpha\"])])\n",
    "\n",
    "    '''PLOT THE BEST MODELS'''\n",
    "    fig, axs = plt.subplots(ncols=2, figsize=(10, 5))\n",
    "    plt.subplots_adjust(wspace=0.3)\n",
    "    PredictionErrorDisplay.from_predictions(y_true=best_data_1[\"Y_test\"], y_pred=best_data_1[\"Y_pred\"], kind = \"actual_vs_predicted\", ax=axs[0])\n",
    "    axs[0].set_title(\"Parameter 1\"+\"\\n\"+ \"MSE: \" +  str(min(MSE_param1)) + \"\\n\" + \" alpha= \"+ str(best_data_1[\"alpha\"]))\n",
    "    disp2= PredictionErrorDisplay.from_predictions(y_true=best_data_2[\"Y_test\"], y_pred=best_data_2[\"Y_pred\"], kind = \"actual_vs_predicted\", ax=axs[1])\n",
    "    axs[1].set_title(\"Parameter 2\"+\"\\n\"+ \"MSE: \" +  str(min(MSE_param2)) + \"\\n\" + \" alpha= \"+ str(best_data_2[\"alpha\"]))\n",
    "    fig.suptitle(\"Ridge Regression with SGD\"+\"\\n\"+ \"Best MSE results\" + \"\\n\"+ f\"Test size(%): {ripartition * 100}\")\n",
    "    plt.tight_layout()\n",
    "    plt.show()\n",
    "\n",
    "\n",
    "'''SHOW RESULTS'''\n",
    "headers = [\"Test size(%)\",\"Best(MSE1)\", \"Best(MSE2)\",\"Mean(MSE1)\", \"Mean(MSE2)\", \"Var(MSE1)\", \"Var(MSE2)\",\"alpha1\",\"alpha2\"]\n",
    "\n",
    "print(tabulate(results, headers,  tablefmt=\"double_outline\"))\n",
    "\n"
   ]
  },
  {
   "cell_type": "code",
   "execution_count": null,
   "metadata": {},
   "outputs": [],
   "source": []
  }
 ],
 "metadata": {
  "colab": {
   "authorship_tag": "ABX9TyNhfNv01AdXHvYyGO9QKrtm",
   "provenance": []
  },
  "kernelspec": {
   "display_name": "Python 3 (ipykernel)",
   "language": "python",
   "name": "python3"
  },
  "language_info": {
   "codemirror_mode": {
    "name": "ipython",
    "version": 3
   },
   "file_extension": ".py",
   "mimetype": "text/x-python",
   "name": "python",
   "nbconvert_exporter": "python",
   "pygments_lexer": "ipython3",
   "version": "3.10.12"
  }
 },
 "nbformat": 4,
 "nbformat_minor": 4
}
