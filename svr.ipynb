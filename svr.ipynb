{
 "cells": [
  {
   "cell_type": "code",
   "execution_count": 1,
   "metadata": {},
   "outputs": [
    {
     "name": "stderr",
     "output_type": "stream",
     "text": [
      "/home/demetra/Desktop/Demetra/venv/lib/python3.12/site-packages/tqdm/auto.py:21: TqdmWarning: IProgress not found. Please update jupyter and ipywidgets. See https://ipywidgets.readthedocs.io/en/stable/user_install.html\n",
      "  from .autonotebook import tqdm as notebook_tqdm\n"
     ]
    }
   ],
   "source": [
    "import pandas as pd\n",
    "import matplotlib.pyplot as plt\n",
    "import numpy as np\n",
    "from tabulate import tabulate\n",
    "import warnings\n",
    "from sklearn_genetic import GASearchCV\n",
    "from sklearn_genetic.space import Categorical, Integer, Continuous\n",
    "from sklearn.metrics import make_scorer\n",
    "from sklearn.svm import SVR\n",
    "from sklearn.model_selection import train_test_split,  cross_validate\n",
    "from sklearn.preprocessing import StandardScaler\n",
    "import time\n",
    "import sys, os\n",
    "from sklearn.pipeline import make_pipeline\n",
    "from skopt import BayesSearchCV\n",
    "import skopt.space.space\n",
    "from sklearn.model_selection import KFold\n",
    "\n",
    "\n",
    "path = 'datasets/Dataset_2.xlsx'\n",
    "\n",
    "# Read and load dataset\n",
    "df= pd.read_excel(path, sheet_name=\"preproc\")\n",
    "\n",
    "\n",
    "\n"
   ]
  },
  {
   "cell_type": "markdown",
   "metadata": {},
   "source": [
    "INPUT DATA"
   ]
  },
  {
   "cell_type": "code",
   "execution_count": 2,
   "metadata": {},
   "outputs": [
    {
     "name": "stdout",
     "output_type": "stream",
     "text": [
      "(2905, 530)\n"
     ]
    }
   ],
   "source": [
    "X = (df.iloc[:,14:]).values\n",
    "print(X.shape)\n",
    "std_scaler = StandardScaler()"
   ]
  },
  {
   "cell_type": "markdown",
   "metadata": {},
   "source": [
    "OUTPUT DATA"
   ]
  },
  {
   "cell_type": "code",
   "execution_count": 3,
   "metadata": {},
   "outputs": [
    {
     "name": "stdout",
     "output_type": "stream",
     "text": [
      "(2905,)\n"
     ]
    }
   ],
   "source": [
    "Y = (df.iloc[:,7]).values\n",
    "print(Y.shape)"
   ]
  },
  {
   "cell_type": "markdown",
   "metadata": {},
   "source": [
    "**NRMSEPiqr**"
   ]
  },
  {
   "cell_type": "code",
   "execution_count": 4,
   "metadata": {},
   "outputs": [],
   "source": [
    "\n",
    "\n",
    "def NRMSEPiqr(observed_values, predicted_values):\n",
    "    # Calculate RMSEP\n",
    "    rmsep = np.sqrt(np.mean((observed_values - predicted_values) ** 2))\n",
    "    # Calculate Q1 (25th percentile) and Q3 (75th percentile)\n",
    "    Q1 = np.percentile(observed_values, 25)\n",
    "    Q3 = np.percentile(observed_values, 75)\n",
    "\n",
    "    # Calculate IQR\n",
    "    IQR = Q3 - Q1\n",
    "\n",
    "    return rmsep/IQR\n",
    "\n",
    "NRMSEPiqrscorer = make_scorer(NRMSEPiqr,greater_is_better=False)\n"
   ]
  },
  {
   "cell_type": "markdown",
   "metadata": {},
   "source": [
    "SVR"
   ]
  },
  {
   "cell_type": "code",
   "execution_count": null,
   "metadata": {},
   "outputs": [
    {
     "name": "stdout",
     "output_type": "stream",
     "text": [
      "0.25 ripartition\n",
      "Trial: 1\n",
      "{'Ripartition': 0.25, 'Trial': 1, 'C_bayesian': 5000.0, 'epsilon_bayesian': 0.00037812012679725154, 'bayesian_time': 108.51133227348328, 'NRMSEPiqr_bayesian': 0.3712518605354573, 'seed': 47}\n",
      "Trial: 2\n"
     ]
    }
   ],
   "source": [
    "if not sys.warnoptions:\n",
    "    warnings.simplefilter(\"ignore\")\n",
    "    os.environ[\"PYTHONWARNINGS\"] = \"ignore\" \n",
    "\n",
    "\n",
    "trials = 100\n",
    "ranndom_cv = np.random.seed(777)\n",
    "seeds = np.random.choice(trials, size=trials)\n",
    "\n",
    "ripartitions = [0.25, 0.50, 0.75]\n",
    "\n",
    "results = []  \n",
    "\n",
    "for ripartition in ripartitions:\n",
    "        \n",
    "    run_name = str(ripartition) + \" ripartition\"\n",
    "    print(run_name)\n",
    "    for i in range(trials):\n",
    "        result = {\"Ripartition\":None,\n",
    "                   \"Trial\":None,\n",
    "                    \"C_bayesian\":None,\n",
    "                    # \"C_evolutionary\":None,\n",
    "                      \"epsilon_bayesian\":None,\n",
    "                     #  \"epsilon_evolutionary\":None,\n",
    "                        \"bayesian_time\":None,\n",
    "                      #    \"evolutionary_time\" :None,\n",
    "                            \"NRMSEPiqr_bayesian\":None,\n",
    "                       #       \"NRMSEPiqr_evolutionary\":None,\n",
    "                                \"seed\": None}\n",
    "            \n",
    "\n",
    "        print(\"Trial:\",i+1)\n",
    "                \n",
    "        result[\"Ripartition\"] = ripartition\n",
    "        result[\"Trial\"] = i +1  \n",
    "        result[\"seed\"] = seeds[i]\n",
    "        X_train, X_test, Y_train, Y_test = train_test_split(X, Y, test_size=ripartition, random_state=seeds[i])\n",
    "        '''     \n",
    "        param_grid = {\n",
    "            'C': Continuous(1/10000,10),\n",
    "            \"epsilon\":Continuous(1/100000,1),\n",
    "            \"gamma\": \n",
    "            \n",
    "            }\n",
    "          '''\n",
    "        svr_regressor =  SVR(kernel=\"linear\", gamma=\"scale\")\n",
    "        \n",
    "        kf = KFold(n_splits=5, shuffle=True,random_state=ranndom_cv)\n",
    "        #sturges = int(1 + np.log(len(X_train)))    \n",
    "        '''           \n",
    "        evolved_estimator = GASearchCV(estimator=svr_regressor,\n",
    "                                cv=kf,\n",
    "                                scoring=NRMSEPiqrscorer,\n",
    "                                param_grid=param_grid,\n",
    "                                n_jobs=-1,\n",
    "                                verbose=False,\n",
    "                                population_size=10,\n",
    "                                generations=10)  \n",
    "        \n",
    "        '''\n",
    "        bayesian_estimator = BayesSearchCV(\n",
    "                                svr_regressor,\n",
    "                                {\n",
    "                                'C':skopt.space.space.Integer(1,5000,\"log-uniform\"),\n",
    "                                \"epsilon\":skopt.space.space.Real(1e-4,1,\"log-uniform\")},\n",
    "                                cv=kf,\n",
    "                                scoring=NRMSEPiqrscorer,\n",
    "                                n_jobs=-1,\n",
    "                                verbose= False,\n",
    "                                 n_iter=15 )\n",
    "            \n",
    "        '''\n",
    "        start_time = time.time()\n",
    "        evolved_estimator.fit(X_train, Y_train)\n",
    "        elapsed_time = (time.time() -start_time) #elapsed time in seconds\n",
    "\n",
    "        result[\"evolutionary_time\"] = elapsed_time\n",
    "        result[\"C_evolutionary\"] = float(evolved_estimator.best_params_[\"C\"])\n",
    "        result[\"epsilon_evolutionary\"] = float(evolved_estimator.best_params_[\"epsilon\"])\n",
    "       '''\n",
    "        start_time = time.time()\n",
    "        bayesian_estimator.fit(X_train, Y_train)\n",
    "        elapsed_time = (time.time() -start_time) #elapsed time in seconds\n",
    "\n",
    "        result[\"bayesian_time\"] = elapsed_time\n",
    "        result[\"C_bayesian\"] = float(bayesian_estimator.best_params_[\"C\"])\n",
    "        result[\"epsilon_bayesian\"] = float(bayesian_estimator.best_params_[\"epsilon\"])\n",
    "           \n",
    "        #result[\"NRMSEPiqr_evolutionary\"] = NRMSEPiqr(Y_test, evolved_estimator.predict(X_test))\n",
    "    \n",
    "\n",
    "        result[\"NRMSEPiqr_bayesian\"] =  NRMSEPiqr(Y_test,bayesian_estimator.predict(X_test))\n",
    "    \n",
    "        print(result)\n",
    "        results.append(result)"
   ]
  },
  {
   "cell_type": "code",
   "execution_count": 6,
   "metadata": {},
   "outputs": [],
   "source": [
    "\n",
    "\n",
    "df = pd.DataFrame(results)\n",
    "df.to_excel(\"SVR_Bayes.xlsx\")\n"
   ]
  },
  {
   "cell_type": "code",
   "execution_count": 7,
   "metadata": {},
   "outputs": [
    {
     "name": "stdout",
     "output_type": "stream",
     "text": [
      "Average C:  {0.25: 3761.44, 0.5: 3638.2899999999995, 0.75: 3916.7599999999984}\n",
      "Average epsilon:  {0.25: 0.019753652811608926, 0.5: 0.04035784151296806, 0.75: 0.020908433809266994}\n"
     ]
    }
   ],
   "source": [
    "from collections import Counter\n",
    "\n",
    "\n",
    "svr_C = {ripartitions[0]:0,ripartitions[1]:0,ripartitions[2]:0}\n",
    "svr_epsilon= {ripartitions[0]:0,ripartitions[1]:0,ripartitions[2]:0}\n",
    "svr_kernel = {ripartitions[0]:None,ripartitions[1]:None,ripartitions[2]:None}\n",
    "svr_gamma= {ripartitions[0]:None,ripartitions[1]:None,ripartitions[2]:None}\n",
    "\n",
    "#Compute the mean for every ripartition\n",
    "for trial in results:\n",
    "    svr_C[trial[\"Ripartition\"]]+=trial[\"C_bayesian\"]/trials\n",
    "    svr_epsilon[trial[\"Ripartition\"]]+=trial[\"epsilon_bayesian\"]/trials\n",
    "\n",
    "\n",
    "print(\"Average C: \",svr_C)\n",
    "print(\"Average epsilon: \",svr_epsilon)"
   ]
  },
  {
   "cell_type": "code",
   "execution_count": 1,
   "metadata": {},
   "outputs": [
    {
     "ename": "NameError",
     "evalue": "name 'plt' is not defined",
     "output_type": "error",
     "traceback": [
      "\u001b[0;31m---------------------------------------------------------------------------\u001b[0m",
      "\u001b[0;31mNameError\u001b[0m                                 Traceback (most recent call last)",
      "Cell \u001b[0;32mIn[1], line 4\u001b[0m\n\u001b[1;32m      1\u001b[0m results \u001b[38;5;241m=\u001b[39m []  \n\u001b[1;32m      3\u001b[0m \u001b[38;5;66;03m# create 3x1 subfigs\u001b[39;00m\n\u001b[0;32m----> 4\u001b[0m fig, axs \u001b[38;5;241m=\u001b[39m \u001b[43mplt\u001b[49m\u001b[38;5;241m.\u001b[39msubplots(\u001b[38;5;241m3\u001b[39m, \u001b[38;5;241m1\u001b[39m,figsize\u001b[38;5;241m=\u001b[39m(\u001b[38;5;241m20\u001b[39m, \u001b[38;5;241m25\u001b[39m),gridspec_kw\u001b[38;5;241m=\u001b[39m{\u001b[38;5;124m'\u001b[39m\u001b[38;5;124mhspace\u001b[39m\u001b[38;5;124m'\u001b[39m: \u001b[38;5;241m0.5\u001b[39m})\n\u001b[1;32m      5\u001b[0m fig\u001b[38;5;241m.\u001b[39msuptitle(\u001b[38;5;124mf\u001b[39m\u001b[38;5;124m'\u001b[39m\u001b[38;5;124mSVR NITOROGEN NRMSEPiqr best values test\u001b[39m\u001b[38;5;124m'\u001b[39m \u001b[38;5;241m+\u001b[39m \u001b[38;5;124m\"\u001b[39m\u001b[38;5;130;01m\\n\u001b[39;00m\u001b[38;5;124m\"\u001b[39m)\n\u001b[1;32m      6\u001b[0m axs \u001b[38;5;241m=\u001b[39m axs\u001b[38;5;241m.\u001b[39mflatten()\n",
      "\u001b[0;31mNameError\u001b[0m: name 'plt' is not defined"
     ]
    }
   ],
   "source": [
    "\n",
    "results = []  \n",
    "\n",
    "# create 3x1 subfigs\n",
    "fig, axs = plt.subplots(3, 1,figsize=(20, 25),gridspec_kw={'hspace': 0.5})\n",
    "fig.suptitle(f'SVR NITOROGEN NRMSEPiqr best values test' + \"\\n\")\n",
    "axs = axs.flatten()\n",
    "k = 0\n",
    "\n",
    "trials = 100\n",
    "random_cv = np.random.seed(777)\n",
    "seeds = np.random.choice(trials, size=trials)\n",
    "    \n",
    "\n",
    "results = []\n",
    "ripartitions = [0.25, 0.50, 0.75]\n",
    "for C, epsilon,ripartition in zip (svr_C.values(), svr_epsilon.values(),ripartitions):\n",
    "    \n",
    "    NRMSE = []\n",
    "    total_time = 0\n",
    "    for i in range(trials):\n",
    "        X_train, X_test, Y_train, Y_test = train_test_split(X, Y, test_size=ripartition, random_state=seeds[i])\n",
    "        svr_regressor = SVR(C=C,epsilon=epsilon, kernel=\"linear\", gamma=\"scale\")\n",
    "            \n",
    "        start_time = time.time()\n",
    "        svr_regressor.fit(X_train, Y_train)\n",
    "        elapsed_time = (time.time() -start_time) #elapsed time in seconds\n",
    "        \n",
    "        # Make predictions using the testing set\n",
    "        Y_pred_svr = svr_regressor.predict(X_test)\n",
    "\n",
    "        \n",
    "        NRMSE.append(NRMSEPiqr(Y_test, Y_pred_svr))\n",
    "        total_time+=elapsed_time\n",
    "        \n",
    "\n",
    "    results.append([str(ripartition *100 ),np.mean(NRMSE), np.var(NRMSE),\n",
    "                       total_time/trials, C, epsilon ])\n",
    "\n",
    "    '''PLOT THE BEST MODELS'''\n",
    "    axs[k].scatter(Y_test,Y_pred_svr, c='blue', label='Actual vs Predicted')\n",
    "    axs[k].plot([min(Y_test), max(Y_test)],\n",
    "                            [min(Y_test), max(Y_test)], '--', c='red', label='Perfect Prediction')\n",
    "    axs[k].legend()\n",
    "    axs[k].set_xlabel(\"Actual values\")\n",
    "    axs[k].set_ylabel(\"Predicted value\")\n",
    "    axs[k].set_title( f\"Test size(%): {ripartition * 100}\"+ \"\\n\" + \"Mean NRMSEPiqr: \" + str(results[k][1]) )\n",
    "    k += 1\n",
    "\n",
    "    '''SHOW RESULTS'''\n",
    "\n",
    "headers = [\"Test size(%)\", \"Mean NRMSEPiqr\", \"Var NRMSEPiqr\",\"Mean Training Time (sec)\" ,\"C\" , \"epsilon\"]\n",
    "print(tabulate(results, headers,  tablefmt=\"double_outline\"))\n"
   ]
  },
  {
   "cell_type": "code",
   "execution_count": null,
   "metadata": {},
   "outputs": [],
   "source": [
    "df = pd.DataFrame(results)\n",
    "df.to_excel(\"SVR_Results.xlsx\")"
   ]
  },
  {
   "cell_type": "code",
   "execution_count": null,
   "metadata": {},
   "outputs": [],
   "source": []
  }
 ],
 "metadata": {
  "kernelspec": {
   "display_name": "venv",
   "language": "python",
   "name": "python3"
  },
  "language_info": {
   "codemirror_mode": {
    "name": "ipython",
    "version": 3
   },
   "file_extension": ".py",
   "mimetype": "text/x-python",
   "name": "python",
   "nbconvert_exporter": "python",
   "pygments_lexer": "ipython3",
   "version": "3.12.3"
  }
 },
 "nbformat": 4,
 "nbformat_minor": 2
}
