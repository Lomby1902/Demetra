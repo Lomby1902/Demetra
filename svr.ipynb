{
 "cells": [
  {
   "cell_type": "code",
   "execution_count": null,
   "metadata": {},
   "outputs": [],
   "source": [
    "import pandas as pd\n",
    "import matplotlib.pyplot as plt\n",
    "import numpy as np\n",
    "from tabulate import tabulate\n",
    "import warnings\n",
    "from sklearn_genetic import GASearchCV\n",
    "from sklearn_genetic.space import Categorical, Integer, Continuous\n",
    "from sklearn.metrics import make_scorer\n",
    "from sklearn.svm import SVR\n",
    "from sklearn.model_selection import train_test_split,  cross_validate\n",
    "from sklearn.preprocessing import StandardScaler\n",
    "import time\n",
    "import sys, os\n",
    "from sklearn.pipeline import make_pipeline\n",
    "\n",
    "\n",
    "path = 'datasets/Dataset_2.xlsx'\n",
    "\n",
    "# Read and load dataset\n",
    "df= pd.read_excel(path, sheet_name=\"preproc\")\n",
    "\n",
    "\n",
    "\n"
   ]
  },
  {
   "cell_type": "markdown",
   "metadata": {},
   "source": [
    "INPUT DATA"
   ]
  },
  {
   "cell_type": "code",
   "execution_count": null,
   "metadata": {},
   "outputs": [],
   "source": [
    "X = (df.iloc[:,14:]).values\n",
    "print(X.shape)\n",
    "std_scaler = StandardScaler()"
   ]
  },
  {
   "cell_type": "markdown",
   "metadata": {},
   "source": [
    "OUTPUT DATA"
   ]
  },
  {
   "cell_type": "code",
   "execution_count": null,
   "metadata": {},
   "outputs": [],
   "source": [
    "Y = (df.iloc[:,7]).values\n",
    "print(Y.shape)"
   ]
  },
  {
   "cell_type": "code",
   "execution_count": null,
   "metadata": {},
   "outputs": [],
   "source": [
    "**NRMSEPiqr**"
   ]
  },
  {
   "cell_type": "code",
   "execution_count": null,
   "metadata": {},
   "outputs": [],
   "source": [
    "\n",
    "\n",
    "def NRMSEPiqr(observed_values, predicted_values):\n",
    "    # Calculate RMSEP\n",
    "    rmsep = np.sqrt(np.mean((observed_values - predicted_values) ** 2))\n",
    "    # Calculate Q1 (25th percentile) and Q3 (75th percentile)\n",
    "    Q1 = np.percentile(observed_values, 25)\n",
    "    Q3 = np.percentile(observed_values, 75)\n",
    "\n",
    "    # Calculate IQR\n",
    "    IQR = Q3 - Q1\n",
    "\n",
    "    return rmsep/IQR\n",
    "\n",
    "NRMSEPiqrscorer = make_scorer(NRMSEPiqr,greater_is_better=False)\n"
   ]
  },
  {
   "cell_type": "markdown",
   "metadata": {},
   "source": [
    "SVR"
   ]
  },
  {
   "cell_type": "code",
   "execution_count": null,
   "metadata": {},
   "outputs": [],
   "source": [
    "\n",
    "if not sys.warnoptions:\n",
    "    warnings.simplefilter(\"ignore\")\n",
    "    os.environ[\"PYTHONWARNINGS\"] = \"ignore\" \n",
    "\n",
    "#number of trials\n",
    "trials = 100\n",
    "np.random.seed(42)\n",
    "seeds = np.random.randint(trials, size=trials)\n",
    "\n",
    "ripartisions = [0.25,0.5,0.75]\n",
    "results = []  \n",
    "\n",
    "# create 3x1 subfigs\n",
    "fig, axs = plt.subplots(3, 1,figsize=(20, 25),gridspec_kw={'hspace': 0.5})\n",
    "fig.suptitle('SVR NITOROGEN NRMSEPiqr test' + \"\\n\")\n",
    "axs = axs.flatten()\n",
    "k = 0\n",
    "\n",
    "for ripartition in ripartisions:\n",
    "\n",
    "  \n",
    "        NRMSEP = []\n",
    "\n",
    "        best_NRMSEP = 100000000\n",
    "        best_data_1 = {\"Y_test\": None, \"Y_pred\": None, \"seed\": None,\"alpha\":None,\"r\":None}\n",
    "\n",
    "        run_name = str(ripartition) + \" ripartition\"\n",
    "        print(run_name)\n",
    " \n",
    "        for i in range(trials):\n",
    "            print(\"Trial:\",i+1)\n",
    "            #Ripartition in training and test and\n",
    "            X_train, X_test, Y_train, Y_test = train_test_split(X, Y, test_size=ripartition, random_state=seeds[i])\n",
    "            X_train= std_scaler.fit_transform(X_train)\n",
    "            X_test= std_scaler.transform(X_test)\n",
    "            param_grid = {'C': Continuous(1/100000,100)}\n",
    "            elastic_reg_cd = SVR()\n",
    "    \n",
    "            evolved_estimator = GASearchCV(estimator=elastic_reg_cd,\n",
    "                              cv=5,\n",
    "                              scoring=NRMSEPiqrscorer,\n",
    "                              param_grid=param_grid,\n",
    "                              n_jobs=-1,\n",
    "                              verbose=False,\n",
    "                              population_size=10,\n",
    "                              generations=10,\n",
    "                              criteria = \"min\")\n",
    "    \n",
    "            start_time = time.time()\n",
    "            evolved_estimator.fit(X_train, Y_train)\n",
    "            elapsed_time = (time.time() -start_time) #elapsed time in seconds\n",
    "    \n",
    "            # Make predictions using the testing set\n",
    "            Y_pred_elastic_cd =  evolved_estimator.best_estimator_.predict(X_test)\n",
    "    \n",
    "            NRMSEP.append(NRMSEPiqr(Y_test, Y_pred_elastic_cd))\n",
    "    \n",
    "        \n",
    "            if NRMSEP[-1] < best_NRMSEP:\n",
    "              best_NRMSEP = NRMSEP[-1]\n",
    "              best_data_1[\"Y_test\"] = Y_test\n",
    "              best_data_1[\"Y_pred\"] = Y_pred_elastic_cd\n",
    "              best_data_1[\"C\"] = float(evolved_estimator.best_params_[\"C\"])\n",
    "              best_data_1[\"seed\"] = seeds[i]\n",
    "              best_data_1[\"model\"] = evolved_estimator.best_estimator_\n",
    "              best_data_1[\"time\"] = elapsed_time\n",
    "\n",
    "    \n",
    "    \n",
    "       \n",
    "        results.append([str(ripartition *100 ), str(best_NRMSEP),\n",
    "                        (np.mean(NRMSEP)), str(np.var(NRMSEP)),\n",
    "                        str(best_data_1[\"C\"]),str(best_data_1[\"seed\"]),best_data_1[\"time\"]])\n",
    "\n",
    "        '''PLOT THE BEST MODELS'''\n",
    "        axs[k].scatter(best_data_1[\"Y_test\"], best_data_1[\"Y_pred\"], c='blue', label='Actual vs Predicted')\n",
    "        axs[k].plot([min(best_data_1[\"Y_test\"]), max(best_data_1[\"Y_test\"])],\n",
    "                    [min(best_data_1[\"Y_test\"]), max(best_data_1[\"Y_test\"])], '--', c='red', label='Perfect Prediction')\n",
    "        axs[k].legend()\n",
    "        axs[k].set_xlabel(\"Actual values\")\n",
    "        axs[k].set_ylabel(\"Predicted value\")\n",
    "        axs[k].set_title( f\"Test size(%): {ripartition * 100}\" \"\\n\" + \"BEST NRMSEPiqr: \" + results[k][1] )\n",
    "        k += 1\n",
    "\n",
    "\n",
    "'''SHOW RESULTS'''\n",
    "\n",
    "headers = [\"Test size(%)\", \"Best(NRMSEPiqr)\", \"Mean(NRMSEPiqr)\", \"Var(NRMSEPiqr)\",\"C\",\"Seed\",\"Time(sec)\"]\n",
    "print(tabulate(results, headers,  tablefmt=\"double_outline\"))\n"
   ]
  }
 ],
 "metadata": {
  "kernelspec": {
   "display_name": "venv",
   "language": "python",
   "name": "python3"
  },
  "language_info": {
   "name": "python",
   "version": "3.12.3"
  }
 },
 "nbformat": 4,
 "nbformat_minor": 2
}
