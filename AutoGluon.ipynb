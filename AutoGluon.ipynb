{
 "cells": [
  {
   "cell_type": "code",
   "execution_count": 1,
   "metadata": {
    "id": "gk2ZTxnhiikh"
   },
   "outputs": [
    {
     "name": "stderr",
     "output_type": "stream",
     "text": [
      "/home/giovanni/.local/lib/python3.10/site-packages/matplotlib/projections/__init__.py:63: UserWarning: Unable to import Axes3D. This may be due to multiple versions of Matplotlib being installed (e.g. as a system package and as a pip package). As a result, the 3D projection is not available.\n",
      "  warnings.warn(\"Unable to import Axes3D. This may be due to multiple versions of \"\n"
     ]
    }
   ],
   "source": [
    "import pandas as pd\n",
    "import numpy as np\n",
    "from autogluon.tabular import TabularDataset, TabularPredictor\n",
    "import matplotlib.pyplot as plt\n",
    "import mlflow\n",
    "\n",
    "path = 'SAMPLE_DATA_SET.xlsx'\n",
    "\n",
    "# Read and load dataset\n",
    "df= pd.read_excel(path, sheet_name=[0, 1])"
   ]
  },
  {
   "cell_type": "code",
   "execution_count": 2,
   "metadata": {
    "colab": {
     "base_uri": "https://localhost:8080/"
    },
    "executionInfo": {
     "elapsed": 24,
     "status": "ok",
     "timestamp": 1717147915396,
     "user": {
      "displayName": "Giovanni Lombardo",
      "userId": "17752443154386048654"
     },
     "user_tz": -120
    },
    "id": "kEKxctngirHJ",
    "outputId": "84032506-5968-4c21-8491-da781a05eb33"
   },
   "outputs": [
    {
     "name": "stdout",
     "output_type": "stream",
     "text": [
      "<class 'pandas.core.frame.DataFrame'>\n"
     ]
    }
   ],
   "source": [
    "X =df.get(0)\n",
    "print(type(X))\n",
    "X = (X.iloc[:,1:])\n",
    "X.columns = [i for i in range(839)]\n",
    "X = X.T"
   ]
  },
  {
   "cell_type": "code",
   "execution_count": 3,
   "metadata": {
    "colab": {
     "base_uri": "https://localhost:8080/"
    },
    "executionInfo": {
     "elapsed": 19,
     "status": "ok",
     "timestamp": 1717147915396,
     "user": {
      "displayName": "Giovanni Lombardo",
      "userId": "17752443154386048654"
     },
     "user_tz": -120
    },
    "id": "mIsVokgrisak",
    "outputId": "dc69cc0e-041f-4c99-de5b-4d868711d6dd"
   },
   "outputs": [
    {
     "name": "stdout",
     "output_type": "stream",
     "text": [
      "            0         1         2         3         4         5         6  \\\n",
      "0    0.064171  0.064834  0.065503  0.066178  0.066857  0.067542  0.068233   \n",
      "1    0.120340  0.122804  0.125383  0.128074  0.130879  0.133798  0.136829   \n",
      "2    0.108076  0.110702  0.113380  0.116108  0.118888  0.121718  0.124600   \n",
      "3    0.113359  0.115898  0.118512  0.121202  0.123967  0.126808  0.129724   \n",
      "4    0.122801  0.124837  0.126896  0.128975  0.131076  0.133198  0.135342   \n",
      "..        ...       ...       ...       ...       ...       ...       ...   \n",
      "834  0.210195  0.210618  0.211046  0.211479  0.211916  0.212359  0.212807   \n",
      "835  0.200977  0.201814  0.202604  0.203347  0.204041  0.204688  0.205288   \n",
      "836  0.201276  0.202585  0.203798  0.204916  0.205938  0.206865  0.207697   \n",
      "837  0.205481  0.206449  0.207352  0.208193  0.208969  0.209683  0.210333   \n",
      "838  0.206585  0.207204  0.207798  0.208364  0.208905  0.209418  0.209906   \n",
      "\n",
      "            7         8         9  ...       435       436       437  \\\n",
      "0    0.068929  0.069631  0.070338  ...  0.403957  0.402496  0.401000   \n",
      "1    0.139975  0.143233  0.146605  ...  0.488770  0.486515  0.484000   \n",
      "2    0.127532  0.130515  0.133549  ...  0.465802  0.464372  0.462868   \n",
      "3    0.132716  0.135783  0.138925  ...  0.461165  0.458515  0.455570   \n",
      "4    0.137507  0.139693  0.141900  ...  0.443554  0.441997  0.440363   \n",
      "..        ...       ...       ...  ...       ...       ...       ...   \n",
      "834  0.213260  0.213718  0.214181  ...  0.467717  0.467027  0.466381   \n",
      "835  0.205840  0.206344  0.206801  ...  0.462501  0.461497  0.460575   \n",
      "836  0.208433  0.209074  0.209619  ...  0.408201  0.407997  0.407956   \n",
      "837  0.210920  0.211443  0.211903  ...  0.446578  0.445397  0.444073   \n",
      "838  0.210366  0.210800  0.211208  ...  0.445941  0.444245  0.442324   \n",
      "\n",
      "          438       439       440       441       442       443  PARAM1  \n",
      "0    0.399469  0.397903  0.396303  0.394667  0.392997  0.391292  12.645  \n",
      "1    0.481225  0.478191  0.474897  0.471344  0.467531  0.463459   8.070  \n",
      "2    0.461289  0.459636  0.457907  0.456105  0.454227  0.452275   9.160  \n",
      "3    0.452328  0.448790  0.444957  0.440827  0.436401  0.431680   9.365  \n",
      "4    0.438651  0.436861  0.434994  0.433048  0.431025  0.428924   7.815  \n",
      "..        ...       ...       ...       ...       ...       ...     ...  \n",
      "834  0.465779  0.465220  0.464706  0.464235  0.463808  0.463425   3.790  \n",
      "835  0.459736  0.458980  0.458308  0.457718  0.457211  0.456787   0.870  \n",
      "836  0.408079  0.408366  0.408816  0.409430  0.410208  0.411149   5.210  \n",
      "837  0.442608  0.441001  0.439252  0.437361  0.435328  0.433153   4.415  \n",
      "838  0.440177  0.437806  0.435208  0.432386  0.429338  0.426065   6.215  \n",
      "\n",
      "[839 rows x 445 columns]\n"
     ]
    }
   ],
   "source": [
    "Y = df.get(1)\n",
    "Y = (Y.iloc[:,0:1])\n",
    "train_data = pd.concat([X,Y], axis = 1, join='outer')\n",
    "print(train_data)"
   ]
  },
  {
   "cell_type": "code",
   "execution_count": 6,
   "metadata": {
    "colab": {
     "base_uri": "https://localhost:8080/"
    },
    "executionInfo": {
     "elapsed": 201479,
     "status": "ok",
     "timestamp": 1717148116860,
     "user": {
      "displayName": "Giovanni Lombardo",
      "userId": "17752443154386048654"
     },
     "user_tz": -120
    },
    "id": "fa2kTfDRnHlW",
    "outputId": "43354164-8e05-4c8c-c95c-d2256af59725"
   },
   "outputs": [
    {
     "name": "stderr",
     "output_type": "stream",
     "text": [
      "No path specified. Models will be saved in: \"AutogluonModels/ag-20240602_091738\"\n",
      "No presets specified! To achieve strong results with AutoGluon, it is recommended to use the available presets.\n",
      "\tRecommended Presets (For more details refer to https://auto.gluon.ai/stable/tutorials/tabular/tabular-essentials.html#presets):\n",
      "\tpresets='best_quality'   : Maximize accuracy. Default time_limit=3600.\n",
      "\tpresets='high_quality'   : Strong accuracy with fast inference speed. Default time_limit=3600.\n",
      "\tpresets='good_quality'   : Good accuracy with very fast inference speed. Default time_limit=3600.\n",
      "\tpresets='medium_quality' : Fast training time, ideal for initial prototyping.\n",
      "Beginning AutoGluon training ...\n",
      "AutoGluon will save models to \"AutogluonModels/ag-20240602_091738\"\n",
      "=================== System Info ===================\n",
      "AutoGluon Version:  1.1.0\n",
      "Python Version:     3.10.12\n",
      "Operating System:   Linux\n",
      "Platform Machine:   x86_64\n",
      "Platform Version:   #35~22.04.1-Ubuntu SMP PREEMPT_DYNAMIC Tue May  7 09:00:52 UTC 2\n",
      "CPU Count:          24\n",
      "Memory Avail:       51.97 GB / 62.53 GB (83.1%)\n",
      "Disk Space Avail:   391.82 GB / 463.11 GB (84.6%)\n",
      "===================================================\n",
      "Train Data Rows:    839\n",
      "Train Data Columns: 444\n",
      "Label Column:       PARAM1\n",
      "Problem Type:       regression\n",
      "Preprocessing data ...\n",
      "Using Feature Generators to preprocess the data ...\n",
      "Fitting AutoMLPipelineFeatureGenerator...\n",
      "\tAvailable Memory:                    53218.06 MB\n",
      "\tTrain Data (Original)  Memory Usage: 2.84 MB (0.0% of available memory)\n",
      "\tInferring data type of each feature based on column values. Set feature_metadata_in to manually specify special dtypes of the features.\n",
      "\tStage 1 Generators:\n",
      "\t\tFitting AsTypeFeatureGenerator...\n",
      "\tStage 2 Generators:\n",
      "\t\tFitting FillNaFeatureGenerator...\n",
      "\tStage 3 Generators:\n",
      "\t\tFitting IdentityFeatureGenerator...\n",
      "\tStage 4 Generators:\n",
      "\t\tFitting DropUniqueFeatureGenerator...\n",
      "\tStage 5 Generators:\n",
      "\t\tFitting DropDuplicatesFeatureGenerator...\n",
      "\tTypes of features in original data (raw dtype, special dtypes):\n",
      "\t\t('float', []) : 444 | ['0', '1', '2', '3', '4', ...]\n",
      "\tTypes of features in processed data (raw dtype, special dtypes):\n",
      "\t\t('float', []) : 444 | ['0', '1', '2', '3', '4', ...]\n",
      "\t0.4s = Fit runtime\n",
      "\t444 features in original data used to generate 444 features in processed data.\n",
      "\tTrain Data (Processed) Memory Usage: 2.84 MB (0.0% of available memory)\n",
      "Data preprocessing and feature engineering runtime = 0.46s ...\n",
      "AutoGluon will gauge predictive performance using evaluation metric: 'mean_squared_error'\n",
      "\tThis metric's sign has been flipped to adhere to being higher_is_better. The metric score can be multiplied by -1 to get the metric value.\n",
      "\tTo change this, specify the eval_metric parameter of Predictor()\n",
      "Automatically generating train/validation split with holdout_frac=0.2, Train Rows: 671, Val Rows: 168\n",
      "User-specified model hyperparameters to be fit:\n",
      "{\n",
      "\t'NN_TORCH': {},\n",
      "\t'GBM': [{'extra_trees': True, 'ag_args': {'name_suffix': 'XT'}}, {}, 'GBMLarge'],\n",
      "\t'CAT': {},\n",
      "\t'XGB': {},\n",
      "\t'FASTAI': {},\n",
      "\t'RF': [{'criterion': 'gini', 'ag_args': {'name_suffix': 'Gini', 'problem_types': ['binary', 'multiclass']}}, {'criterion': 'entropy', 'ag_args': {'name_suffix': 'Entr', 'problem_types': ['binary', 'multiclass']}}, {'criterion': 'squared_error', 'ag_args': {'name_suffix': 'MSE', 'problem_types': ['regression', 'quantile']}}],\n",
      "\t'XT': [{'criterion': 'gini', 'ag_args': {'name_suffix': 'Gini', 'problem_types': ['binary', 'multiclass']}}, {'criterion': 'entropy', 'ag_args': {'name_suffix': 'Entr', 'problem_types': ['binary', 'multiclass']}}, {'criterion': 'squared_error', 'ag_args': {'name_suffix': 'MSE', 'problem_types': ['regression', 'quantile']}}],\n",
      "\t'KNN': [{'weights': 'uniform', 'ag_args': {'name_suffix': 'Unif'}}, {'weights': 'distance', 'ag_args': {'name_suffix': 'Dist'}}],\n",
      "}\n",
      "Fitting 11 L1 models ...\n",
      "Fitting model: KNeighborsUnif ...\n",
      "\t-2.5243\t = Validation score   (-mean_squared_error)\n",
      "\t0.03s\t = Training   runtime\n",
      "\t0.01s\t = Validation runtime\n",
      "Fitting model: KNeighborsDist ...\n",
      "\t-2.6636\t = Validation score   (-mean_squared_error)\n",
      "\t0.02s\t = Training   runtime\n",
      "\t0.01s\t = Validation runtime\n",
      "Fitting model: LightGBMXT ...\n",
      "\t-2.1226\t = Validation score   (-mean_squared_error)\n",
      "\t0.33s\t = Training   runtime\n",
      "\t0.0s\t = Validation runtime\n",
      "Fitting model: LightGBM ...\n",
      "\t-2.215\t = Validation score   (-mean_squared_error)\n",
      "\t0.61s\t = Training   runtime\n",
      "\t0.0s\t = Validation runtime\n",
      "Fitting model: RandomForestMSE ...\n",
      "\t-2.2923\t = Validation score   (-mean_squared_error)\n",
      "\t2.07s\t = Training   runtime\n",
      "\t0.02s\t = Validation runtime\n",
      "Fitting model: CatBoost ...\n",
      "\t-2.1524\t = Validation score   (-mean_squared_error)\n",
      "\t5.08s\t = Training   runtime\n",
      "\t0.0s\t = Validation runtime\n",
      "Fitting model: ExtraTreesMSE ...\n",
      "\t-2.2281\t = Validation score   (-mean_squared_error)\n",
      "\t0.47s\t = Training   runtime\n",
      "\t0.02s\t = Validation runtime\n",
      "Fitting model: NeuralNetFastAI ...\n",
      "\t-2.0067\t = Validation score   (-mean_squared_error)\n",
      "\t0.58s\t = Training   runtime\n",
      "\t0.01s\t = Validation runtime\n",
      "Fitting model: XGBoost ...\n",
      "\t-2.193\t = Validation score   (-mean_squared_error)\n",
      "\t3.21s\t = Training   runtime\n",
      "\t0.02s\t = Validation runtime\n",
      "Fitting model: NeuralNetTorch ...\n",
      "\t-1.8791\t = Validation score   (-mean_squared_error)\n",
      "\t2.94s\t = Training   runtime\n",
      "\t0.01s\t = Validation runtime\n",
      "Fitting model: LightGBMLarge ...\n",
      "\t-2.3808\t = Validation score   (-mean_squared_error)\n",
      "\t4.03s\t = Training   runtime\n",
      "\t0.0s\t = Validation runtime\n",
      "Fitting model: WeightedEnsemble_L2 ...\n",
      "\tEnsemble Weights: {'NeuralNetTorch': 0.7, 'NeuralNetFastAI': 0.3}\n",
      "\t-1.8499\t = Validation score   (-mean_squared_error)\n",
      "\t0.03s\t = Training   runtime\n",
      "\t0.0s\t = Validation runtime\n",
      "AutoGluon training complete, total runtime = 20.08s ... Best model: \"WeightedEnsemble_L2\"\n",
      "TabularPredictor saved. To load, use: predictor = TabularPredictor.load(\"AutogluonModels/ag-20240602_091738\")\n"
     ]
    }
   ],
   "source": [
    "dataset = TabularDataset(train_data)\n",
    "mlflow.set_experiment(\"AutoGluon\")\n",
    "mlflow.set_tracking_uri(uri=\"http://127.0.0.1:5000\")\n",
    "with mlflow.start_run(run_name=\"AutoGluon\"):\n",
    "    predictor = TabularPredictor(label =\"PARAM1\",problem_type=\"regression\",eval_metric = \"mean_squared_error\").fit(dataset)\n"
   ]
  },
  {
   "cell_type": "code",
   "execution_count": null,
   "metadata": {
    "colab": {
     "base_uri": "https://localhost:8080/"
    },
    "executionInfo": {
     "elapsed": 634,
     "status": "ok",
     "timestamp": 1717148117463,
     "user": {
      "displayName": "Giovanni Lombardo",
      "userId": "17752443154386048654"
     },
     "user_tz": -120
    },
    "id": "-2fPWhnWoNwh",
    "outputId": "18b49d23-e2bd-44ff-cee5-edaea90a3f17"
   },
   "outputs": [],
   "source": [
    "predictor.fit_summary()"
   ]
  },
  {
   "cell_type": "code",
   "execution_count": null,
   "metadata": {
    "colab": {
     "base_uri": "https://localhost:8080/"
    },
    "executionInfo": {
     "elapsed": 9,
     "status": "ok",
     "timestamp": 1717148117463,
     "user": {
      "displayName": "Giovanni Lombardo",
      "userId": "17752443154386048654"
     },
     "user_tz": -120
    },
    "id": "VdW7YYRG9ZUe",
    "outputId": "e7ec5d44-9dcd-45c1-c84a-1b49a0bff0cc"
   },
   "outputs": [],
   "source": [
    "!nvcc --version"
   ]
  }
 ],
 "metadata": {
  "colab": {
   "authorship_tag": "ABX9TyMHf55gQ09avseVDw4lAN/b",
   "provenance": []
  },
  "kernelspec": {
   "display_name": "Python 3 (ipykernel)",
   "language": "python",
   "name": "python3"
  },
  "language_info": {
   "codemirror_mode": {
    "name": "ipython",
    "version": 3
   },
   "file_extension": ".py",
   "mimetype": "text/x-python",
   "name": "python",
   "nbconvert_exporter": "python",
   "pygments_lexer": "ipython3",
   "version": "3.10.12"
  }
 },
 "nbformat": 4,
 "nbformat_minor": 1
}
