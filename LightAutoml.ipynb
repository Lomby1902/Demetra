{
 "cells": [
  {
   "cell_type": "code",
   "execution_count": 38,
   "id": "735c6c12",
   "metadata": {},
   "outputs": [
    {
     "name": "stdout",
     "output_type": "stream",
     "text": [
      "<class 'pandas.core.frame.DataFrame'>\n"
     ]
    }
   ],
   "source": [
    "import pandas as pd\n",
    "from sklearn.metrics import f1_score\n",
    "\n",
    "from lightautoml.automl.presets.tabular_presets import TabularAutoML\n",
    "from lightautoml.tasks import Task\n",
    "from sklearn.model_selection import train_test_split\n",
    "import mlflow\n",
    "from sklearn.metrics import mean_squared_error\n",
    "\n",
    "mlflow.set_experiment(\"LightAutoML\")\n",
    "mlflow.set_tracking_uri(uri=\"http://127.0.0.1:5000\")\n",
    "\n",
    "path = 'SAMPLE_DATA_SET.xlsx'\n",
    "\n",
    "# Read and load dataset\n",
    "df= pd.read_excel(path, sheet_name=[0, 1])\n",
    "\n",
    "X =df.get(0)\n",
    "print(type(X))\n",
    "X = (X.iloc[:,1:])\n",
    "X.columns = [i for i in range(839)]\n",
    "X = X.T\n",
    "Y = df.get(1)\n",
    "Y = (Y.iloc[:,0:1])\n",
    "train_data = pd.concat([X,Y], axis = 1, join='outer')\n",
    "train_data.columns = [str(i) for i in range (444)] + [\"PARAM1\"]\n",
    "\n",
    "X_test = train_data.iloc[0:210,:-1]\n",
    "X_train = train_data.iloc[210:,:]\n",
    "Y_test = train_data.iloc[0:210,-1:]\n",
    "\n",
    "\n"
   ]
  },
  {
   "cell_type": "code",
   "execution_count": 67,
   "id": "a47ee4fa",
   "metadata": {
    "scrolled": true
   },
   "outputs": [],
   "source": [
    "RD = ReportDeco(output_path = 'tabularAutoML_model_report')\n",
    "\n",
    "automl = TabularAutoML(\n",
    "    task = Task(\n",
    "        name = 'reg',\n",
    "        metric = 'mse'\n",
    "    )\n",
    ")\n",
    "with mlflow.start_run(run_name=\"Light AutoML 0.25 rip\"):\n",
    "    oof_pred = automl.fit_predict(\n",
    "        X_train,\n",
    "        roles = {'target': \"PARAM1\"}\n",
    "    )\n",
    "    test_pred = automl.predict(X_test)\n",
    "\n"
   ]
  },
  {
   "cell_type": "code",
   "execution_count": 60,
   "id": "6b76dcd5",
   "metadata": {},
   "outputs": [
    {
     "name": "stdout",
     "output_type": "stream",
     "text": [
      "Final prediction for new objects (level 0) = \n",
      "\t 0.68682 * (5 averaged models Lvl_0_Pipe_0_Mod_0_LinearL2) +\n",
      "\t 0.31318 * (5 averaged models Lvl_0_Pipe_1_Mod_2_CatBoost) \n"
     ]
    }
   ],
   "source": [
    "print(automl.create_model_str_desc())"
   ]
  },
  {
   "cell_type": "code",
   "execution_count": null,
   "id": "81b8c03b",
   "metadata": {},
   "outputs": [],
   "source": []
  }
 ],
 "metadata": {
  "kernelspec": {
   "display_name": "Python 3 (ipykernel)",
   "language": "python",
   "name": "python3"
  },
  "language_info": {
   "codemirror_mode": {
    "name": "ipython",
    "version": 3
   },
   "file_extension": ".py",
   "mimetype": "text/x-python",
   "name": "python",
   "nbconvert_exporter": "python",
   "pygments_lexer": "ipython3",
   "version": "3.10.12"
  }
 },
 "nbformat": 4,
 "nbformat_minor": 5
}
